{
 "cells": [
  {
   "cell_type": "code",
   "execution_count": 20,
   "metadata": {},
   "outputs": [],
   "source": [
    "import numpy as np\n",
    "import pandas as pd\n",
    "import tensorflow as tf\n",
    "from tensorflow import keras\n",
    "import matplotlib.pyplot as plt\n",
    "import datetime\n",
    "import seaborn as sns"
   ]
  },
  {
   "cell_type": "markdown",
   "metadata": {},
   "source": [
    "<center><font size=\"+2\">Importing and splitting the data into validation set</font></center>"
   ]
  },
  {
   "cell_type": "code",
   "execution_count": 3,
   "metadata": {},
   "outputs": [],
   "source": [
    "#import data from csv into DF\n",
    "\n",
    "train = pd.read_csv('train.csv')\n",
    "test = pd.read_csv('test.csv', index_col='id')\n",
    "test_for_sub = pd.read_csv('test.csv')"
   ]
  },
  {
   "cell_type": "code",
   "execution_count": 4,
   "metadata": {},
   "outputs": [
    {
     "data": {
      "text/plain": [
       "(60000, 785)"
      ]
     },
     "execution_count": 4,
     "metadata": {},
     "output_type": "execute_result"
    }
   ],
   "source": [
    "train.shape"
   ]
  },
  {
   "cell_type": "code",
   "execution_count": 9,
   "metadata": {},
   "outputs": [],
   "source": [
    "#splitting out validation set and dividing by 255 to normalize dataset\n",
    "\n",
    "x_train_full = train.drop(columns='label', axis=1)\n",
    "y_train_full = train['label']\n",
    "\n",
    "x_valid, x_train = x_train_full[:5000] / 255.0, x_train_full[5000:] / 255.0\n",
    "y_valid, y_train = y_train_full[:5000], y_train_full[5000:]\n",
    "x_test = test / 255"
   ]
  },
  {
   "cell_type": "markdown",
   "metadata": {},
   "source": [
    "<center><font size=\"+2\">Building the DNN</font></center>"
   ]
  },
  {
   "cell_type": "code",
   "execution_count": 24,
   "metadata": {},
   "outputs": [],
   "source": [
    "#building the layers\n",
    "\n",
    "model = keras.models.Sequential()\n",
    "model.add(keras.layers.Dense(300, activation=\"relu\"))\n",
    "model.add(keras.layers.Dense(200, activation=\"relu\"))\n",
    "model.add(keras.layers.Dense(100, activation=\"relu\"))\n",
    "model.add(keras.layers.Dense(10, activation=\"softmax\"))"
   ]
  },
  {
   "cell_type": "code",
   "execution_count": 25,
   "metadata": {},
   "outputs": [],
   "source": [
    "#compiling the model\n",
    "\n",
    "model.compile(loss=\"sparse_categorical_crossentropy\",\n",
    "             optimizer=\"sgd\",\n",
    "             metrics=[\"accuracy\"])"
   ]
  },
  {
   "cell_type": "code",
   "execution_count": 26,
   "metadata": {},
   "outputs": [],
   "source": [
    "#setting early stop parameter\n",
    "\n",
    "early_stopping_cb = keras.callbacks.EarlyStopping(patience=10, restore_best_weights=True)"
   ]
  },
  {
   "cell_type": "code",
   "execution_count": 27,
   "metadata": {},
   "outputs": [
    {
     "name": "stdout",
     "output_type": "stream",
     "text": [
      "Epoch 1/50\n",
      "1719/1719 [==============================] - 2s 1ms/step - loss: 1.1462 - accuracy: 0.7150 - val_loss: 0.3073 - val_accuracy: 0.9254\n",
      "Epoch 2/50\n",
      "1719/1719 [==============================] - 2s 986us/step - loss: 0.1540 - accuracy: 0.9536 - val_loss: 0.2698 - val_accuracy: 0.9348\n",
      "Epoch 3/50\n",
      "1719/1719 [==============================] - 2s 1ms/step - loss: 0.1100 - accuracy: 0.9656 - val_loss: 0.2619 - val_accuracy: 0.9352\n",
      "Epoch 4/50\n",
      "1719/1719 [==============================] - 2s 998us/step - loss: 0.0984 - accuracy: 0.9705 - val_loss: 0.2594 - val_accuracy: 0.9388\n",
      "Epoch 5/50\n",
      "1719/1719 [==============================] - 2s 1ms/step - loss: 0.0821 - accuracy: 0.9751 - val_loss: 0.2667 - val_accuracy: 0.9352\n",
      "Epoch 6/50\n",
      "1719/1719 [==============================] - 2s 1ms/step - loss: 0.0742 - accuracy: 0.9774 - val_loss: 0.2724 - val_accuracy: 0.9362\n",
      "Epoch 7/50\n",
      "1719/1719 [==============================] - 2s 980us/step - loss: 0.0634 - accuracy: 0.9812 - val_loss: 0.2593 - val_accuracy: 0.9372\n",
      "Epoch 8/50\n",
      "1719/1719 [==============================] - 2s 989us/step - loss: 0.0585 - accuracy: 0.9829 - val_loss: 0.2385 - val_accuracy: 0.9432\n",
      "Epoch 9/50\n",
      "1719/1719 [==============================] - 2s 1ms/step - loss: 0.0548 - accuracy: 0.9843 - val_loss: 0.2398 - val_accuracy: 0.9448\n",
      "Epoch 10/50\n",
      "1719/1719 [==============================] - 2s 1ms/step - loss: 0.0484 - accuracy: 0.9865 - val_loss: 0.2325 - val_accuracy: 0.9452\n",
      "Epoch 11/50\n",
      "1719/1719 [==============================] - 2s 1ms/step - loss: 0.0453 - accuracy: 0.9870 - val_loss: 0.2459 - val_accuracy: 0.9426\n",
      "Epoch 12/50\n",
      "1719/1719 [==============================] - 2s 1ms/step - loss: 0.0417 - accuracy: 0.9884 - val_loss: 0.2465 - val_accuracy: 0.9424\n",
      "Epoch 13/50\n",
      "1719/1719 [==============================] - 2s 1ms/step - loss: 0.0373 - accuracy: 0.9894 - val_loss: 0.2362 - val_accuracy: 0.9462\n",
      "Epoch 14/50\n",
      "1719/1719 [==============================] - 2s 1ms/step - loss: 0.0341 - accuracy: 0.9905 - val_loss: 0.2420 - val_accuracy: 0.9474\n",
      "Epoch 15/50\n",
      "1719/1719 [==============================] - 2s 1ms/step - loss: 0.0312 - accuracy: 0.9915 - val_loss: 0.2469 - val_accuracy: 0.9438\n",
      "Epoch 16/50\n",
      "1719/1719 [==============================] - 2s 1ms/step - loss: 0.0292 - accuracy: 0.9916 - val_loss: 0.2441 - val_accuracy: 0.9470\n",
      "Epoch 17/50\n",
      "1719/1719 [==============================] - 2s 1ms/step - loss: 0.0268 - accuracy: 0.9930 - val_loss: 0.2414 - val_accuracy: 0.9478\n",
      "Epoch 18/50\n",
      "1719/1719 [==============================] - 2s 1ms/step - loss: 0.0256 - accuracy: 0.9932 - val_loss: 0.2342 - val_accuracy: 0.9510\n",
      "Epoch 19/50\n",
      "1719/1719 [==============================] - 2s 1ms/step - loss: 0.0215 - accuracy: 0.9945 - val_loss: 0.2465 - val_accuracy: 0.9454\n",
      "Epoch 20/50\n",
      "1719/1719 [==============================] - 2s 1ms/step - loss: 0.0207 - accuracy: 0.9949 - val_loss: 0.2488 - val_accuracy: 0.9458\n",
      "Total Time:  0:00:36.822325\n"
     ]
    }
   ],
   "source": [
    "#fitting the model and tracking how long it takes\n",
    "\n",
    "start = datetime.datetime.now()\n",
    "\n",
    "history = model.fit(x_train, y_train, epochs=50, validation_data=(x_valid, y_valid), callbacks=[early_stopping_cb])\n",
    "\n",
    "end = datetime.datetime.now()\n",
    "\n",
    "print(\"Total Time: \", end-start)"
   ]
  },
  {
   "cell_type": "code",
   "execution_count": 18,
   "metadata": {},
   "outputs": [
    {
     "name": "stdout",
     "output_type": "stream",
     "text": [
      "Model: \"sequential\"\n",
      "_________________________________________________________________\n",
      "Layer (type)                 Output Shape              Param #   \n",
      "=================================================================\n",
      "dense (Dense)                (None, 300)               235500    \n",
      "_________________________________________________________________\n",
      "dense_1 (Dense)              (None, 200)               60200     \n",
      "_________________________________________________________________\n",
      "dense_2 (Dense)              (None, 100)               20100     \n",
      "_________________________________________________________________\n",
      "dense_3 (Dense)              (None, 10)                1010      \n",
      "=================================================================\n",
      "Total params: 316,810\n",
      "Trainable params: 316,810\n",
      "Non-trainable params: 0\n",
      "_________________________________________________________________\n"
     ]
    }
   ],
   "source": [
    "model.summary()"
   ]
  },
  {
   "cell_type": "code",
   "execution_count": 31,
   "metadata": {},
   "outputs": [
    {
     "data": {
      "image/png": "[encoded data removed]",
      "text/plain": [
       "<Figure size 1080x720 with 1 Axes>"
      ]
     },
     "metadata": {
      "needs_background": "light"
     },
     "output_type": "display_data"
    }
   ],
   "source": [
    "pd.DataFrame(history.history).plot(figsize=(15,10))\n",
    "plt.grid(True)\n",
    "plt.gca().set_ylim(0,1)\n",
    "plt.show()"
   ]
  },
  {
   "cell_type": "code",
   "execution_count": 30,
   "metadata": {},
   "outputs": [],
   "source": [
    "predictions = np.argmax(model.predict(x_test), axis=-1)"
   ]
  },
  {
   "cell_type": "code",
   "execution_count": null,
   "metadata": {},
   "outputs": [],
   "source": [
    "df = pd.DataFrame({\n",
    "        'id':test_for_sub['id'],\n",
    "        'label': predictions\n",
    "         })\n",
    "\n",
    "df.to_csv('submission.csv', index=False)"
   ]
  },
  {
   "cell_type": "markdown",
   "metadata": {},
   "source": [
    "<center><font size=\"+2\">Building the 2nd DNN</font></center>"
   ]
  },
  {
   "cell_type": "code",
   "execution_count": 32,
   "metadata": {},
   "outputs": [],
   "source": [
    "#building the layers\n",
    "\n",
    "model2 = keras.models.Sequential()\n",
    "model2.add(keras.layers.BatchNormalization())\n",
    "model2.add(keras.layers.Dense(150, activation=\"elu\", kernel_initializer=\"he_normal\"))\n",
    "model2.add(keras.layers.BatchNormalization())\n",
    "model2.add(keras.layers.Dense(150, activation=\"elu\", kernel_initializer=\"he_normal\"))\n",
    "model2.add(keras.layers.BatchNormalization())\n",
    "model2.add(keras.layers.Dense(150, activation=\"elu\", kernel_initializer=\"he_normal\"))\n",
    "model2.add(keras.layers.BatchNormalization())\n",
    "model2.add(keras.layers.Dense(10, activation=\"softmax\"))"
   ]
  },
  {
   "cell_type": "code",
   "execution_count": 33,
   "metadata": {},
   "outputs": [],
   "source": [
    "optimizer = keras.optimizers.SGD(lr=0.001, momentum=0.9, nesterov=True)"
   ]
  },
  {
   "cell_type": "code",
   "execution_count": 34,
   "metadata": {},
   "outputs": [],
   "source": [
    "#compiling the model\n",
    "\n",
    "model2.compile(loss=\"sparse_categorical_crossentropy\",\n",
    "             optimizer=optimizer,\n",
    "             metrics=[\"accuracy\"])"
   ]
  },
  {
   "cell_type": "code",
   "execution_count": 35,
   "metadata": {},
   "outputs": [
    {
     "name": "stdout",
     "output_type": "stream",
     "text": [
      "Epoch 1/50\n",
      "1719/1719 [==============================] - 4s 2ms/step - loss: 0.4876 - accuracy: 0.8523 - val_loss: 0.2570 - val_accuracy: 0.9352\n",
      "Epoch 2/50\n",
      "1719/1719 [==============================] - 3s 2ms/step - loss: 0.1287 - accuracy: 0.9611 - val_loss: 0.2442 - val_accuracy: 0.9366\n",
      "Epoch 3/50\n",
      "1719/1719 [==============================] - 3s 2ms/step - loss: 0.1045 - accuracy: 0.9690 - val_loss: 0.2440 - val_accuracy: 0.9398\n",
      "Epoch 4/50\n",
      "1719/1719 [==============================] - 3s 2ms/step - loss: 0.0862 - accuracy: 0.9738 - val_loss: 0.2351 - val_accuracy: 0.9446\n",
      "Epoch 5/50\n",
      "1719/1719 [==============================] - 3s 2ms/step - loss: 0.0742 - accuracy: 0.9776 - val_loss: 0.2317 - val_accuracy: 0.9450\n",
      "Epoch 6/50\n",
      "1719/1719 [==============================] - 3s 2ms/step - loss: 0.0632 - accuracy: 0.9813 - val_loss: 0.2154 - val_accuracy: 0.9498\n",
      "Epoch 7/50\n",
      "1719/1719 [==============================] - 3s 2ms/step - loss: 0.0607 - accuracy: 0.9823 - val_loss: 0.2246 - val_accuracy: 0.9476\n",
      "Epoch 8/50\n",
      "1719/1719 [==============================] - 3s 2ms/step - loss: 0.0547 - accuracy: 0.9834 - val_loss: 0.2345 - val_accuracy: 0.9460\n",
      "Epoch 9/50\n",
      "1719/1719 [==============================] - 3s 2ms/step - loss: 0.0483 - accuracy: 0.9854 - val_loss: 0.2228 - val_accuracy: 0.9488\n",
      "Epoch 10/50\n",
      "1719/1719 [==============================] - 3s 2ms/step - loss: 0.0443 - accuracy: 0.9868 - val_loss: 0.2181 - val_accuracy: 0.9512\n",
      "Epoch 11/50\n",
      "1719/1719 [==============================] - 3s 2ms/step - loss: 0.0411 - accuracy: 0.9884 - val_loss: 0.2177 - val_accuracy: 0.9508\n",
      "Epoch 12/50\n",
      "1719/1719 [==============================] - 3s 2ms/step - loss: 0.0370 - accuracy: 0.9897 - val_loss: 0.2209 - val_accuracy: 0.9486\n",
      "Epoch 13/50\n",
      "1719/1719 [==============================] - 3s 2ms/step - loss: 0.0359 - accuracy: 0.9890 - val_loss: 0.2209 - val_accuracy: 0.9508\n",
      "Epoch 14/50\n",
      "1719/1719 [==============================] - 3s 2ms/step - loss: 0.0322 - accuracy: 0.9906 - val_loss: 0.2091 - val_accuracy: 0.9530\n",
      "Epoch 15/50\n",
      "1719/1719 [==============================] - 3s 2ms/step - loss: 0.0286 - accuracy: 0.9919 - val_loss: 0.2083 - val_accuracy: 0.9536\n",
      "Epoch 16/50\n",
      "1719/1719 [==============================] - 3s 2ms/step - loss: 0.0288 - accuracy: 0.9913 - val_loss: 0.2196 - val_accuracy: 0.9518\n",
      "Epoch 17/50\n",
      "1719/1719 [==============================] - 3s 2ms/step - loss: 0.0267 - accuracy: 0.9923 - val_loss: 0.2206 - val_accuracy: 0.9530\n",
      "Epoch 18/50\n",
      "1719/1719 [==============================] - 3s 2ms/step - loss: 0.0259 - accuracy: 0.9916 - val_loss: 0.2229 - val_accuracy: 0.9536\n",
      "Epoch 19/50\n",
      "1719/1719 [==============================] - 3s 2ms/step - loss: 0.0220 - accuracy: 0.9936 - val_loss: 0.2118 - val_accuracy: 0.9568\n",
      "Epoch 20/50\n",
      "1719/1719 [==============================] - 3s 2ms/step - loss: 0.0213 - accuracy: 0.9941 - val_loss: 0.2154 - val_accuracy: 0.9566\n",
      "Epoch 21/50\n",
      "1719/1719 [==============================] - 3s 2ms/step - loss: 0.0230 - accuracy: 0.9932 - val_loss: 0.2251 - val_accuracy: 0.9538\n",
      "Epoch 22/50\n",
      "1719/1719 [==============================] - 3s 2ms/step - loss: 0.0204 - accuracy: 0.9939 - val_loss: 0.2230 - val_accuracy: 0.9544\n",
      "Epoch 23/50\n",
      "1719/1719 [==============================] - 3s 2ms/step - loss: 0.0204 - accuracy: 0.9938 - val_loss: 0.2185 - val_accuracy: 0.9586\n",
      "Epoch 24/50\n",
      "1719/1719 [==============================] - 3s 2ms/step - loss: 0.0180 - accuracy: 0.9951 - val_loss: 0.2188 - val_accuracy: 0.9590\n",
      "Epoch 25/50\n",
      "1719/1719 [==============================] - 3s 2ms/step - loss: 0.0179 - accuracy: 0.9948 - val_loss: 0.2232 - val_accuracy: 0.9534\n",
      "Total Time:  0:01:11.681635\n"
     ]
    }
   ],
   "source": [
    "#fitting the model and tracking how long it takes\n",
    "\n",
    "start = datetime.datetime.now()\n",
    "\n",
    "history2 = model2.fit(x_train, y_train, epochs=50, validation_data=(x_valid, y_valid), callbacks=[early_stopping_cb])\n",
    "\n",
    "end = datetime.datetime.now()\n",
    "\n",
    "print(\"Total Time: \", end-start)"
   ]
  },
  {
   "cell_type": "code",
   "execution_count": 36,
   "metadata": {},
   "outputs": [
    {
     "name": "stdout",
     "output_type": "stream",
     "text": [
      "Model: \"sequential_2\"\n",
      "_________________________________________________________________\n",
      "Layer (type)                 Output Shape              Param #   \n",
      "=================================================================\n",
      "batch_normalization (BatchNo (None, 784)               3136      \n",
      "_________________________________________________________________\n",
      "dense_8 (Dense)              (None, 150)               117750    \n",
      "_________________________________________________________________\n",
      "batch_normalization_1 (Batch (None, 150)               600       \n",
      "_________________________________________________________________\n",
      "dense_9 (Dense)              (None, 150)               22650     \n",
      "_________________________________________________________________\n",
      "batch_normalization_2 (Batch (None, 150)               600       \n",
      "_________________________________________________________________\n",
      "dense_10 (Dense)             (None, 150)               22650     \n",
      "_________________________________________________________________\n",
      "batch_normalization_3 (Batch (None, 150)               600       \n",
      "_________________________________________________________________\n",
      "dense_11 (Dense)             (None, 10)                1510      \n",
      "=================================================================\n",
      "Total params: 169,496\n",
      "Trainable params: 167,028\n",
      "Non-trainable params: 2,468\n",
      "_________________________________________________________________\n"
     ]
    }
   ],
   "source": [
    "model2.summary()"
   ]
  },
  {
   "cell_type": "code",
   "execution_count": 37,
   "metadata": {},
   "outputs": [
    {
     "data": {
      "image/png": "[encoded data removed]",
      "text/plain": [
       "<Figure size 1080x720 with 1 Axes>"
      ]
     },
     "metadata": {
      "needs_background": "light"
     },
     "output_type": "display_data"
    }
   ],
   "source": [
    "pd.DataFrame(history2.history).plot(figsize=(15,10))\n",
    "plt.grid(True)\n",
    "plt.gca().set_ylim(0,1)\n",
    "plt.show()"
   ]
  },
  {
   "cell_type": "code",
   "execution_count": 38,
   "metadata": {},
   "outputs": [],
   "source": [
    "predictions2 = np.argmax(model2.predict(x_test), axis=-1)"
   ]
  },
  {
   "cell_type": "code",
   "execution_count": 39,
   "metadata": {},
   "outputs": [],
   "source": [
    "df2 = pd.DataFrame({\n",
    "        'id':test_for_sub['id'],\n",
    "        'label': predictions2\n",
    "         })\n",
    "\n",
    "df2.to_csv('submission.csv', index=False)"
   ]
  },
  {
   "cell_type": "markdown",
   "metadata": {},
   "source": [
    "<center><font size=\"+2\">Building the 3rd DNN</font></center>"
   ]
  },
  {
   "cell_type": "code",
   "execution_count": 40,
   "metadata": {},
   "outputs": [],
   "source": [
    "#building the layers\n",
    "\n",
    "model3 = keras.models.Sequential()\n",
    "model3.add(keras.layers.BatchNormalization())\n",
    "model3.add(keras.layers.Dense(300, activation=\"elu\", kernel_initializer=\"he_normal\"))\n",
    "model3.add(keras.layers.BatchNormalization())\n",
    "model3.add(keras.layers.Dense(250, activation=\"elu\", kernel_initializer=\"he_normal\"))\n",
    "model3.add(keras.layers.BatchNormalization())\n",
    "model3.add(keras.layers.Dense(200, activation=\"elu\", kernel_initializer=\"he_normal\"))\n",
    "model3.add(keras.layers.BatchNormalization())\n",
    "model3.add(keras.layers.Dense(150, activation=\"elu\", kernel_initializer=\"he_normal\"))\n",
    "model3.add(keras.layers.BatchNormalization())\n",
    "model3.add(keras.layers.Dense(100, activation=\"elu\", kernel_initializer=\"he_normal\"))\n",
    "model3.add(keras.layers.BatchNormalization())\n",
    "model3.add(keras.layers.Dense(10, activation=\"softmax\"))"
   ]
  },
  {
   "cell_type": "code",
   "execution_count": 41,
   "metadata": {},
   "outputs": [],
   "source": [
    "#compiling the model\n",
    "\n",
    "model3.compile(loss=\"sparse_categorical_crossentropy\",\n",
    "             optimizer=optimizer,\n",
    "             metrics=[\"accuracy\"])"
   ]
  },
  {
   "cell_type": "code",
   "execution_count": 42,
   "metadata": {},
   "outputs": [
    {
     "name": "stdout",
     "output_type": "stream",
     "text": [
      "Epoch 1/50\n",
      "1719/1719 [==============================] - 7s 3ms/step - loss: 0.4926 - accuracy: 0.8543 - val_loss: 0.2600 - val_accuracy: 0.9338\n",
      "Epoch 2/50\n",
      "1719/1719 [==============================] - 5s 3ms/step - loss: 0.1210 - accuracy: 0.9635 - val_loss: 0.2276 - val_accuracy: 0.9412\n",
      "Epoch 3/50\n",
      "1719/1719 [==============================] - 5s 3ms/step - loss: 0.0908 - accuracy: 0.9733 - val_loss: 0.2217 - val_accuracy: 0.9426\n",
      "Epoch 4/50\n",
      "1719/1719 [==============================] - 5s 3ms/step - loss: 0.0717 - accuracy: 0.9793 - val_loss: 0.2282 - val_accuracy: 0.9402\n",
      "Epoch 5/50\n",
      "1719/1719 [==============================] - 5s 3ms/step - loss: 0.0619 - accuracy: 0.9816 - val_loss: 0.2086 - val_accuracy: 0.9462\n",
      "Epoch 6/50\n",
      "1719/1719 [==============================] - 5s 3ms/step - loss: 0.0518 - accuracy: 0.9843 - val_loss: 0.2180 - val_accuracy: 0.9446\n",
      "Epoch 7/50\n",
      "1719/1719 [==============================] - 5s 3ms/step - loss: 0.0469 - accuracy: 0.9865 - val_loss: 0.2028 - val_accuracy: 0.9532\n",
      "Epoch 8/50\n",
      "1719/1719 [==============================] - 5s 3ms/step - loss: 0.0412 - accuracy: 0.9879 - val_loss: 0.1966 - val_accuracy: 0.9530\n",
      "Epoch 9/50\n",
      "1719/1719 [==============================] - 5s 3ms/step - loss: 0.0353 - accuracy: 0.9887 - val_loss: 0.2060 - val_accuracy: 0.9510\n",
      "Epoch 10/50\n",
      "1719/1719 [==============================] - 5s 3ms/step - loss: 0.0314 - accuracy: 0.9908 - val_loss: 0.2063 - val_accuracy: 0.9518\n",
      "Epoch 11/50\n",
      "1719/1719 [==============================] - 5s 3ms/step - loss: 0.0277 - accuracy: 0.9921 - val_loss: 0.2064 - val_accuracy: 0.9528\n",
      "Epoch 12/50\n",
      "1719/1719 [==============================] - 5s 3ms/step - loss: 0.0265 - accuracy: 0.9924 - val_loss: 0.2008 - val_accuracy: 0.9540\n",
      "Epoch 13/50\n",
      "1719/1719 [==============================] - 5s 3ms/step - loss: 0.0233 - accuracy: 0.9925 - val_loss: 0.2061 - val_accuracy: 0.9552\n",
      "Epoch 14/50\n",
      "1719/1719 [==============================] - 5s 3ms/step - loss: 0.0231 - accuracy: 0.9930 - val_loss: 0.2070 - val_accuracy: 0.9556\n",
      "Epoch 15/50\n",
      "1719/1719 [==============================] - 6s 3ms/step - loss: 0.0207 - accuracy: 0.9933 - val_loss: 0.2048 - val_accuracy: 0.9558\n",
      "Epoch 16/50\n",
      "1719/1719 [==============================] - 5s 3ms/step - loss: 0.0191 - accuracy: 0.9947 - val_loss: 0.2115 - val_accuracy: 0.9554\n",
      "Epoch 17/50\n",
      "1719/1719 [==============================] - 5s 3ms/step - loss: 0.0170 - accuracy: 0.9953 - val_loss: 0.2109 - val_accuracy: 0.9566\n",
      "Epoch 18/50\n",
      "1719/1719 [==============================] - 5s 3ms/step - loss: 0.0166 - accuracy: 0.9953 - val_loss: 0.2173 - val_accuracy: 0.9550\n",
      "Total Time:  0:01:34.665090\n"
     ]
    }
   ],
   "source": [
    "#fitting the model and tracking how long it takes\n",
    "\n",
    "start = datetime.datetime.now()\n",
    "\n",
    "history3 = model3.fit(x_train, y_train, epochs=50, validation_data=(x_valid, y_valid), callbacks=[early_stopping_cb])\n",
    "\n",
    "end = datetime.datetime.now()\n",
    "\n",
    "print(\"Total Time: \", end-start)"
   ]
  },
  {
   "cell_type": "code",
   "execution_count": 43,
   "metadata": {},
   "outputs": [
    {
     "name": "stdout",
     "output_type": "stream",
     "text": [
      "Model: \"sequential_3\"\n",
      "_________________________________________________________________\n",
      "Layer (type)                 Output Shape              Param #   \n",
      "=================================================================\n",
      "batch_normalization_4 (Batch (None, 784)               3136      \n",
      "_________________________________________________________________\n",
      "dense_12 (Dense)             (None, 300)               235500    \n",
      "_________________________________________________________________\n",
      "batch_normalization_5 (Batch (None, 300)               1200      \n",
      "_________________________________________________________________\n",
      "dense_13 (Dense)             (None, 250)               75250     \n",
      "_________________________________________________________________\n",
      "batch_normalization_6 (Batch (None, 250)               1000      \n",
      "_________________________________________________________________\n",
      "dense_14 (Dense)             (None, 200)               50200     \n",
      "_________________________________________________________________\n",
      "batch_normalization_7 (Batch (None, 200)               800       \n",
      "_________________________________________________________________\n",
      "dense_15 (Dense)             (None, 150)               30150     \n",
      "_________________________________________________________________\n",
      "batch_normalization_8 (Batch (None, 150)               600       \n",
      "_________________________________________________________________\n",
      "dense_16 (Dense)             (None, 100)               15100     \n",
      "_________________________________________________________________\n",
      "batch_normalization_9 (Batch (None, 100)               400       \n",
      "_________________________________________________________________\n",
      "dense_17 (Dense)             (None, 10)                1010      \n",
      "=================================================================\n",
      "Total params: 414,346\n",
      "Trainable params: 410,778\n",
      "Non-trainable params: 3,568\n",
      "_________________________________________________________________\n"
     ]
    }
   ],
   "source": [
    "model3.summary()"
   ]
  },
  {
   "cell_type": "code",
   "execution_count": 44,
   "metadata": {},
   "outputs": [
    {
     "data": {
      "image/png": "[encoded data removed]",
      "text/plain": [
       "<Figure size 1080x720 with 1 Axes>"
      ]
     },
     "metadata": {
      "needs_background": "light"
     },
     "output_type": "display_data"
    }
   ],
   "source": [
    "pd.DataFrame(history3.history).plot(figsize=(15,10))\n",
    "plt.grid(True)\n",
    "plt.gca().set_ylim(0,1)\n",
    "plt.show()"
   ]
  },
  {
   "cell_type": "code",
   "execution_count": 45,
   "metadata": {},
   "outputs": [],
   "source": [
    "predictions3 = np.argmax(model3.predict(x_test), axis=-1)"
   ]
  },
  {
   "cell_type": "code",
   "execution_count": 46,
   "metadata": {},
   "outputs": [],
   "source": [
    "df3 = pd.DataFrame({\n",
    "        'id':test_for_sub['id'],\n",
    "        'label': predictions3\n",
    "         })\n",
    "\n",
    "df3.to_csv('submission.csv', index=False)"
   ]
  },
  {
   "cell_type": "markdown",
   "metadata": {},
   "source": [
    "<center><font size=\"+2\">Building the 4th DNN</font></center>"
   ]
  },
  {
   "cell_type": "code",
   "execution_count": 54,
   "metadata": {},
   "outputs": [],
   "source": [
    "#building the layers\n",
    "\n",
    "model4 = keras.models.Sequential()\n",
    "model4.add(keras.layers.BatchNormalization())\n",
    "model4.add(keras.layers.Dense(500, activation=\"elu\", kernel_initializer=\"he_normal\"))\n",
    "model4.add(keras.layers.BatchNormalization())\n",
    "model4.add(keras.layers.Dense(500, activation=\"elu\", kernel_initializer=\"he_normal\"))\n",
    "model4.add(keras.layers.BatchNormalization())\n",
    "model4.add(keras.layers.Dense(500, activation=\"elu\", kernel_initializer=\"he_normal\"))\n",
    "model4.add(keras.layers.BatchNormalization())\n",
    "model4.add(keras.layers.Dense(500, activation=\"elu\", kernel_initializer=\"he_normal\"))\n",
    "model4.add(keras.layers.BatchNormalization())\n",
    "model4.add(keras.layers.Dense(500, activation=\"elu\", kernel_initializer=\"he_normal\"))\n",
    "model4.add(keras.layers.BatchNormalization())\n",
    "model4.add(keras.layers.Dense(10, activation=\"softmax\"))"
   ]
  },
  {
   "cell_type": "code",
   "execution_count": 55,
   "metadata": {},
   "outputs": [],
   "source": [
    "#compiling the model\n",
    "\n",
    "model4.compile(loss=\"sparse_categorical_crossentropy\",\n",
    "             optimizer=optimizer,\n",
    "             metrics=[\"accuracy\"])"
   ]
  },
  {
   "cell_type": "code",
   "execution_count": 56,
   "metadata": {},
   "outputs": [
    {
     "name": "stdout",
     "output_type": "stream",
     "text": [
      "Epoch 1/50\n",
      "1719/1719 [==============================] - 10s 5ms/step - loss: 0.3561 - accuracy: 0.8907 - val_loss: 0.2706 - val_accuracy: 0.9320\n",
      "Epoch 2/50\n",
      "1719/1719 [==============================] - 9s 5ms/step - loss: 0.0947 - accuracy: 0.9709 - val_loss: 0.2599 - val_accuracy: 0.9398\n",
      "Epoch 3/50\n",
      "1719/1719 [==============================] - 8s 5ms/step - loss: 0.0658 - accuracy: 0.9797 - val_loss: 0.2576 - val_accuracy: 0.9366\n",
      "Epoch 4/50\n",
      "1719/1719 [==============================] - 9s 5ms/step - loss: 0.0493 - accuracy: 0.9842 - val_loss: 0.2500 - val_accuracy: 0.9412\n",
      "Epoch 5/50\n",
      "1719/1719 [==============================] - 9s 5ms/step - loss: 0.0386 - accuracy: 0.9883 - val_loss: 0.2521 - val_accuracy: 0.9410\n",
      "Epoch 6/50\n",
      "1719/1719 [==============================] - 8s 5ms/step - loss: 0.0340 - accuracy: 0.9899 - val_loss: 0.2415 - val_accuracy: 0.9458\n",
      "Epoch 7/50\n",
      "1719/1719 [==============================] - 8s 5ms/step - loss: 0.0259 - accuracy: 0.9925 - val_loss: 0.2488 - val_accuracy: 0.9438\n",
      "Epoch 8/50\n",
      "1719/1719 [==============================] - 9s 5ms/step - loss: 0.0227 - accuracy: 0.9932 - val_loss: 0.2347 - val_accuracy: 0.9514\n",
      "Epoch 9/50\n",
      "1719/1719 [==============================] - 9s 5ms/step - loss: 0.0216 - accuracy: 0.9934 - val_loss: 0.2464 - val_accuracy: 0.9468\n",
      "Epoch 10/50\n",
      "1719/1719 [==============================] - 8s 5ms/step - loss: 0.0175 - accuracy: 0.9954 - val_loss: 0.2425 - val_accuracy: 0.9506\n",
      "Epoch 11/50\n",
      "1719/1719 [==============================] - 8s 5ms/step - loss: 0.0152 - accuracy: 0.9955 - val_loss: 0.2479 - val_accuracy: 0.9494\n",
      "Epoch 12/50\n",
      "1719/1719 [==============================] - 9s 5ms/step - loss: 0.0137 - accuracy: 0.9965 - val_loss: 0.2568 - val_accuracy: 0.9482\n",
      "Epoch 13/50\n",
      "1719/1719 [==============================] - 8s 5ms/step - loss: 0.0119 - accuracy: 0.9970 - val_loss: 0.2526 - val_accuracy: 0.9498\n",
      "Epoch 14/50\n",
      "1719/1719 [==============================] - 8s 5ms/step - loss: 0.0106 - accuracy: 0.9975 - val_loss: 0.2696 - val_accuracy: 0.9502\n",
      "Epoch 15/50\n",
      "1719/1719 [==============================] - 9s 5ms/step - loss: 0.0106 - accuracy: 0.9975 - val_loss: 0.2653 - val_accuracy: 0.9516\n",
      "Epoch 16/50\n",
      "1719/1719 [==============================] - 9s 5ms/step - loss: 0.0100 - accuracy: 0.9972 - val_loss: 0.2560 - val_accuracy: 0.9530\n",
      "Epoch 17/50\n",
      "1719/1719 [==============================] - 8s 5ms/step - loss: 0.0092 - accuracy: 0.9974 - val_loss: 0.2626 - val_accuracy: 0.9512\n",
      "Epoch 18/50\n",
      "1719/1719 [==============================] - 9s 5ms/step - loss: 0.0094 - accuracy: 0.9975 - val_loss: 0.2734 - val_accuracy: 0.9516\n",
      "Total Time:  0:02:35.837381\n"
     ]
    }
   ],
   "source": [
    "#fitting the model and tracking how long it takes\n",
    "\n",
    "start = datetime.datetime.now()\n",
    "\n",
    "history4 = model4.fit(x_train, y_train, epochs=50, validation_data=(x_valid, y_valid), callbacks=[early_stopping_cb])\n",
    "\n",
    "end = datetime.datetime.now()\n",
    "\n",
    "print(\"Total Time: \", end-start)"
   ]
  },
  {
   "cell_type": "code",
   "execution_count": 50,
   "metadata": {},
   "outputs": [
    {
     "name": "stdout",
     "output_type": "stream",
     "text": [
      "Model: \"sequential_4\"\n",
      "_________________________________________________________________\n",
      "Layer (type)                 Output Shape              Param #   \n",
      "=================================================================\n",
      "batch_normalization_10 (Batc (None, 784)               3136      \n",
      "_________________________________________________________________\n",
      "dense_18 (Dense)             (None, 150)               117750    \n",
      "_________________________________________________________________\n",
      "batch_normalization_11 (Batc (None, 150)               600       \n",
      "_________________________________________________________________\n",
      "dense_19 (Dense)             (None, 150)               22650     \n",
      "_________________________________________________________________\n",
      "batch_normalization_12 (Batc (None, 150)               600       \n",
      "_________________________________________________________________\n",
      "dense_20 (Dense)             (None, 150)               22650     \n",
      "_________________________________________________________________\n",
      "batch_normalization_13 (Batc (None, 150)               600       \n",
      "_________________________________________________________________\n",
      "dense_21 (Dense)             (None, 150)               22650     \n",
      "_________________________________________________________________\n",
      "batch_normalization_14 (Batc (None, 150)               600       \n",
      "_________________________________________________________________\n",
      "dense_22 (Dense)             (None, 150)               22650     \n",
      "_________________________________________________________________\n",
      "batch_normalization_15 (Batc (None, 150)               600       \n",
      "_________________________________________________________________\n",
      "dense_23 (Dense)             (None, 10)                1510      \n",
      "=================================================================\n",
      "Total params: 215,996\n",
      "Trainable params: 212,928\n",
      "Non-trainable params: 3,068\n",
      "_________________________________________________________________\n"
     ]
    }
   ],
   "source": [
    "model4.summary()"
   ]
  },
  {
   "cell_type": "code",
   "execution_count": 51,
   "metadata": {},
   "outputs": [
    {
     "data": {
      "image/png": "[encoded data removed]",
      "text/plain": [
       "<Figure size 1080x720 with 1 Axes>"
      ]
     },
     "metadata": {
      "needs_background": "light"
     },
     "output_type": "display_data"
    }
   ],
   "source": [
    "pd.DataFrame(history4.history).plot(figsize=(15,10))\n",
    "plt.grid(True)\n",
    "plt.gca().set_ylim(0,1)\n",
    "plt.show()"
   ]
  },
  {
   "cell_type": "code",
   "execution_count": 52,
   "metadata": {},
   "outputs": [],
   "source": [
    "predictions4 = np.argmax(model4.predict(x_test), axis=-1)"
   ]
  },
  {
   "cell_type": "code",
   "execution_count": 53,
   "metadata": {},
   "outputs": [],
   "source": [
    "df4 = pd.DataFrame({\n",
    "        'id':test_for_sub['id'],\n",
    "        'label': predictions4\n",
    "         })\n",
    "\n",
    "df4.to_csv('submission.csv', index=False)"
   ]
  }
 ],
 "metadata": {
  "kernelspec": {
   "display_name": "Python 3",
   "language": "python",
   "name": "python3"
  },
  "language_info": {
   "codemirror_mode": {
    "name": "ipython",
    "version": 3
   },
   "file_extension": ".py",
   "mimetype": "text/x-python",
   "name": "python",
   "nbconvert_exporter": "python",
   "pygments_lexer": "ipython3",
   "version": "3.8.3"
  }
 },
 "nbformat": 4,
 "nbformat_minor": 4
}
