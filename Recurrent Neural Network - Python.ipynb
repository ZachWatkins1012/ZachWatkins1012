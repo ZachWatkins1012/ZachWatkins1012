{
 "cells": [
  {
   "cell_type": "code",
   "execution_count": 75,
   "metadata": {},
   "outputs": [],
   "source": [
    "#Loading up modules\n",
    "\n",
    "import os, cv2, random\n",
    "import numpy as np\n",
    "import pandas as pd\n",
    "import matplotlib.pyplot as plt\n",
    "%matplotlib inline\n",
    "import seaborn as sns\n",
    "import tensorflow as tf\n",
    "from tensorflow import keras\n",
    "from keras.preprocessing.text import Tokenizer\n",
    "import datetime\n",
    "from tqdm import tqdm\n",
    "from collections import Counter\n",
    "\n",
    "from sklearn.metrics import precision_score, recall_score, f1_score"
   ]
  },
  {
   "cell_type": "markdown",
   "metadata": {},
   "source": [
    "<center><font size=\"+2\">Importing, Inspecting, and splitting the data into validation set</font></center>"
   ]
  },
  {
   "cell_type": "code",
   "execution_count": 2,
   "metadata": {},
   "outputs": [],
   "source": [
    "#import data from csv into DF\n",
    "\n",
    "train = pd.read_csv('train.csv')\n",
    "test = pd.read_csv('test.csv')\n",
    "test_for_sub = pd.read_csv('test.csv')"
   ]
  },
  {
   "cell_type": "code",
   "execution_count": 3,
   "metadata": {},
   "outputs": [
    {
     "data": {
      "text/plain": [
       "(7613, 5)"
      ]
     },
     "execution_count": 3,
     "metadata": {},
     "output_type": "execute_result"
    }
   ],
   "source": [
    "train.shape"
   ]
  },
  {
   "cell_type": "code",
   "execution_count": 4,
   "metadata": {},
   "outputs": [
    {
     "data": {
      "text/plain": [
       "(3263, 4)"
      ]
     },
     "execution_count": 4,
     "metadata": {},
     "output_type": "execute_result"
    }
   ],
   "source": [
    "test.shape"
   ]
  },
  {
   "cell_type": "code",
   "execution_count": 5,
   "metadata": {},
   "outputs": [
    {
     "name": "stdout",
     "output_type": "stream",
     "text": [
      "<class 'pandas.core.frame.DataFrame'>\n",
      "RangeIndex: 7613 entries, 0 to 7612\n",
      "Data columns (total 5 columns):\n",
      " #   Column    Non-Null Count  Dtype \n",
      "---  ------    --------------  ----- \n",
      " 0   id        7613 non-null   int64 \n",
      " 1   keyword   7552 non-null   object\n",
      " 2   location  5080 non-null   object\n",
      " 3   text      7613 non-null   object\n",
      " 4   target    7613 non-null   int64 \n",
      "dtypes: int64(2), object(3)\n",
      "memory usage: 297.5+ KB\n"
     ]
    }
   ],
   "source": [
    "train.info()"
   ]
  },
  {
   "cell_type": "code",
   "execution_count": 6,
   "metadata": {},
   "outputs": [
    {
     "data": {
      "text/plain": [
       "id             0\n",
       "keyword       61\n",
       "location    2533\n",
       "text           0\n",
       "target         0\n",
       "dtype: int64"
      ]
     },
     "execution_count": 6,
     "metadata": {},
     "output_type": "execute_result"
    }
   ],
   "source": [
    "#checking for null values\n",
    "\n",
    "train.isna().sum()"
   ]
  },
  {
   "cell_type": "code",
   "execution_count": 7,
   "metadata": {},
   "outputs": [
    {
     "data": {
      "text/plain": [
       "id             0\n",
       "keyword       26\n",
       "location    1105\n",
       "text           0\n",
       "dtype: int64"
      ]
     },
     "execution_count": 7,
     "metadata": {},
     "output_type": "execute_result"
    }
   ],
   "source": [
    "test.isna().sum()"
   ]
  },
  {
   "cell_type": "code",
   "execution_count": 8,
   "metadata": {},
   "outputs": [],
   "source": [
    "#filling in na values with no_key and no_loc respectively\n",
    "\n",
    "train['keyword'].fillna(value=\"no_key\", inplace=True)\n",
    "train['location'].fillna(value=\"no_loc\", inplace=True)\n",
    "\n",
    "test['keyword'].fillna(value=\"no_key\", inplace=True)\n",
    "test['location'].fillna(value=\"no_loc\", inplace=True)"
   ]
  },
  {
   "cell_type": "code",
   "execution_count": 9,
   "metadata": {},
   "outputs": [
    {
     "data": {
      "text/plain": [
       "id          0\n",
       "keyword     0\n",
       "location    0\n",
       "text        0\n",
       "target      0\n",
       "dtype: int64"
      ]
     },
     "execution_count": 9,
     "metadata": {},
     "output_type": "execute_result"
    }
   ],
   "source": [
    "train.isna().sum()"
   ]
  },
  {
   "cell_type": "code",
   "execution_count": 10,
   "metadata": {},
   "outputs": [
    {
     "data": {
      "text/plain": [
       "id          0\n",
       "keyword     0\n",
       "location    0\n",
       "text        0\n",
       "dtype: int64"
      ]
     },
     "execution_count": 10,
     "metadata": {},
     "output_type": "execute_result"
    }
   ],
   "source": [
    "test.isna().sum()"
   ]
  },
  {
   "cell_type": "code",
   "execution_count": 11,
   "metadata": {},
   "outputs": [
    {
     "data": {
      "text/plain": [
       "id          7613\n",
       "keyword      222\n",
       "location    3342\n",
       "text        7503\n",
       "target         2\n",
       "dtype: int64"
      ]
     },
     "execution_count": 11,
     "metadata": {},
     "output_type": "execute_result"
    }
   ],
   "source": [
    "train.nunique()"
   ]
  },
  {
   "cell_type": "code",
   "execution_count": 12,
   "metadata": {},
   "outputs": [],
   "source": [
    "#too many unique values for location and after inspecting the data it is extremely messy, dropping this column\n",
    "#example being UK, United Kingdom, London, UK, London, United Kingdom\n",
    "\n",
    "train.drop(columns='location', inplace=True)\n",
    "test.drop(columns='location', inplace=True)"
   ]
  },
  {
   "cell_type": "code",
   "execution_count": 13,
   "metadata": {},
   "outputs": [
    {
     "data": {
      "text/plain": [
       "no_key         42\n",
       "wreckage       39\n",
       "derailment     39\n",
       "outbreak       39\n",
       "debris         37\n",
       "               ..\n",
       "body%20bag      1\n",
       "epicentre       1\n",
       "electrocute     1\n",
       "ruin            1\n",
       "blazing         1\n",
       "Name: keyword, Length: 221, dtype: int64"
      ]
     },
     "execution_count": 13,
     "metadata": {},
     "output_type": "execute_result"
    }
   ],
   "source": [
    "#looking at top words for target = 1\n",
    "\n",
    "train['keyword'][train['target']==1].value_counts()"
   ]
  },
  {
   "cell_type": "code",
   "execution_count": 14,
   "metadata": {},
   "outputs": [],
   "source": [
    "#dropping id column and splitting out validation set\n",
    "\n",
    "train.drop(columns='id', inplace=True)\n",
    "test.drop(columns='id', inplace=True)\n",
    "\n",
    "train_encode = train.drop(columns='target')"
   ]
  },
  {
   "cell_type": "code",
   "execution_count": 57,
   "metadata": {},
   "outputs": [],
   "source": [
    "train_x = train.drop(columns='target')\n",
    "train_y = train['target']"
   ]
  },
  {
   "cell_type": "markdown",
   "metadata": {},
   "source": [
    "<center><font size=\"+2\">Encoding the text via Tokenizing</font></center>"
   ]
  },
  {
   "cell_type": "code",
   "execution_count": 16,
   "metadata": {},
   "outputs": [],
   "source": [
    "tokenizer = keras.preprocessing.text.Tokenizer()"
   ]
  },
  {
   "cell_type": "code",
   "execution_count": 17,
   "metadata": {},
   "outputs": [],
   "source": [
    "#creating list of all words in training keyword and text\n",
    "\n",
    "train_list = train_encode['keyword'] + \" \" + train_encode['text']"
   ]
  },
  {
   "cell_type": "code",
   "execution_count": 18,
   "metadata": {},
   "outputs": [],
   "source": [
    "tokenizer.fit_on_texts(train_list)"
   ]
  },
  {
   "cell_type": "code",
   "execution_count": 19,
   "metadata": {},
   "outputs": [
    {
     "data": {
      "text/plain": [
       "['a and at body us outbreak around friend']"
      ]
     },
     "execution_count": 19,
     "metadata": {},
     "output_type": "execute_result"
    }
   ],
   "source": [
    "tokenizer.sequences_to_texts([[0, 5, 9, 19, 50, 100, 200, 500, 1000]])"
   ]
  },
  {
   "cell_type": "code",
   "execution_count": 112,
   "metadata": {},
   "outputs": [],
   "source": [
    "count = list(range(0, len(train_x)))\n",
    "\n",
    "train_x_enc = pd.DataFrame()\n",
    "\n",
    "for i in count:\n",
    "    x = np.array(tokenizer.texts_to_sequences([train_x['keyword'][i]]))\n",
    "    y = np.array(tokenizer.texts_to_sequences([train_x['text'][i]]))\n",
    "    \n",
    "    x_df = pd.DataFrame(x)\n",
    "    y_df = pd.DataFrame(y)\n",
    "    \n",
    "    z = pd.concat([x_df, y_df], axis=1)\n",
    "    z.columns = range(z.shape[1])\n",
    "    train_x_enc = pd.concat([train_x_enc, z], axis=0)"
   ]
  },
  {
   "cell_type": "code",
   "execution_count": 113,
   "metadata": {},
   "outputs": [
    {
     "data": {
      "text/html": [
       "<div>\n",
       "<style scoped>\n",
       "    .dataframe tbody tr th:only-of-type {\n",
       "        vertical-align: middle;\n",
       "    }\n",
       "\n",
       "    .dataframe tbody tr th {\n",
       "        vertical-align: top;\n",
       "    }\n",
       "\n",
       "    .dataframe thead th {\n",
       "        text-align: right;\n",
       "    }\n",
       "</style>\n",
       "<table border=\"1\" class=\"dataframe\">\n",
       "  <thead>\n",
       "    <tr style=\"text-align: right;\">\n",
       "      <th></th>\n",
       "      <th>0</th>\n",
       "      <th>1</th>\n",
       "      <th>2</th>\n",
       "      <th>3</th>\n",
       "      <th>4</th>\n",
       "      <th>5</th>\n",
       "      <th>6</th>\n",
       "      <th>7</th>\n",
       "      <th>8</th>\n",
       "      <th>9</th>\n",
       "      <th>...</th>\n",
       "      <th>25</th>\n",
       "      <th>26</th>\n",
       "      <th>27</th>\n",
       "      <th>28</th>\n",
       "      <th>29</th>\n",
       "      <th>30</th>\n",
       "      <th>31</th>\n",
       "      <th>32</th>\n",
       "      <th>33</th>\n",
       "      <th>34</th>\n",
       "    </tr>\n",
       "  </thead>\n",
       "  <tbody>\n",
       "    <tr>\n",
       "      <th>0</th>\n",
       "      <td>32</td>\n",
       "      <td>345</td>\n",
       "      <td>130.0</td>\n",
       "      <td>4663.0</td>\n",
       "      <td>24.0</td>\n",
       "      <td>4.0</td>\n",
       "      <td>901.0</td>\n",
       "      <td>8.0</td>\n",
       "      <td>21.0</td>\n",
       "      <td>156.0</td>\n",
       "      <td>...</td>\n",
       "      <td>NaN</td>\n",
       "      <td>NaN</td>\n",
       "      <td>NaN</td>\n",
       "      <td>NaN</td>\n",
       "      <td>NaN</td>\n",
       "      <td>NaN</td>\n",
       "      <td>NaN</td>\n",
       "      <td>NaN</td>\n",
       "      <td>NaN</td>\n",
       "      <td>NaN</td>\n",
       "    </tr>\n",
       "    <tr>\n",
       "      <th>0</th>\n",
       "      <td>32</td>\n",
       "      <td>345</td>\n",
       "      <td>103.0</td>\n",
       "      <td>36.0</td>\n",
       "      <td>397.0</td>\n",
       "      <td>837.0</td>\n",
       "      <td>6984.0</td>\n",
       "      <td>6985.0</td>\n",
       "      <td>1438.0</td>\n",
       "      <td>NaN</td>\n",
       "      <td>...</td>\n",
       "      <td>NaN</td>\n",
       "      <td>NaN</td>\n",
       "      <td>NaN</td>\n",
       "      <td>NaN</td>\n",
       "      <td>NaN</td>\n",
       "      <td>NaN</td>\n",
       "      <td>NaN</td>\n",
       "      <td>NaN</td>\n",
       "      <td>NaN</td>\n",
       "      <td>NaN</td>\n",
       "    </tr>\n",
       "    <tr>\n",
       "      <th>0</th>\n",
       "      <td>32</td>\n",
       "      <td>345</td>\n",
       "      <td>42.0</td>\n",
       "      <td>1783.0</td>\n",
       "      <td>1653.0</td>\n",
       "      <td>7.0</td>\n",
       "      <td>6986.0</td>\n",
       "      <td>6.0</td>\n",
       "      <td>6987.0</td>\n",
       "      <td>24.0</td>\n",
       "      <td>...</td>\n",
       "      <td>NaN</td>\n",
       "      <td>NaN</td>\n",
       "      <td>NaN</td>\n",
       "      <td>NaN</td>\n",
       "      <td>NaN</td>\n",
       "      <td>NaN</td>\n",
       "      <td>NaN</td>\n",
       "      <td>NaN</td>\n",
       "      <td>NaN</td>\n",
       "      <td>NaN</td>\n",
       "    </tr>\n",
       "    <tr>\n",
       "      <th>0</th>\n",
       "      <td>32</td>\n",
       "      <td>345</td>\n",
       "      <td>869.0</td>\n",
       "      <td>2952.0</td>\n",
       "      <td>62.0</td>\n",
       "      <td>4665.0</td>\n",
       "      <td>1533.0</td>\n",
       "      <td>168.0</td>\n",
       "      <td>1439.0</td>\n",
       "      <td>6.0</td>\n",
       "      <td>...</td>\n",
       "      <td>NaN</td>\n",
       "      <td>NaN</td>\n",
       "      <td>NaN</td>\n",
       "      <td>NaN</td>\n",
       "      <td>NaN</td>\n",
       "      <td>NaN</td>\n",
       "      <td>NaN</td>\n",
       "      <td>NaN</td>\n",
       "      <td>NaN</td>\n",
       "      <td>NaN</td>\n",
       "    </tr>\n",
       "    <tr>\n",
       "      <th>0</th>\n",
       "      <td>32</td>\n",
       "      <td>345</td>\n",
       "      <td>35.0</td>\n",
       "      <td>111.0</td>\n",
       "      <td>1256.0</td>\n",
       "      <td>21.0</td>\n",
       "      <td>476.0</td>\n",
       "      <td>22.0</td>\n",
       "      <td>6989.0</td>\n",
       "      <td>2190.0</td>\n",
       "      <td>...</td>\n",
       "      <td>NaN</td>\n",
       "      <td>NaN</td>\n",
       "      <td>NaN</td>\n",
       "      <td>NaN</td>\n",
       "      <td>NaN</td>\n",
       "      <td>NaN</td>\n",
       "      <td>NaN</td>\n",
       "      <td>NaN</td>\n",
       "      <td>NaN</td>\n",
       "      <td>NaN</td>\n",
       "    </tr>\n",
       "    <tr>\n",
       "      <th>...</th>\n",
       "      <td>...</td>\n",
       "      <td>...</td>\n",
       "      <td>...</td>\n",
       "      <td>...</td>\n",
       "      <td>...</td>\n",
       "      <td>...</td>\n",
       "      <td>...</td>\n",
       "      <td>...</td>\n",
       "      <td>...</td>\n",
       "      <td>...</td>\n",
       "      <td>...</td>\n",
       "      <td>...</td>\n",
       "      <td>...</td>\n",
       "      <td>...</td>\n",
       "      <td>...</td>\n",
       "      <td>...</td>\n",
       "      <td>...</td>\n",
       "      <td>...</td>\n",
       "      <td>...</td>\n",
       "      <td>...</td>\n",
       "      <td>...</td>\n",
       "    </tr>\n",
       "    <tr>\n",
       "      <th>0</th>\n",
       "      <td>32</td>\n",
       "      <td>345</td>\n",
       "      <td>126.0</td>\n",
       "      <td>894.0</td>\n",
       "      <td>1406.0</td>\n",
       "      <td>1124.0</td>\n",
       "      <td>5.0</td>\n",
       "      <td>229.0</td>\n",
       "      <td>118.0</td>\n",
       "      <td>76.0</td>\n",
       "      <td>...</td>\n",
       "      <td>NaN</td>\n",
       "      <td>NaN</td>\n",
       "      <td>NaN</td>\n",
       "      <td>NaN</td>\n",
       "      <td>NaN</td>\n",
       "      <td>NaN</td>\n",
       "      <td>NaN</td>\n",
       "      <td>NaN</td>\n",
       "      <td>NaN</td>\n",
       "      <td>NaN</td>\n",
       "    </tr>\n",
       "    <tr>\n",
       "      <th>0</th>\n",
       "      <td>32</td>\n",
       "      <td>345</td>\n",
       "      <td>6950.0</td>\n",
       "      <td>6951.0</td>\n",
       "      <td>6952.0</td>\n",
       "      <td>4.0</td>\n",
       "      <td>40.0</td>\n",
       "      <td>8.0</td>\n",
       "      <td>791.0</td>\n",
       "      <td>191.0</td>\n",
       "      <td>...</td>\n",
       "      <td>NaN</td>\n",
       "      <td>NaN</td>\n",
       "      <td>NaN</td>\n",
       "      <td>NaN</td>\n",
       "      <td>NaN</td>\n",
       "      <td>NaN</td>\n",
       "      <td>NaN</td>\n",
       "      <td>NaN</td>\n",
       "      <td>NaN</td>\n",
       "      <td>NaN</td>\n",
       "    </tr>\n",
       "    <tr>\n",
       "      <th>0</th>\n",
       "      <td>32</td>\n",
       "      <td>345</td>\n",
       "      <td>2855.0</td>\n",
       "      <td>2432.0</td>\n",
       "      <td>751.0</td>\n",
       "      <td>1249.0</td>\n",
       "      <td>1640.0</td>\n",
       "      <td>1641.0</td>\n",
       "      <td>117.0</td>\n",
       "      <td>8.0</td>\n",
       "      <td>...</td>\n",
       "      <td>NaN</td>\n",
       "      <td>NaN</td>\n",
       "      <td>NaN</td>\n",
       "      <td>NaN</td>\n",
       "      <td>NaN</td>\n",
       "      <td>NaN</td>\n",
       "      <td>NaN</td>\n",
       "      <td>NaN</td>\n",
       "      <td>NaN</td>\n",
       "      <td>NaN</td>\n",
       "    </tr>\n",
       "    <tr>\n",
       "      <th>0</th>\n",
       "      <td>32</td>\n",
       "      <td>345</td>\n",
       "      <td>73.0</td>\n",
       "      <td>1180.0</td>\n",
       "      <td>43.0</td>\n",
       "      <td>45.0</td>\n",
       "      <td>648.0</td>\n",
       "      <td>2343.0</td>\n",
       "      <td>185.0</td>\n",
       "      <td>16.0</td>\n",
       "      <td>...</td>\n",
       "      <td>NaN</td>\n",
       "      <td>NaN</td>\n",
       "      <td>NaN</td>\n",
       "      <td>NaN</td>\n",
       "      <td>NaN</td>\n",
       "      <td>NaN</td>\n",
       "      <td>NaN</td>\n",
       "      <td>NaN</td>\n",
       "      <td>NaN</td>\n",
       "      <td>NaN</td>\n",
       "    </tr>\n",
       "    <tr>\n",
       "      <th>0</th>\n",
       "      <td>32</td>\n",
       "      <td>345</td>\n",
       "      <td>4.0</td>\n",
       "      <td>373.0</td>\n",
       "      <td>56.0</td>\n",
       "      <td>376.0</td>\n",
       "      <td>316.0</td>\n",
       "      <td>20.0</td>\n",
       "      <td>350.0</td>\n",
       "      <td>107.0</td>\n",
       "      <td>...</td>\n",
       "      <td>NaN</td>\n",
       "      <td>NaN</td>\n",
       "      <td>NaN</td>\n",
       "      <td>NaN</td>\n",
       "      <td>NaN</td>\n",
       "      <td>NaN</td>\n",
       "      <td>NaN</td>\n",
       "      <td>NaN</td>\n",
       "      <td>NaN</td>\n",
       "      <td>NaN</td>\n",
       "    </tr>\n",
       "  </tbody>\n",
       "</table>\n",
       "<p>7613 rows × 35 columns</p>\n",
       "</div>"
      ],
      "text/plain": [
       "    0    1       2       3       4       5       6       7       8       9   \\\n",
       "0   32  345   130.0  4663.0    24.0     4.0   901.0     8.0    21.0   156.0   \n",
       "0   32  345   103.0    36.0   397.0   837.0  6984.0  6985.0  1438.0     NaN   \n",
       "0   32  345    42.0  1783.0  1653.0     7.0  6986.0     6.0  6987.0    24.0   \n",
       "0   32  345   869.0  2952.0    62.0  4665.0  1533.0   168.0  1439.0     6.0   \n",
       "0   32  345    35.0   111.0  1256.0    21.0   476.0    22.0  6989.0  2190.0   \n",
       "..  ..  ...     ...     ...     ...     ...     ...     ...     ...     ...   \n",
       "0   32  345   126.0   894.0  1406.0  1124.0     5.0   229.0   118.0    76.0   \n",
       "0   32  345  6950.0  6951.0  6952.0     4.0    40.0     8.0   791.0   191.0   \n",
       "0   32  345  2855.0  2432.0   751.0  1249.0  1640.0  1641.0   117.0     8.0   \n",
       "0   32  345    73.0  1180.0    43.0    45.0   648.0  2343.0   185.0    16.0   \n",
       "0   32  345     4.0   373.0    56.0   376.0   316.0    20.0   350.0   107.0   \n",
       "\n",
       "    ...  25  26  27  28  29  30  31  32  33  34  \n",
       "0   ... NaN NaN NaN NaN NaN NaN NaN NaN NaN NaN  \n",
       "0   ... NaN NaN NaN NaN NaN NaN NaN NaN NaN NaN  \n",
       "0   ... NaN NaN NaN NaN NaN NaN NaN NaN NaN NaN  \n",
       "0   ... NaN NaN NaN NaN NaN NaN NaN NaN NaN NaN  \n",
       "0   ... NaN NaN NaN NaN NaN NaN NaN NaN NaN NaN  \n",
       "..  ...  ..  ..  ..  ..  ..  ..  ..  ..  ..  ..  \n",
       "0   ... NaN NaN NaN NaN NaN NaN NaN NaN NaN NaN  \n",
       "0   ... NaN NaN NaN NaN NaN NaN NaN NaN NaN NaN  \n",
       "0   ... NaN NaN NaN NaN NaN NaN NaN NaN NaN NaN  \n",
       "0   ... NaN NaN NaN NaN NaN NaN NaN NaN NaN NaN  \n",
       "0   ... NaN NaN NaN NaN NaN NaN NaN NaN NaN NaN  \n",
       "\n",
       "[7613 rows x 35 columns]"
      ]
     },
     "execution_count": 113,
     "metadata": {},
     "output_type": "execute_result"
    }
   ],
   "source": [
    "train_x_enc"
   ]
  },
  {
   "cell_type": "code",
   "execution_count": 114,
   "metadata": {},
   "outputs": [],
   "source": [
    "count = list(range(0, len(test)))\n",
    "\n",
    "test_enc = pd.DataFrame()\n",
    "\n",
    "for i in count:\n",
    "    x = np.array(tokenizer.texts_to_sequences([test['keyword'][i]]))\n",
    "    y = np.array(tokenizer.texts_to_sequences([test['text'][i]]))\n",
    "    \n",
    "    x_df = pd.DataFrame(x)\n",
    "    y_df = pd.DataFrame(y)\n",
    "    \n",
    "    z = pd.concat([x_df, y_df], axis=1)\n",
    "    z.columns = range(z.shape[1])\n",
    "    test_enc = pd.concat([test_enc, z], axis=0)"
   ]
  },
  {
   "cell_type": "code",
   "execution_count": 115,
   "metadata": {},
   "outputs": [
    {
     "data": {
      "text/html": [
       "<div>\n",
       "<style scoped>\n",
       "    .dataframe tbody tr th:only-of-type {\n",
       "        vertical-align: middle;\n",
       "    }\n",
       "\n",
       "    .dataframe tbody tr th {\n",
       "        vertical-align: top;\n",
       "    }\n",
       "\n",
       "    .dataframe thead th {\n",
       "        text-align: right;\n",
       "    }\n",
       "</style>\n",
       "<table border=\"1\" class=\"dataframe\">\n",
       "  <thead>\n",
       "    <tr style=\"text-align: right;\">\n",
       "      <th></th>\n",
       "      <th>0</th>\n",
       "      <th>1</th>\n",
       "      <th>2</th>\n",
       "      <th>3</th>\n",
       "      <th>4</th>\n",
       "      <th>5</th>\n",
       "      <th>6</th>\n",
       "      <th>7</th>\n",
       "      <th>8</th>\n",
       "      <th>9</th>\n",
       "      <th>...</th>\n",
       "      <th>21</th>\n",
       "      <th>22</th>\n",
       "      <th>23</th>\n",
       "      <th>24</th>\n",
       "      <th>25</th>\n",
       "      <th>26</th>\n",
       "      <th>27</th>\n",
       "      <th>28</th>\n",
       "      <th>29</th>\n",
       "      <th>30</th>\n",
       "    </tr>\n",
       "  </thead>\n",
       "  <tbody>\n",
       "    <tr>\n",
       "      <th>0</th>\n",
       "      <td>32</td>\n",
       "      <td>345.0</td>\n",
       "      <td>35.0</td>\n",
       "      <td>947.0</td>\n",
       "      <td>5.0</td>\n",
       "      <td>1982.0</td>\n",
       "      <td>146.0</td>\n",
       "      <td>84.0</td>\n",
       "      <td>NaN</td>\n",
       "      <td>NaN</td>\n",
       "      <td>...</td>\n",
       "      <td>NaN</td>\n",
       "      <td>NaN</td>\n",
       "      <td>NaN</td>\n",
       "      <td>NaN</td>\n",
       "      <td>NaN</td>\n",
       "      <td>NaN</td>\n",
       "      <td>NaN</td>\n",
       "      <td>NaN</td>\n",
       "      <td>NaN</td>\n",
       "      <td>NaN</td>\n",
       "    </tr>\n",
       "    <tr>\n",
       "      <th>0</th>\n",
       "      <td>32</td>\n",
       "      <td>345.0</td>\n",
       "      <td>564.0</td>\n",
       "      <td>58.0</td>\n",
       "      <td>156.0</td>\n",
       "      <td>11.0</td>\n",
       "      <td>1236.0</td>\n",
       "      <td>2679.0</td>\n",
       "      <td>664.0</td>\n",
       "      <td>2352.0</td>\n",
       "      <td>...</td>\n",
       "      <td>NaN</td>\n",
       "      <td>NaN</td>\n",
       "      <td>NaN</td>\n",
       "      <td>NaN</td>\n",
       "      <td>NaN</td>\n",
       "      <td>NaN</td>\n",
       "      <td>NaN</td>\n",
       "      <td>NaN</td>\n",
       "      <td>NaN</td>\n",
       "      <td>NaN</td>\n",
       "    </tr>\n",
       "    <tr>\n",
       "      <th>0</th>\n",
       "      <td>32</td>\n",
       "      <td>345.0</td>\n",
       "      <td>85.0</td>\n",
       "      <td>11.0</td>\n",
       "      <td>5.0</td>\n",
       "      <td>103.0</td>\n",
       "      <td>36.0</td>\n",
       "      <td>19.0</td>\n",
       "      <td>860.0</td>\n",
       "      <td>3606.0</td>\n",
       "      <td>...</td>\n",
       "      <td>NaN</td>\n",
       "      <td>NaN</td>\n",
       "      <td>NaN</td>\n",
       "      <td>NaN</td>\n",
       "      <td>NaN</td>\n",
       "      <td>NaN</td>\n",
       "      <td>NaN</td>\n",
       "      <td>NaN</td>\n",
       "      <td>NaN</td>\n",
       "      <td>NaN</td>\n",
       "    </tr>\n",
       "    <tr>\n",
       "      <th>0</th>\n",
       "      <td>32</td>\n",
       "      <td>345.0</td>\n",
       "      <td>320.0</td>\n",
       "      <td>3970.0</td>\n",
       "      <td>7698.0</td>\n",
       "      <td>1533.0</td>\n",
       "      <td>NaN</td>\n",
       "      <td>NaN</td>\n",
       "      <td>NaN</td>\n",
       "      <td>NaN</td>\n",
       "      <td>...</td>\n",
       "      <td>NaN</td>\n",
       "      <td>NaN</td>\n",
       "      <td>NaN</td>\n",
       "      <td>NaN</td>\n",
       "      <td>NaN</td>\n",
       "      <td>NaN</td>\n",
       "      <td>NaN</td>\n",
       "      <td>NaN</td>\n",
       "      <td>NaN</td>\n",
       "      <td>NaN</td>\n",
       "    </tr>\n",
       "    <tr>\n",
       "      <th>0</th>\n",
       "      <td>32</td>\n",
       "      <td>345.0</td>\n",
       "      <td>138.0</td>\n",
       "      <td>833.0</td>\n",
       "      <td>567.0</td>\n",
       "      <td>2595.0</td>\n",
       "      <td>6.0</td>\n",
       "      <td>976.0</td>\n",
       "      <td>9.0</td>\n",
       "      <td>1241.0</td>\n",
       "      <td>...</td>\n",
       "      <td>NaN</td>\n",
       "      <td>NaN</td>\n",
       "      <td>NaN</td>\n",
       "      <td>NaN</td>\n",
       "      <td>NaN</td>\n",
       "      <td>NaN</td>\n",
       "      <td>NaN</td>\n",
       "      <td>NaN</td>\n",
       "      <td>NaN</td>\n",
       "      <td>NaN</td>\n",
       "    </tr>\n",
       "    <tr>\n",
       "      <th>...</th>\n",
       "      <td>...</td>\n",
       "      <td>...</td>\n",
       "      <td>...</td>\n",
       "      <td>...</td>\n",
       "      <td>...</td>\n",
       "      <td>...</td>\n",
       "      <td>...</td>\n",
       "      <td>...</td>\n",
       "      <td>...</td>\n",
       "      <td>...</td>\n",
       "      <td>...</td>\n",
       "      <td>...</td>\n",
       "      <td>...</td>\n",
       "      <td>...</td>\n",
       "      <td>...</td>\n",
       "      <td>...</td>\n",
       "      <td>...</td>\n",
       "      <td>...</td>\n",
       "      <td>...</td>\n",
       "      <td>...</td>\n",
       "      <td>...</td>\n",
       "    </tr>\n",
       "    <tr>\n",
       "      <th>0</th>\n",
       "      <td>32</td>\n",
       "      <td>345.0</td>\n",
       "      <td>156.0</td>\n",
       "      <td>1155.0</td>\n",
       "      <td>2964.0</td>\n",
       "      <td>2965.0</td>\n",
       "      <td>511.0</td>\n",
       "      <td>1155.0</td>\n",
       "      <td>NaN</td>\n",
       "      <td>NaN</td>\n",
       "      <td>...</td>\n",
       "      <td>NaN</td>\n",
       "      <td>NaN</td>\n",
       "      <td>NaN</td>\n",
       "      <td>NaN</td>\n",
       "      <td>NaN</td>\n",
       "      <td>NaN</td>\n",
       "      <td>NaN</td>\n",
       "      <td>NaN</td>\n",
       "      <td>NaN</td>\n",
       "      <td>NaN</td>\n",
       "    </tr>\n",
       "    <tr>\n",
       "      <th>0</th>\n",
       "      <td>32</td>\n",
       "      <td>345.0</td>\n",
       "      <td>83.0</td>\n",
       "      <td>6.0</td>\n",
       "      <td>9330.0</td>\n",
       "      <td>1183.0</td>\n",
       "      <td>86.0</td>\n",
       "      <td>176.0</td>\n",
       "      <td>184.0</td>\n",
       "      <td>15.0</td>\n",
       "      <td>...</td>\n",
       "      <td>226.0</td>\n",
       "      <td>500.0</td>\n",
       "      <td>9334.0</td>\n",
       "      <td>95.0</td>\n",
       "      <td>439.0</td>\n",
       "      <td>572.0</td>\n",
       "      <td>NaN</td>\n",
       "      <td>NaN</td>\n",
       "      <td>NaN</td>\n",
       "      <td>NaN</td>\n",
       "    </tr>\n",
       "    <tr>\n",
       "      <th>0</th>\n",
       "      <td>32</td>\n",
       "      <td>345.0</td>\n",
       "      <td>1002.0</td>\n",
       "      <td>747.0</td>\n",
       "      <td>197.0</td>\n",
       "      <td>6.0</td>\n",
       "      <td>941.0</td>\n",
       "      <td>3.0</td>\n",
       "      <td>1.0</td>\n",
       "      <td>2.0</td>\n",
       "      <td>...</td>\n",
       "      <td>NaN</td>\n",
       "      <td>NaN</td>\n",
       "      <td>NaN</td>\n",
       "      <td>NaN</td>\n",
       "      <td>NaN</td>\n",
       "      <td>NaN</td>\n",
       "      <td>NaN</td>\n",
       "      <td>NaN</td>\n",
       "      <td>NaN</td>\n",
       "      <td>NaN</td>\n",
       "    </tr>\n",
       "    <tr>\n",
       "      <th>0</th>\n",
       "      <td>32</td>\n",
       "      <td>345.0</td>\n",
       "      <td>6399.0</td>\n",
       "      <td>659.0</td>\n",
       "      <td>265.0</td>\n",
       "      <td>429.0</td>\n",
       "      <td>1781.0</td>\n",
       "      <td>1954.0</td>\n",
       "      <td>3.0</td>\n",
       "      <td>1.0</td>\n",
       "      <td>...</td>\n",
       "      <td>NaN</td>\n",
       "      <td>NaN</td>\n",
       "      <td>NaN</td>\n",
       "      <td>NaN</td>\n",
       "      <td>NaN</td>\n",
       "      <td>NaN</td>\n",
       "      <td>NaN</td>\n",
       "      <td>NaN</td>\n",
       "      <td>NaN</td>\n",
       "      <td>NaN</td>\n",
       "    </tr>\n",
       "    <tr>\n",
       "      <th>0</th>\n",
       "      <td>32</td>\n",
       "      <td>345.0</td>\n",
       "      <td>6063.0</td>\n",
       "      <td>46.0</td>\n",
       "      <td>2863.0</td>\n",
       "      <td>196.0</td>\n",
       "      <td>1643.0</td>\n",
       "      <td>41.0</td>\n",
       "      <td>440.0</td>\n",
       "      <td>4493.0</td>\n",
       "      <td>...</td>\n",
       "      <td>NaN</td>\n",
       "      <td>NaN</td>\n",
       "      <td>NaN</td>\n",
       "      <td>NaN</td>\n",
       "      <td>NaN</td>\n",
       "      <td>NaN</td>\n",
       "      <td>NaN</td>\n",
       "      <td>NaN</td>\n",
       "      <td>NaN</td>\n",
       "      <td>NaN</td>\n",
       "    </tr>\n",
       "  </tbody>\n",
       "</table>\n",
       "<p>3263 rows × 31 columns</p>\n",
       "</div>"
      ],
      "text/plain": [
       "    0      1       2       3       4       5       6       7      8       9   \\\n",
       "0   32  345.0    35.0   947.0     5.0  1982.0   146.0    84.0    NaN     NaN   \n",
       "0   32  345.0   564.0    58.0   156.0    11.0  1236.0  2679.0  664.0  2352.0   \n",
       "0   32  345.0    85.0    11.0     5.0   103.0    36.0    19.0  860.0  3606.0   \n",
       "0   32  345.0   320.0  3970.0  7698.0  1533.0     NaN     NaN    NaN     NaN   \n",
       "0   32  345.0   138.0   833.0   567.0  2595.0     6.0   976.0    9.0  1241.0   \n",
       "..  ..    ...     ...     ...     ...     ...     ...     ...    ...     ...   \n",
       "0   32  345.0   156.0  1155.0  2964.0  2965.0   511.0  1155.0    NaN     NaN   \n",
       "0   32  345.0    83.0     6.0  9330.0  1183.0    86.0   176.0  184.0    15.0   \n",
       "0   32  345.0  1002.0   747.0   197.0     6.0   941.0     3.0    1.0     2.0   \n",
       "0   32  345.0  6399.0   659.0   265.0   429.0  1781.0  1954.0    3.0     1.0   \n",
       "0   32  345.0  6063.0    46.0  2863.0   196.0  1643.0    41.0  440.0  4493.0   \n",
       "\n",
       "    ...     21     22      23    24     25     26  27  28  29  30  \n",
       "0   ...    NaN    NaN     NaN   NaN    NaN    NaN NaN NaN NaN NaN  \n",
       "0   ...    NaN    NaN     NaN   NaN    NaN    NaN NaN NaN NaN NaN  \n",
       "0   ...    NaN    NaN     NaN   NaN    NaN    NaN NaN NaN NaN NaN  \n",
       "0   ...    NaN    NaN     NaN   NaN    NaN    NaN NaN NaN NaN NaN  \n",
       "0   ...    NaN    NaN     NaN   NaN    NaN    NaN NaN NaN NaN NaN  \n",
       "..  ...    ...    ...     ...   ...    ...    ...  ..  ..  ..  ..  \n",
       "0   ...    NaN    NaN     NaN   NaN    NaN    NaN NaN NaN NaN NaN  \n",
       "0   ...  226.0  500.0  9334.0  95.0  439.0  572.0 NaN NaN NaN NaN  \n",
       "0   ...    NaN    NaN     NaN   NaN    NaN    NaN NaN NaN NaN NaN  \n",
       "0   ...    NaN    NaN     NaN   NaN    NaN    NaN NaN NaN NaN NaN  \n",
       "0   ...    NaN    NaN     NaN   NaN    NaN    NaN NaN NaN NaN NaN  \n",
       "\n",
       "[3263 rows x 31 columns]"
      ]
     },
     "execution_count": 115,
     "metadata": {},
     "output_type": "execute_result"
    }
   ],
   "source": [
    "test_enc"
   ]
  },
  {
   "cell_type": "code",
   "execution_count": 116,
   "metadata": {},
   "outputs": [
    {
     "data": {
      "text/plain": [
       "(7613, 35)"
      ]
     },
     "execution_count": 116,
     "metadata": {},
     "output_type": "execute_result"
    }
   ],
   "source": [
    "train_x_enc.shape"
   ]
  },
  {
   "cell_type": "code",
   "execution_count": 117,
   "metadata": {},
   "outputs": [
    {
     "data": {
      "text/plain": [
       "(3263, 31)"
      ]
     },
     "execution_count": 117,
     "metadata": {},
     "output_type": "execute_result"
    }
   ],
   "source": [
    "test_enc.shape"
   ]
  },
  {
   "cell_type": "code",
   "execution_count": 34,
   "metadata": {},
   "outputs": [],
   "source": [
    "#attempted function to encode text, didn't work\n",
    "\n",
    "'''def encode_text(data):\n",
    "    count = list(range(0, len(data)-1))\n",
    "    enc_matrix = []\n",
    "    enc_df = pd.DataFrame()\n",
    "    enc_df2 = pd.DataFrame()\n",
    "    for column in data:\n",
    "        \n",
    "        for i in count:\n",
    "            \n",
    "            enc_data = np.array(tokenizer.texts_to_sequences([data[column][i]]))\n",
    "            df = pd.DataFrame(enc_data)\n",
    "            enc_df2 = pd.concat([enc_df2, df], axis=0)\n",
    "            i = i+1\n",
    "            \n",
    "        enc_df = pd.concat([enc_df, enc_df2], axis=1)\n",
    "        \n",
    "    return enc_df'''"
   ]
  },
  {
   "cell_type": "code",
   "execution_count": 71,
   "metadata": {},
   "outputs": [],
   "source": [
    "#train_ready = train_x['text']\n",
    "#test_ready = test['text']"
   ]
  },
  {
   "cell_type": "code",
   "execution_count": 73,
   "metadata": {},
   "outputs": [],
   "source": [
    "#def preprocess(x_batch, y_batch):\n",
    "#    x_batch = tf.strings.regex_replace(x_batch, b\"<br\\\\s*/?>\", b\" \")\n",
    "#    x_batch = tf.strings.regex_replace(x_batch, b\"[^a-zA-Z']\", b\" \")\n",
    "#    x_batch = tf.strings.split(x_batch)\n",
    "#    return x_batch.to_tensor(default_value=b\"<pad>\"), y_batch"
   ]
  },
  {
   "cell_type": "code",
   "execution_count": 76,
   "metadata": {},
   "outputs": [
    {
     "ename": "AttributeError",
     "evalue": "'Series' object has no attribute 'batch'",
     "output_type": "error",
     "traceback": [
      "\u001b[1;31m---------------------------------------------------------------------------\u001b[0m",
      "\u001b[1;31mAttributeError\u001b[0m                            Traceback (most recent call last)",
      "\u001b[1;32m<ipython-input-76-77cce202162d>\u001b[0m in \u001b[0;36m<module>\u001b[1;34m\u001b[0m\n\u001b[0;32m      1\u001b[0m \u001b[0mvocabulary\u001b[0m \u001b[1;33m=\u001b[0m \u001b[0mCounter\u001b[0m\u001b[1;33m(\u001b[0m\u001b[1;33m)\u001b[0m\u001b[1;33m\u001b[0m\u001b[1;33m\u001b[0m\u001b[0m\n\u001b[1;32m----> 2\u001b[1;33m \u001b[1;32mfor\u001b[0m \u001b[0mx_batch\u001b[0m\u001b[1;33m,\u001b[0m \u001b[0my_batch\u001b[0m \u001b[1;32min\u001b[0m \u001b[0mtrain_ready\u001b[0m\u001b[1;33m.\u001b[0m\u001b[0mbatch\u001b[0m\u001b[1;33m(\u001b[0m\u001b[1;36m32\u001b[0m\u001b[1;33m)\u001b[0m\u001b[1;33m.\u001b[0m\u001b[0mmap\u001b[0m\u001b[1;33m(\u001b[0m\u001b[0mpreprocess\u001b[0m\u001b[1;33m)\u001b[0m\u001b[1;33m:\u001b[0m\u001b[1;33m\u001b[0m\u001b[1;33m\u001b[0m\u001b[0m\n\u001b[0m\u001b[0;32m      3\u001b[0m     \u001b[1;32mfor\u001b[0m \u001b[0mtext\u001b[0m \u001b[1;32min\u001b[0m \u001b[0mx_batch\u001b[0m\u001b[1;33m:\u001b[0m\u001b[1;33m\u001b[0m\u001b[1;33m\u001b[0m\u001b[0m\n\u001b[0;32m      4\u001b[0m         \u001b[0mvocabulary\u001b[0m\u001b[1;33m.\u001b[0m\u001b[0mupdate\u001b[0m\u001b[1;33m(\u001b[0m\u001b[0mlist\u001b[0m\u001b[1;33m(\u001b[0m\u001b[0mreview\u001b[0m\u001b[1;33m.\u001b[0m\u001b[0mnumpy\u001b[0m\u001b[1;33m(\u001b[0m\u001b[1;33m)\u001b[0m\u001b[1;33m)\u001b[0m\u001b[1;33m)\u001b[0m\u001b[1;33m\u001b[0m\u001b[1;33m\u001b[0m\u001b[0m\n",
      "\u001b[1;32mZ:\\Python\\lib\\site-packages\\pandas\\core\\generic.py\u001b[0m in \u001b[0;36m__getattr__\u001b[1;34m(self, name)\u001b[0m\n\u001b[0;32m   5272\u001b[0m             \u001b[1;32mif\u001b[0m \u001b[0mself\u001b[0m\u001b[1;33m.\u001b[0m\u001b[0m_info_axis\u001b[0m\u001b[1;33m.\u001b[0m\u001b[0m_can_hold_identifiers_and_holds_name\u001b[0m\u001b[1;33m(\u001b[0m\u001b[0mname\u001b[0m\u001b[1;33m)\u001b[0m\u001b[1;33m:\u001b[0m\u001b[1;33m\u001b[0m\u001b[1;33m\u001b[0m\u001b[0m\n\u001b[0;32m   5273\u001b[0m                 \u001b[1;32mreturn\u001b[0m \u001b[0mself\u001b[0m\u001b[1;33m[\u001b[0m\u001b[0mname\u001b[0m\u001b[1;33m]\u001b[0m\u001b[1;33m\u001b[0m\u001b[1;33m\u001b[0m\u001b[0m\n\u001b[1;32m-> 5274\u001b[1;33m             \u001b[1;32mreturn\u001b[0m \u001b[0mobject\u001b[0m\u001b[1;33m.\u001b[0m\u001b[0m__getattribute__\u001b[0m\u001b[1;33m(\u001b[0m\u001b[0mself\u001b[0m\u001b[1;33m,\u001b[0m \u001b[0mname\u001b[0m\u001b[1;33m)\u001b[0m\u001b[1;33m\u001b[0m\u001b[1;33m\u001b[0m\u001b[0m\n\u001b[0m\u001b[0;32m   5275\u001b[0m \u001b[1;33m\u001b[0m\u001b[0m\n\u001b[0;32m   5276\u001b[0m     \u001b[1;32mdef\u001b[0m \u001b[0m__setattr__\u001b[0m\u001b[1;33m(\u001b[0m\u001b[0mself\u001b[0m\u001b[1;33m,\u001b[0m \u001b[0mname\u001b[0m\u001b[1;33m:\u001b[0m \u001b[0mstr\u001b[0m\u001b[1;33m,\u001b[0m \u001b[0mvalue\u001b[0m\u001b[1;33m)\u001b[0m \u001b[1;33m->\u001b[0m \u001b[1;32mNone\u001b[0m\u001b[1;33m:\u001b[0m\u001b[1;33m\u001b[0m\u001b[1;33m\u001b[0m\u001b[0m\n",
      "\u001b[1;31mAttributeError\u001b[0m: 'Series' object has no attribute 'batch'"
     ]
    }
   ],
   "source": [
    "#vocabulary = Counter()\n",
    "#for x_batch, y_batch in train_ready.batch(32).map(preprocess):\n",
    "#    for text in x_batch:\n",
    "#        vocabulary.update(list(review.numpy()))"
   ]
  },
  {
   "cell_type": "code",
   "execution_count": 118,
   "metadata": {},
   "outputs": [],
   "source": [
    "#filling NaN with 0\n",
    "\n",
    "train_x_enc = train_x_enc.fillna(0)\n",
    "test_enc = test_enc.fillna(0)"
   ]
  },
  {
   "cell_type": "markdown",
   "metadata": {},
   "source": [
    "<center><font size=\"+2\">Building the RNN</font></center>"
   ]
  },
  {
   "cell_type": "code",
   "execution_count": 140,
   "metadata": {},
   "outputs": [],
   "source": [
    "#building the layers\n",
    "\n",
    "embed_size = 256\n",
    "model = keras.models.Sequential([\n",
    "    keras.layers.Embedding(22731,embed_size, input_shape=[None]),\n",
    "    keras.layers.GRU(256, return_sequences=True),\n",
    "    keras.layers.GRU(256),\n",
    "    keras.layers.Dense(1, activation=\"sigmoid\")\n",
    "])"
   ]
  },
  {
   "cell_type": "code",
   "execution_count": 141,
   "metadata": {},
   "outputs": [],
   "source": [
    "#setting optimzer and loss function and early callback\n",
    "\n",
    "optimizer = keras.optimizers.Adam()\n",
    "loss = 'binary_crossentropy'\n",
    "early_stopping_cb = keras.callbacks.EarlyStopping(patience=5, restore_best_weights=True)"
   ]
  },
  {
   "cell_type": "code",
   "execution_count": 142,
   "metadata": {},
   "outputs": [],
   "source": [
    "#compiling model\n",
    "\n",
    "model.compile(loss=loss,\n",
    "              optimizer=optimizer,\n",
    "              metrics=['accuracy'])"
   ]
  },
  {
   "cell_type": "code",
   "execution_count": 143,
   "metadata": {},
   "outputs": [
    {
     "name": "stdout",
     "output_type": "stream",
     "text": [
      "Epoch 1/50\n",
      "215/215 [==============================] - 35s 148ms/step - loss: 0.6873 - accuracy: 0.5681 - val_loss: 0.5460 - val_accuracy: 0.7402\n",
      "Epoch 2/50\n",
      "215/215 [==============================] - 33s 155ms/step - loss: 0.4994 - accuracy: 0.7835 - val_loss: 0.4494 - val_accuracy: 0.8097\n",
      "Epoch 3/50\n",
      "215/215 [==============================] - 33s 153ms/step - loss: 0.2505 - accuracy: 0.9117 - val_loss: 0.5838 - val_accuracy: 0.7559\n",
      "Epoch 4/50\n",
      "215/215 [==============================] - 32s 149ms/step - loss: 0.0788 - accuracy: 0.9762 - val_loss: 0.7616 - val_accuracy: 0.7349\n",
      "Epoch 5/50\n",
      "215/215 [==============================] - 33s 152ms/step - loss: 0.0432 - accuracy: 0.9865 - val_loss: 0.8692 - val_accuracy: 0.6916\n",
      "Epoch 6/50\n",
      "215/215 [==============================] - 32s 149ms/step - loss: 0.0193 - accuracy: 0.9938 - val_loss: 0.9581 - val_accuracy: 0.7336\n",
      "Epoch 7/50\n",
      "215/215 [==============================] - 32s 149ms/step - loss: 0.0154 - accuracy: 0.9929 - val_loss: 1.2159 - val_accuracy: 0.6837\n",
      "Total Time:  0:03:50.346290\n"
     ]
    }
   ],
   "source": [
    "#fitting the model and tracking how long it takes\n",
    "\n",
    "start = datetime.datetime.now()\n",
    "\n",
    "history = model.fit(train_x_enc, train_y, epochs=50, validation_split=0.1, callbacks=[early_stopping_cb])\n",
    "\n",
    "end = datetime.datetime.now()\n",
    "\n",
    "print(\"Total Time: \", end-start)"
   ]
  },
  {
   "cell_type": "code",
   "execution_count": 144,
   "metadata": {},
   "outputs": [
    {
     "data": {
      "image/png": "[encoded data removed]",
      "text/plain": [
       "<Figure size 1080x720 with 1 Axes>"
      ]
     },
     "metadata": {
      "needs_background": "light"
     },
     "output_type": "display_data"
    }
   ],
   "source": [
    "pd.DataFrame(history.history).plot(figsize=(15,10))\n",
    "plt.grid(True)\n",
    "plt.gca().set_ylim(0,1)\n",
    "plt.show()"
   ]
  },
  {
   "cell_type": "code",
   "execution_count": 145,
   "metadata": {},
   "outputs": [],
   "source": [
    "predictions = model.predict(test_enc)"
   ]
  },
  {
   "cell_type": "code",
   "execution_count": 146,
   "metadata": {},
   "outputs": [],
   "source": [
    "predictions_check = (predictions > 0.5).astype(int)"
   ]
  },
  {
   "cell_type": "code",
   "execution_count": 147,
   "metadata": {},
   "outputs": [],
   "source": [
    "df1 = pd.DataFrame({\n",
    "        'id':test_for_sub['id'],\n",
    "        'target': predictions_check[:,0]\n",
    "         })\n",
    "\n",
    "df1.to_csv('submission1_NLP.csv', index=False)"
   ]
  },
  {
   "cell_type": "markdown",
   "metadata": {},
   "source": [
    "<center><font size=\"+2\">Building the second, deeper RNN</font></center>"
   ]
  },
  {
   "cell_type": "code",
   "execution_count": 132,
   "metadata": {},
   "outputs": [],
   "source": [
    "#building the layers\n",
    "\n",
    "embed_size = 128\n",
    "model2 = keras.models.Sequential([\n",
    "    keras.layers.Embedding(22731,embed_size, input_shape=[None]),\n",
    "    keras.layers.GRU(128, return_sequences=True),\n",
    "    keras.layers.GRU(128, return_sequences=True),\n",
    "    keras.layers.GRU(128, return_sequences=True),\n",
    "    keras.layers.GRU(128, return_sequences=True),\n",
    "    keras.layers.GRU(128),\n",
    "    keras.layers.Dense(1, activation=\"sigmoid\")\n",
    "])"
   ]
  },
  {
   "cell_type": "code",
   "execution_count": 133,
   "metadata": {},
   "outputs": [],
   "source": [
    "#setting optimzer and loss function and early callback\n",
    "\n",
    "optimizer = keras.optimizers.Adam()\n",
    "loss = 'binary_crossentropy'\n",
    "early_stopping_cb = keras.callbacks.EarlyStopping(patience=5, restore_best_weights=True)"
   ]
  },
  {
   "cell_type": "code",
   "execution_count": 134,
   "metadata": {},
   "outputs": [],
   "source": [
    "#compiling model\n",
    "\n",
    "model2.compile(loss=loss,\n",
    "              optimizer=optimizer,\n",
    "              metrics=['accuracy'])"
   ]
  },
  {
   "cell_type": "code",
   "execution_count": 135,
   "metadata": {},
   "outputs": [
    {
     "name": "stdout",
     "output_type": "stream",
     "text": [
      "Epoch 1/50\n",
      "215/215 [==============================] - 26s 84ms/step - loss: 0.6598 - accuracy: 0.6101 - val_loss: 0.5049 - val_accuracy: 0.7690\n",
      "Epoch 2/50\n",
      "215/215 [==============================] - 16s 76ms/step - loss: 0.3772 - accuracy: 0.8574 - val_loss: 0.5814 - val_accuracy: 0.7257\n",
      "Epoch 3/50\n",
      "215/215 [==============================] - 17s 79ms/step - loss: 0.2246 - accuracy: 0.9252 - val_loss: 0.4838 - val_accuracy: 0.7756\n",
      "Epoch 4/50\n",
      "215/215 [==============================] - 17s 77ms/step - loss: 0.1357 - accuracy: 0.9596 - val_loss: 0.5661 - val_accuracy: 0.7625\n",
      "Epoch 5/50\n",
      "215/215 [==============================] - 16s 76ms/step - loss: 0.0670 - accuracy: 0.9826 - val_loss: 0.7412 - val_accuracy: 0.7270\n",
      "Epoch 6/50\n",
      "215/215 [==============================] - 17s 79ms/step - loss: 0.0403 - accuracy: 0.9905 - val_loss: 0.8566 - val_accuracy: 0.7257\n",
      "Epoch 7/50\n",
      "215/215 [==============================] - 17s 79ms/step - loss: 0.0297 - accuracy: 0.9920 - val_loss: 1.0707 - val_accuracy: 0.7008\n",
      "Epoch 8/50\n",
      "215/215 [==============================] - 18s 83ms/step - loss: 0.0271 - accuracy: 0.9923 - val_loss: 0.9108 - val_accuracy: 0.7375\n",
      "Total Time:  0:02:23.734601\n"
     ]
    }
   ],
   "source": [
    "#fitting the model and tracking how long it takes\n",
    "\n",
    "start = datetime.datetime.now()\n",
    "\n",
    "history = model2.fit(train_x_enc, train_y, epochs=50, validation_split=0.1, callbacks=[early_stopping_cb])\n",
    "\n",
    "end = datetime.datetime.now()\n",
    "\n",
    "print(\"Total Time: \", end-start)"
   ]
  },
  {
   "cell_type": "code",
   "execution_count": 136,
   "metadata": {},
   "outputs": [
    {
     "data": {
      "image/png": "[encoded data removed]",
      "text/plain": [
       "<Figure size 1080x720 with 1 Axes>"
      ]
     },
     "metadata": {
      "needs_background": "light"
     },
     "output_type": "display_data"
    }
   ],
   "source": [
    "pd.DataFrame(history.history).plot(figsize=(15,10))\n",
    "plt.grid(True)\n",
    "plt.gca().set_ylim(0,1)\n",
    "plt.show()"
   ]
  },
  {
   "cell_type": "code",
   "execution_count": 137,
   "metadata": {},
   "outputs": [],
   "source": [
    "predictions2 = model2.predict(test_enc)"
   ]
  },
  {
   "cell_type": "code",
   "execution_count": 138,
   "metadata": {},
   "outputs": [],
   "source": [
    "predictions2_check = (predictions2 > 0.5).astype(int)"
   ]
  },
  {
   "cell_type": "code",
   "execution_count": 139,
   "metadata": {},
   "outputs": [],
   "source": [
    "df2 = pd.DataFrame({\n",
    "        'id':test_for_sub['id'],\n",
    "        'target': predictions2_check[:,0]\n",
    "         })\n",
    "\n",
    "df2.to_csv('submission2_NLP.csv', index=False)"
   ]
  }
 ],
 "metadata": {
  "kernelspec": {
   "display_name": "Python 3",
   "language": "python",
   "name": "python3"
  },
  "language_info": {
   "codemirror_mode": {
    "name": "ipython",
    "version": 3
   },
   "file_extension": ".py",
   "mimetype": "text/x-python",
   "name": "python",
   "nbconvert_exporter": "python",
   "pygments_lexer": "ipython3",
   "version": "3.8.3"
  }
 },
 "nbformat": 4,
 "nbformat_minor": 4
}
