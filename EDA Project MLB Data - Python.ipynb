{
 "cells": [
  {
   "cell_type": "markdown",
   "metadata": {},
   "source": [
    "# EDA Project"
   ]
  },
  {
   "cell_type": "markdown",
   "metadata": {},
   "source": [
    "<div class=\"alert alert-block alert-info\">The EDA project in this course has four main parts to it: <br>\n",
    "    \n",
    "1. Project Proposal\n",
    "2. Phase 1\n",
    "3. Phase 2\n",
    "4. Report\n",
    "\n",
    "This notebook will be used for Project Proposal, Phase 1, and Phase 2. You will have specific questions to answer within this notebook for Project Proposal and Phase 1. You will also continue using this notebook for Phase 2. However, guidance and expectations can be found on Canvas for that assignment. The report is completed outside of this notebook (delivered as a PDF). Detailed instructions for that assignment are provided in Canvas.</div>"
   ]
  },
  {
   "cell_type": "markdown",
   "metadata": {},
   "source": [
    "<div class=\"alert alert-block alert-danger\"><b><font size=4>Read this before proceeding:</font></b>\n",
    "    \n",
    "1. Review the list of data sets and sources of data to avoid before choosing your data. This list is provided in the instructions for the Project Proposal assignment in Canvas.<br><br>  \n",
    "\n",
    "2. It is expected that when you are asked questions requiring typed explanations you are to use a <b><u>markdown cell</u></b> to type your answers neatly. <b><u><i>Do not provide typed answers to questions as extra comments within your code.</i></u></b> Only provide comments within your code as you normally would, i.e. as needed to explain or remind yourself what each part of the code is doing.</div>"
   ]
  },
  {
   "cell_type": "markdown",
   "metadata": {},
   "source": [
    "# Project Proposal"
   ]
  },
  {
   "cell_type": "markdown",
   "metadata": {},
   "source": [
    "<div class=\"alert alert-block alert-info\">The intent of this assignment is for you to share your chosen data file(s) with your instructor and provide general information on your goals for the EDA project.</div>"
   ]
  },
  {
   "cell_type": "markdown",
   "metadata": {},
   "source": [
    "<div class=\"alert alert-block alert-success\"><b>Step 1 (2 pts)</b>: Give a brief <i><u>description</u></i> of the source(s) of your data and include a <i><u>direct link</u></i> to your data.</div>"
   ]
  },
  {
   "cell_type": "markdown",
   "metadata": {},
   "source": [
    "The data that I am using in this project is from FiveThirtyEight. It contains every MLB matchup going back to 1871, the ELO (ratings) of each team for that game adjusted for factors such as pitching, home field advantage, how far a team has to travel etc., and the outcome of that game.\n",
    "\n",
    "https://github.com/fivethirtyeight/data/tree/master/mlb-elo"
   ]
  },
  {
   "cell_type": "markdown",
   "metadata": {},
   "source": [
    "<div class=\"alert alert-block alert-success\"><b>Step 2 (2 pts)</b>: Briefly explain why you chose this data.</div>"
   ]
  },
  {
   "cell_type": "markdown",
   "metadata": {},
   "source": [
    "I've always been interested in sports with Baseball being my favorite sport growing up and even now. Baseball statistics fascinate me and how they can correlate to the outcome of a game."
   ]
  },
  {
   "cell_type": "markdown",
   "metadata": {},
   "source": [
    "<div class=\"alert alert-block alert-success\"><b>Step 3 (1 pt)</b>: Provide a brief overview of your goals for this project.</div>"
   ]
  },
  {
   "cell_type": "markdown",
   "metadata": {},
   "source": [
    "After initial review of the data, I'd like to see how closely the ELO rating generated corresponds to the outcome of the game. I want to see how often it is correct, how often it is incorrect, and possibly how the spread (difference between winning and losing team runs) correlates to the difference in ELO rating before the game. Since the date range of the data goes back all the way to 1871 I'd like to also possibly explore how ELO rating may be more or less effective in different decades since baseball has changed significantly in the ruleset since 1871."
   ]
  },
  {
   "cell_type": "markdown",
   "metadata": {},
   "source": [
    "<div class=\"alert alert-block alert-success\"><b>Step 4 (1 pt)</b>: Read the data into this notebook.</div>"
   ]
  },
  {
   "cell_type": "code",
   "execution_count": 3,
   "metadata": {},
   "outputs": [],
   "source": [
    "import pandas as pd\n",
    "\n",
    "mlb_elo = pd.read_csv(r'mlb_elo.csv')"
   ]
  },
  {
   "cell_type": "markdown",
   "metadata": {},
   "source": [
    "<div class=\"alert alert-block alert-success\"><b>Step 5 (1 pt)</b>: Inspect the data using the <b>info(&nbsp;)</b>, <b>head(&nbsp;)</b>, and <b>tail(&nbsp;)</b> methods.</div>"
   ]
  },
  {
   "cell_type": "code",
   "execution_count": 7,
   "metadata": {},
   "outputs": [
    {
     "name": "stdout",
     "output_type": "stream",
     "text": [
      "<class 'pandas.core.frame.DataFrame'>\n",
      "RangeIndex: 220946 entries, 0 to 220945\n",
      "Data columns (total 26 columns):\n",
      " #   Column        Non-Null Count   Dtype  \n",
      "---  ------        --------------   -----  \n",
      " 0   date          220946 non-null  object \n",
      " 1   season        220946 non-null  int64  \n",
      " 2   neutral       220946 non-null  int64  \n",
      " 3   playoff       1655 non-null    object \n",
      " 4   team1         220946 non-null  object \n",
      " 5   team2         220946 non-null  object \n",
      " 6   elo1_pre      220946 non-null  float64\n",
      " 7   elo2_pre      220946 non-null  float64\n",
      " 8   elo_prob1     220946 non-null  float64\n",
      " 9   elo_prob2     220946 non-null  float64\n",
      " 10  elo1_post     220934 non-null  float64\n",
      " 11  elo2_post     220934 non-null  float64\n",
      " 12  rating1_pre   220946 non-null  float64\n",
      " 13  rating2_pre   220946 non-null  float64\n",
      " 14  pitcher1      220900 non-null  object \n",
      " 15  pitcher2      220900 non-null  object \n",
      " 16  pitcher1_rgs  187197 non-null  float64\n",
      " 17  pitcher2_rgs  187197 non-null  float64\n",
      " 18  pitcher1_adj  186516 non-null  float64\n",
      " 19  pitcher2_adj  186517 non-null  float64\n",
      " 20  rating_prob1  220946 non-null  float64\n",
      " 21  rating_prob2  220946 non-null  float64\n",
      " 22  rating1_post  220934 non-null  float64\n",
      " 23  rating2_post  220934 non-null  float64\n",
      " 24  score1        220934 non-null  float64\n",
      " 25  score2        220934 non-null  float64\n",
      "dtypes: float64(18), int64(2), object(6)\n",
      "memory usage: 43.8+ MB\n",
      "         date  season  neutral playoff team1 team2     elo1_pre     elo2_pre  \\\n",
      "0  2020-10-10    2020        1       d   LAD   SDP  1600.941583  1523.182174   \n",
      "1  2020-10-10    2020        1       d   ATL   FLA  1548.125208  1477.389762   \n",
      "2  2020-10-09    2020        1       d   SDP   LAD  1523.182174  1600.941583   \n",
      "3  2020-10-09    2020        1       d   TBD   NYY  1563.725953  1560.280886   \n",
      "4  2020-10-09    2020        1       d   OAK   HOU  1542.674494  1547.655510   \n",
      "\n",
      "   elo_prob1  elo_prob2  ...  pitcher1_rgs  pitcher2_rgs  pitcher1_adj  \\\n",
      "0   0.644930   0.355070  ...           NaN           NaN           NaN   \n",
      "1   0.632490   0.367510  ...           NaN           NaN           NaN   \n",
      "2   0.355070   0.644930  ...           NaN           NaN           NaN   \n",
      "3   0.506610   0.493390  ...           NaN           NaN           NaN   \n",
      "4   0.490443   0.509557  ...           NaN           NaN           NaN   \n",
      "\n",
      "   pitcher2_adj rating_prob1 rating_prob2  rating1_post  rating2_post  score1  \\\n",
      "0           NaN     0.642066     0.357934           NaN           NaN     NaN   \n",
      "1           NaN     0.643970     0.356030           NaN           NaN     NaN   \n",
      "2           NaN     0.357934     0.642066           NaN           NaN     NaN   \n",
      "3           NaN     0.497266     0.502734           NaN           NaN     NaN   \n",
      "4           NaN     0.461505     0.538495           NaN           NaN     NaN   \n",
      "\n",
      "   score2  \n",
      "0     NaN  \n",
      "1     NaN  \n",
      "2     NaN  \n",
      "3     NaN  \n",
      "4     NaN  \n",
      "\n",
      "[5 rows x 26 columns]\n",
      "              date  season  neutral playoff team1 team2  elo1_pre  elo2_pre  \\\n",
      "220941  1871-05-09    1871        0     NaN   TRO   ATL    1450.0  1451.483   \n",
      "220942  1871-05-08    1871        0     NaN   CHC   CL1    1450.0  1451.943   \n",
      "220943  1871-05-06    1871        0     NaN   RC1   CL1    1450.0  1448.754   \n",
      "220944  1871-05-05    1871        0     NaN   WS3   ATL    1450.0  1450.000   \n",
      "220945  1871-05-04    1871        0     NaN   FW1   CL1    1450.0  1450.000   \n",
      "\n",
      "        elo_prob1  elo_prob2  ...  pitcher1_rgs  pitcher2_rgs  pitcher1_adj  \\\n",
      "220941   0.532359   0.467641  ...           NaN           NaN           NaN   \n",
      "220942   0.531700   0.468300  ...           NaN           NaN           NaN   \n",
      "220943   0.536268   0.463732  ...           NaN           NaN           NaN   \n",
      "220944   0.534484   0.465516  ...           NaN           NaN           NaN   \n",
      "220945   0.534484   0.465516  ...           NaN           NaN           NaN   \n",
      "\n",
      "        pitcher2_adj rating_prob1 rating_prob2  rating1_post  rating2_post  \\\n",
      "220941           NaN     0.522460     0.477540      1448.525      1452.958   \n",
      "220942           NaN     0.528402     0.471598      1451.256      1450.687   \n",
      "220943           NaN     0.532974     0.467026      1446.810      1451.943   \n",
      "220944           NaN     0.534484     0.465516      1448.517      1451.483   \n",
      "220945           NaN     0.534484     0.465516      1451.246      1448.754   \n",
      "\n",
      "        score1  score2  \n",
      "220941     5.0     9.0  \n",
      "220942    14.0    12.0  \n",
      "220943     4.0    12.0  \n",
      "220944    18.0    20.0  \n",
      "220945     2.0     0.0  \n",
      "\n",
      "[5 rows x 26 columns]\n"
     ]
    }
   ],
   "source": [
    "mlb_elo.info()\n",
    "\n",
    "mlb_elo_head = mlb_elo.head()\n",
    "mlb_elo_tail = mlb_elo.tail()\n",
    "\n",
    "print(mlb_elo_head)\n",
    "print(mlb_elo_tail)"
   ]
  },
  {
   "cell_type": "markdown",
   "metadata": {},
   "source": [
    "<div class=\"alert alert-block alert-danger\"><b>STOP HERE for your Project Proposal assignment. Submit your (1) original data file(s) along with (2) the completed notebook up to this point, and (3) the html file for grading and approval.</b></div>"
   ]
  },
  {
   "cell_type": "markdown",
   "metadata": {},
   "source": [
    "<div class=\"alert alert-block alert-warning\"><b>Instructor Feedback and Approval (3 pts)</b>: Your instructor will provide feedback in either the cell below this or via Canvas. You can expect one of the following point values for this portion.\n",
    "\n",
    "<b>3 pts</b> - if your project goals and data set are both approved.<br>\n",
    "<b>2 pts</b> - if your data set is approved but changes to your project goals (Step 3) are needed.<br>\n",
    "<b>1 pt</b> - if your project goals are approved but your data set is not approved.<br>\n",
    "<b>0 pts</b> - if neither your data set nor your project goals are approved.<br><br>\n",
    "    \n",
    "<i><u>As needed, follow your instructor's feeback and guidance to get on track for the remaining portions of the EDA project.</u></i>\n",
    "</div>"
   ]
  },
  {
   "cell_type": "code",
   "execution_count": 1,
   "metadata": {},
   "outputs": [],
   "source": [
    "# load up modules\n",
    "import pandas as pd\n",
    "import numpy as np\n",
    "# load for visuals\n",
    "import seaborn as sns\n",
    "import matplotlib.pyplot as plt\n",
    "import plotly.express as px\n",
    "\n",
    "# set up notebook to display multiple output in one cell\n",
    "from IPython.core.interactiveshell import InteractiveShell\n",
    "InteractiveShell.ast_node_interactivity = \"all\""
   ]
  },
  {
   "cell_type": "markdown",
   "metadata": {},
   "source": [
    "# EDA Phase 1"
   ]
  },
  {
   "cell_type": "markdown",
   "metadata": {},
   "source": [
    "<div class=\"alert alert-block alert-info\">The overall goal of this assignment is to take all necessary steps to inspect the quality of your data and prepare the data according to your needs. For information and resources on the process of Exploratory Data Analysis (EDA), you should explore the <b><u>EDA Project Resources Module</u></b> in Canvas.\n",
    "\n",
    "Once you’ve read through the information provided in that module and have a comfortable understanding of EDA using Python, complete steps 6 through 10 listed below to satisfy the requirements for your EDA Phase 1 assignment. **Remember to convert code cells provided to markdown cells for any typed responses to questions.**</div>"
   ]
  },
  {
   "cell_type": "markdown",
   "metadata": {},
   "source": [
    "<div class=\"alert alert-block alert-success\"><b>Step 6 (2 pts)</b>: Begin by elaborating in more detail from the previous assignment on why you chose this data?<br>\n",
    "    \n",
    "1. Explain what you hope to learn from this data. \n",
    "2. Do you have a hunch about what this data will reveal? (The answer to this question will be used in the Introduction section of your EDA report.)\n",
    "</div>"
   ]
  },
  {
   "cell_type": "markdown",
   "metadata": {},
   "source": [
    "1) What I hope to learn from this data is how closely a team's elo rating and FiveThirtyEight rating correlates with the outcome of the game. In the data there is an elo rating for each team before the game is played, the probability of each team winning based on their elo, then the outcome of the game. There is also an adjusted rating created by FiveThirtyEight which takes into additional factors such as pre-season projections and starting pitchers.\n",
    "\n",
    "2) I believe the data will reveal that a majority of the time the team with the higher rating will win. I also believe that the FiveThirtyEight method of adding additional factors to the rating will be more accurate in determining outcomes."
   ]
  },
  {
   "cell_type": "markdown",
   "metadata": {},
   "source": [
    "<div class=\"alert alert-block alert-success\"><b>Step 7 (2 pts)</b>: Discuss the popluation and the sample:<br>\n",
    "    \n",
    "1. What is the population being represented by the data you’ve chosen? \n",
    "2. What is the total sample size?\n",
    "</div>"
   ]
  },
  {
   "cell_type": "markdown",
   "metadata": {},
   "source": [
    "1) The population is every major league baseball game played from 1871 until present.\n",
    "\n",
    "2) The total sample size is 220,946 games "
   ]
  },
  {
   "cell_type": "code",
   "execution_count": 5,
   "metadata": {},
   "outputs": [
    {
     "data": {
      "text/plain": [
       "(220946, 26)"
      ]
     },
     "execution_count": 5,
     "metadata": {},
     "output_type": "execute_result"
    }
   ],
   "source": [
    "mlb_elo.shape"
   ]
  },
  {
   "cell_type": "markdown",
   "metadata": {},
   "source": [
    "<div class=\"alert alert-block alert-success\"><b>Step 8 (2 pts)</b>: Describe how the data was collected. For example, is this a random sample? Are sampling weights used with the data?</div>"
   ]
  },
  {
   "cell_type": "markdown",
   "metadata": {},
   "source": [
    "The data was collected from the outcome of each major league baseball game played since 1871. It contains the full population of all major league baseball games played during this time period."
   ]
  },
  {
   "cell_type": "markdown",
   "metadata": {},
   "source": [
    "<div class=\"alert alert-block alert-success\"><b>Step 9 (4 pts)</b>: In the Project Proposal assignment you used the info(&nbsp;) method to inspect the variables, their data types, and the number of non-null values. Using that information as a guide, provide definitions of each of your variables and their corresponding data types, i.e. a data dictionary. Also indicate which variables will be used for your purposes.</div>"
   ]
  },
  {
   "cell_type": "markdown",
   "metadata": {},
   "source": [
    "Date (object) - Date the game was played <br/>\n",
    "Season (int) - Season the game was played <br/>\n",
    "Neutral (int) - Indicates if the game was played at a neutral location, 1 if yes, 0 if no <br/>\n",
    "Playoff (object) - Indicates if the game was a playoff game, null value if not playoff game <br/>\n",
    "Team 1 (object) - Home team <br/>\n",
    "Team 2 (object) - Away team <br/>\n",
    "elo1_pre (float) - Elo rating of the home team before the game <br/>\n",
    "elo2_pre (float) - Elo rating of the away team before the game <br/>\n",
    "elo_prob1 (float) - Probability of the home team winning based on their elo rating <br/>\n",
    "elo_prob2 (float) - Probability of the away team winning based on their elo rating <br/>\n",
    "elo1_post (float) - Elo rating of the home team after the game <br/>\n",
    "elo2_post (float) - Elo rating of the away team after the game <br/>\n",
    "rating1_pre (float) - FiveThirtyEight rating of the home team before the game <br/>\n",
    "rating2_pre (float) - FiveThirtyEight rating of the away team before the game <br/>\n",
    "pitcher1 (object) - Name of the home team pitcher <br/>\n",
    "pitcher2 (object) - Name of the away team pitcher <br/>\n",
    "pitcher1_rgs (float) - Rating of the home team pitcher <br/>\n",
    "pitcher2_rgs (float) - Rating of the away team pitcher <br/>\n",
    "pitcher1_adj (float) - Home team pitcher adjustment to team rating <br/>\n",
    "pitcher2_adj (float) - Away team pitcher adjustment to team rating <br/>\n",
    "rating_prob1 (float) - Probability of the home team winning based on their FiveThirtyEight rating <br/>\n",
    "rating_prob2 (float) - Probability of the away team winning based on their FiveThirtyEight rating <br/>\n",
    "rating1_post (float) - FiveThirtyEight rating of the home team after the game <br/>\n",
    "rating2_post (float) - FiveThirtyEight rating of the away team after the game <br/>\n",
    "score1 (float) - Score of the home team for the game <br/>\n",
    "score2 (float) - Score of the away team for the game <br/>\n",
    "<br/>\n",
    "<br/>\n",
    "The variables I will be starting with will be Season, Team 1, Team 2, elo1_pre, elo2_pre, elo_prob1, elo_prob2, rating1_pre, rating2_pre, rating_prob1, rating_prob2, score1, score2. "
   ]
  },
  {
   "cell_type": "markdown",
   "metadata": {},
   "source": [
    "<div class=\"alert alert-block alert-success\"><b>Step 10 (10 pts)</b>: For full credit in this problem you'll want to <i><u>take all necessary steps to report on the quality of the data</u></i> and <i><u>clean the data accordingly</u></i>. Some things to consider while doing this are listed below. <b>Depending on your data and goals, there may be additional steps needed than those listed here.</b>\n",
    "    \n",
    "1. Are there rows with missing or inconsistent values? If so, eliminate those rows from your data where appropriate.\n",
    "2. Are there any outliers or duplicate rows? If so, eliminate those rows from your data where appropriate. \n",
    "At each stage of cleaning the data, state how many rows were eliminated.\n",
    "3. Are you using all columns (variables) in the data? If not, are you eliminating those columns?\n",
    "4. Consider some type of visual display such as a boxplot to determine any outliers. Do any outliers need removed? If so, how many were removed?\n",
    "\n",
    "At each stage of cleaning the data, state how many rows were eliminated. <b><u><i>It is good practice to get the shape of the data before and after each step in cleaning the data and add typed explanations (in separate markdown cells) of the steps taken to clean the data.</i></u></b><br></div>\n",
    "    \n",
    "<div class=\"alert alert-block alert-info\">Include the rest of your work below and insert cells where needed.</div>"
   ]
  },
  {
   "cell_type": "code",
   "execution_count": 9,
   "metadata": {},
   "outputs": [
    {
     "name": "stdout",
     "output_type": "stream",
     "text": [
      "<class 'pandas.core.frame.DataFrame'>\n",
      "RangeIndex: 220946 entries, 0 to 220945\n",
      "Data columns (total 26 columns):\n",
      " #   Column        Non-Null Count   Dtype  \n",
      "---  ------        --------------   -----  \n",
      " 0   date          220946 non-null  object \n",
      " 1   season        220946 non-null  int64  \n",
      " 2   neutral       220946 non-null  int64  \n",
      " 3   playoff       1655 non-null    object \n",
      " 4   team1         220946 non-null  object \n",
      " 5   team2         220946 non-null  object \n",
      " 6   elo1_pre      220946 non-null  float64\n",
      " 7   elo2_pre      220946 non-null  float64\n",
      " 8   elo_prob1     220946 non-null  float64\n",
      " 9   elo_prob2     220946 non-null  float64\n",
      " 10  elo1_post     220934 non-null  float64\n",
      " 11  elo2_post     220934 non-null  float64\n",
      " 12  rating1_pre   220946 non-null  float64\n",
      " 13  rating2_pre   220946 non-null  float64\n",
      " 14  pitcher1      220900 non-null  object \n",
      " 15  pitcher2      220900 non-null  object \n",
      " 16  pitcher1_rgs  187197 non-null  float64\n",
      " 17  pitcher2_rgs  187197 non-null  float64\n",
      " 18  pitcher1_adj  186516 non-null  float64\n",
      " 19  pitcher2_adj  186517 non-null  float64\n",
      " 20  rating_prob1  220946 non-null  float64\n",
      " 21  rating_prob2  220946 non-null  float64\n",
      " 22  rating1_post  220934 non-null  float64\n",
      " 23  rating2_post  220934 non-null  float64\n",
      " 24  score1        220934 non-null  float64\n",
      " 25  score2        220934 non-null  float64\n",
      "dtypes: float64(18), int64(2), object(6)\n",
      "memory usage: 43.8+ MB\n"
     ]
    }
   ],
   "source": [
    "mlb_elo.info()"
   ]
  },
  {
   "cell_type": "code",
   "execution_count": 20,
   "metadata": {},
   "outputs": [],
   "source": [
    "# Removing playoff games\n",
    "mlb_playoff = mlb_elo[mlb_elo.playoff.notnull()]\n",
    "mlb_elo = mlb_elo.drop(mlb_playoff.index)"
   ]
  },
  {
   "cell_type": "markdown",
   "metadata": {},
   "source": [
    "1655 rows were deleted "
   ]
  },
  {
   "cell_type": "code",
   "execution_count": 24,
   "metadata": {},
   "outputs": [
    {
     "data": {
      "text/plain": [
       "(219291, 26)"
      ]
     },
     "execution_count": 24,
     "metadata": {},
     "output_type": "execute_result"
    },
    {
     "name": "stdout",
     "output_type": "stream",
     "text": [
      "<class 'pandas.core.frame.DataFrame'>\n",
      "Int64Index: 219291 entries, 38 to 220945\n",
      "Data columns (total 26 columns):\n",
      " #   Column        Non-Null Count   Dtype  \n",
      "---  ------        --------------   -----  \n",
      " 0   date          219291 non-null  object \n",
      " 1   season        219291 non-null  int64  \n",
      " 2   neutral       219291 non-null  int64  \n",
      " 3   playoff       0 non-null       object \n",
      " 4   team1         219291 non-null  object \n",
      " 5   team2         219291 non-null  object \n",
      " 6   elo1_pre      219291 non-null  float64\n",
      " 7   elo2_pre      219291 non-null  float64\n",
      " 8   elo_prob1     219291 non-null  float64\n",
      " 9   elo_prob2     219291 non-null  float64\n",
      " 10  elo1_post     219291 non-null  float64\n",
      " 11  elo2_post     219291 non-null  float64\n",
      " 12  rating1_pre   219291 non-null  float64\n",
      " 13  rating2_pre   219291 non-null  float64\n",
      " 14  pitcher1      219253 non-null  object \n",
      " 15  pitcher2      219253 non-null  object \n",
      " 16  pitcher1_rgs  185550 non-null  float64\n",
      " 17  pitcher2_rgs  185550 non-null  float64\n",
      " 18  pitcher1_adj  184924 non-null  float64\n",
      " 19  pitcher2_adj  184925 non-null  float64\n",
      " 20  rating_prob1  219291 non-null  float64\n",
      " 21  rating_prob2  219291 non-null  float64\n",
      " 22  rating1_post  219291 non-null  float64\n",
      " 23  rating2_post  219291 non-null  float64\n",
      " 24  score1        219291 non-null  float64\n",
      " 25  score2        219291 non-null  float64\n",
      "dtypes: float64(18), int64(2), object(6)\n",
      "memory usage: 45.2+ MB\n"
     ]
    }
   ],
   "source": [
    "mlb_elo.shape\n",
    "mlb_elo.info()"
   ]
  },
  {
   "cell_type": "code",
   "execution_count": 32,
   "metadata": {},
   "outputs": [],
   "source": [
    "# Removing neutral games\n",
    "mlb_neutral = mlb_elo[mlb_elo.neutral > 0]\n",
    "mlb_elo = mlb_elo.drop(mlb_neutral.index)"
   ]
  },
  {
   "cell_type": "markdown",
   "metadata": {},
   "source": [
    "31 Neutral games were removed"
   ]
  },
  {
   "cell_type": "code",
   "execution_count": 33,
   "metadata": {},
   "outputs": [
    {
     "data": {
      "text/plain": [
       "(219260, 26)"
      ]
     },
     "execution_count": 33,
     "metadata": {},
     "output_type": "execute_result"
    },
    {
     "name": "stdout",
     "output_type": "stream",
     "text": [
      "<class 'pandas.core.frame.DataFrame'>\n",
      "Int64Index: 219260 entries, 38 to 220945\n",
      "Data columns (total 26 columns):\n",
      " #   Column        Non-Null Count   Dtype  \n",
      "---  ------        --------------   -----  \n",
      " 0   date          219260 non-null  object \n",
      " 1   season        219260 non-null  int64  \n",
      " 2   neutral       219260 non-null  int64  \n",
      " 3   playoff       0 non-null       object \n",
      " 4   team1         219260 non-null  object \n",
      " 5   team2         219260 non-null  object \n",
      " 6   elo1_pre      219260 non-null  float64\n",
      " 7   elo2_pre      219260 non-null  float64\n",
      " 8   elo_prob1     219260 non-null  float64\n",
      " 9   elo_prob2     219260 non-null  float64\n",
      " 10  elo1_post     219260 non-null  float64\n",
      " 11  elo2_post     219260 non-null  float64\n",
      " 12  rating1_pre   219260 non-null  float64\n",
      " 13  rating2_pre   219260 non-null  float64\n",
      " 14  pitcher1      219222 non-null  object \n",
      " 15  pitcher2      219222 non-null  object \n",
      " 16  pitcher1_rgs  185519 non-null  float64\n",
      " 17  pitcher2_rgs  185519 non-null  float64\n",
      " 18  pitcher1_adj  184893 non-null  float64\n",
      " 19  pitcher2_adj  184894 non-null  float64\n",
      " 20  rating_prob1  219260 non-null  float64\n",
      " 21  rating_prob2  219260 non-null  float64\n",
      " 22  rating1_post  219260 non-null  float64\n",
      " 23  rating2_post  219260 non-null  float64\n",
      " 24  score1        219260 non-null  float64\n",
      " 25  score2        219260 non-null  float64\n",
      "dtypes: float64(18), int64(2), object(6)\n",
      "memory usage: 45.2+ MB\n"
     ]
    }
   ],
   "source": [
    "mlb_elo.shape\n",
    "mlb_elo.info()"
   ]
  },
  {
   "cell_type": "code",
   "execution_count": 40,
   "metadata": {},
   "outputs": [
    {
     "name": "stdout",
     "output_type": "stream",
     "text": [
      "<class 'pandas.core.frame.DataFrame'>\n",
      "Int64Index: 219260 entries, 38 to 220945\n",
      "Data columns (total 13 columns):\n",
      " #   Column        Non-Null Count   Dtype  \n",
      "---  ------        --------------   -----  \n",
      " 0   season        219260 non-null  int64  \n",
      " 1   team1         219260 non-null  object \n",
      " 2   team2         219260 non-null  object \n",
      " 3   elo1_pre      219260 non-null  float64\n",
      " 4   elo2_pre      219260 non-null  float64\n",
      " 5   elo_prob1     219260 non-null  float64\n",
      " 6   elo_prob2     219260 non-null  float64\n",
      " 7   rating1_pre   219260 non-null  float64\n",
      " 8   rating2_pre   219260 non-null  float64\n",
      " 9   rating_prob1  219260 non-null  float64\n",
      " 10  rating_prob2  219260 non-null  float64\n",
      " 11  score1        219260 non-null  float64\n",
      " 12  score2        219260 non-null  float64\n",
      "dtypes: float64(10), int64(1), object(2)\n",
      "memory usage: 23.4+ MB\n"
     ]
    },
    {
     "data": {
      "text/html": [
       "<div>\n",
       "<style scoped>\n",
       "    .dataframe tbody tr th:only-of-type {\n",
       "        vertical-align: middle;\n",
       "    }\n",
       "\n",
       "    .dataframe tbody tr th {\n",
       "        vertical-align: top;\n",
       "    }\n",
       "\n",
       "    .dataframe thead th {\n",
       "        text-align: right;\n",
       "    }\n",
       "</style>\n",
       "<table border=\"1\" class=\"dataframe\">\n",
       "  <thead>\n",
       "    <tr style=\"text-align: right;\">\n",
       "      <th></th>\n",
       "      <th>season</th>\n",
       "      <th>elo1_pre</th>\n",
       "      <th>elo2_pre</th>\n",
       "      <th>elo_prob1</th>\n",
       "      <th>elo_prob2</th>\n",
       "      <th>rating1_pre</th>\n",
       "      <th>rating2_pre</th>\n",
       "      <th>rating_prob1</th>\n",
       "      <th>rating_prob2</th>\n",
       "      <th>score1</th>\n",
       "      <th>score2</th>\n",
       "    </tr>\n",
       "  </thead>\n",
       "  <tbody>\n",
       "    <tr>\n",
       "      <th>count</th>\n",
       "      <td>219260.000000</td>\n",
       "      <td>219260.00000</td>\n",
       "      <td>219260.000000</td>\n",
       "      <td>219260.000000</td>\n",
       "      <td>219260.000000</td>\n",
       "      <td>219260.000000</td>\n",
       "      <td>219260.000000</td>\n",
       "      <td>219260.000000</td>\n",
       "      <td>219260.000000</td>\n",
       "      <td>219260.000000</td>\n",
       "      <td>219260.000000</td>\n",
       "    </tr>\n",
       "    <tr>\n",
       "      <th>mean</th>\n",
       "      <td>1962.292890</td>\n",
       "      <td>1503.43328</td>\n",
       "      <td>1503.022849</td>\n",
       "      <td>0.534222</td>\n",
       "      <td>0.465778</td>\n",
       "      <td>1503.432459</td>\n",
       "      <td>1503.029222</td>\n",
       "      <td>0.534748</td>\n",
       "      <td>0.465252</td>\n",
       "      <td>4.656216</td>\n",
       "      <td>4.412483</td>\n",
       "    </tr>\n",
       "    <tr>\n",
       "      <th>std</th>\n",
       "      <td>40.115194</td>\n",
       "      <td>37.72781</td>\n",
       "      <td>37.884751</td>\n",
       "      <td>0.077516</td>\n",
       "      <td>0.077516</td>\n",
       "      <td>37.993069</td>\n",
       "      <td>38.147329</td>\n",
       "      <td>0.078973</td>\n",
       "      <td>0.078973</td>\n",
       "      <td>3.286769</td>\n",
       "      <td>3.249620</td>\n",
       "    </tr>\n",
       "    <tr>\n",
       "      <th>min</th>\n",
       "      <td>1871.000000</td>\n",
       "      <td>1347.36700</td>\n",
       "      <td>1334.931000</td>\n",
       "      <td>0.206134</td>\n",
       "      <td>0.177449</td>\n",
       "      <td>1347.527000</td>\n",
       "      <td>1335.004000</td>\n",
       "      <td>0.203695</td>\n",
       "      <td>0.177482</td>\n",
       "      <td>0.000000</td>\n",
       "      <td>0.000000</td>\n",
       "    </tr>\n",
       "    <tr>\n",
       "      <th>25%</th>\n",
       "      <td>1929.000000</td>\n",
       "      <td>1478.73750</td>\n",
       "      <td>1478.470000</td>\n",
       "      <td>0.482827</td>\n",
       "      <td>0.413142</td>\n",
       "      <td>1478.740750</td>\n",
       "      <td>1478.452750</td>\n",
       "      <td>0.482239</td>\n",
       "      <td>0.411622</td>\n",
       "      <td>2.000000</td>\n",
       "      <td>2.000000</td>\n",
       "    </tr>\n",
       "    <tr>\n",
       "      <th>50%</th>\n",
       "      <td>1970.000000</td>\n",
       "      <td>1505.31800</td>\n",
       "      <td>1504.960000</td>\n",
       "      <td>0.535097</td>\n",
       "      <td>0.464903</td>\n",
       "      <td>1505.426000</td>\n",
       "      <td>1505.135000</td>\n",
       "      <td>0.535749</td>\n",
       "      <td>0.464251</td>\n",
       "      <td>4.000000</td>\n",
       "      <td>4.000000</td>\n",
       "    </tr>\n",
       "    <tr>\n",
       "      <th>75%</th>\n",
       "      <td>1997.000000</td>\n",
       "      <td>1529.16400</td>\n",
       "      <td>1528.725666</td>\n",
       "      <td>0.586858</td>\n",
       "      <td>0.517173</td>\n",
       "      <td>1529.106250</td>\n",
       "      <td>1528.728000</td>\n",
       "      <td>0.588378</td>\n",
       "      <td>0.517761</td>\n",
       "      <td>6.000000</td>\n",
       "      <td>6.000000</td>\n",
       "    </tr>\n",
       "    <tr>\n",
       "      <th>max</th>\n",
       "      <td>2020.000000</td>\n",
       "      <td>1656.63600</td>\n",
       "      <td>1657.986000</td>\n",
       "      <td>0.822551</td>\n",
       "      <td>0.793866</td>\n",
       "      <td>1658.006000</td>\n",
       "      <td>1659.344000</td>\n",
       "      <td>0.822518</td>\n",
       "      <td>0.796305</td>\n",
       "      <td>38.000000</td>\n",
       "      <td>49.000000</td>\n",
       "    </tr>\n",
       "  </tbody>\n",
       "</table>\n",
       "</div>"
      ],
      "text/plain": [
       "              season      elo1_pre       elo2_pre      elo_prob1  \\\n",
       "count  219260.000000  219260.00000  219260.000000  219260.000000   \n",
       "mean     1962.292890    1503.43328    1503.022849       0.534222   \n",
       "std        40.115194      37.72781      37.884751       0.077516   \n",
       "min      1871.000000    1347.36700    1334.931000       0.206134   \n",
       "25%      1929.000000    1478.73750    1478.470000       0.482827   \n",
       "50%      1970.000000    1505.31800    1504.960000       0.535097   \n",
       "75%      1997.000000    1529.16400    1528.725666       0.586858   \n",
       "max      2020.000000    1656.63600    1657.986000       0.822551   \n",
       "\n",
       "           elo_prob2    rating1_pre    rating2_pre   rating_prob1  \\\n",
       "count  219260.000000  219260.000000  219260.000000  219260.000000   \n",
       "mean        0.465778    1503.432459    1503.029222       0.534748   \n",
       "std         0.077516      37.993069      38.147329       0.078973   \n",
       "min         0.177449    1347.527000    1335.004000       0.203695   \n",
       "25%         0.413142    1478.740750    1478.452750       0.482239   \n",
       "50%         0.464903    1505.426000    1505.135000       0.535749   \n",
       "75%         0.517173    1529.106250    1528.728000       0.588378   \n",
       "max         0.793866    1658.006000    1659.344000       0.822518   \n",
       "\n",
       "        rating_prob2         score1         score2  \n",
       "count  219260.000000  219260.000000  219260.000000  \n",
       "mean        0.465252       4.656216       4.412483  \n",
       "std         0.078973       3.286769       3.249620  \n",
       "min         0.177482       0.000000       0.000000  \n",
       "25%         0.411622       2.000000       2.000000  \n",
       "50%         0.464251       4.000000       4.000000  \n",
       "75%         0.517761       6.000000       6.000000  \n",
       "max         0.796305      38.000000      49.000000  "
      ]
     },
     "execution_count": 40,
     "metadata": {},
     "output_type": "execute_result"
    }
   ],
   "source": [
    "# Dropping unused columns\n",
    "col_to_drop = ['date','neutral','playoff','elo1_post',\n",
    "            'elo2_post', 'pitcher1', 'pitcher2','pitcher1_rgs', 'pitcher2_rgs', 'pitcher1_adj', \n",
    "              'pitcher2_adj', 'rating1_post', 'rating2_post']\n",
    "\n",
    "mlb_data = mlb_elo.drop(columns=col_to_drop, inplace=False)\n",
    "mlb_data.info()\n",
    "mlb_data.describe()"
   ]
  },
  {
   "cell_type": "code",
   "execution_count": 79,
   "metadata": {},
   "outputs": [
    {
     "data": {
      "text/plain": [
       "219258"
      ]
     },
     "execution_count": 79,
     "metadata": {},
     "output_type": "execute_result"
    },
    {
     "data": {
      "text/html": [
       "<div>\n",
       "<style scoped>\n",
       "    .dataframe tbody tr th:only-of-type {\n",
       "        vertical-align: middle;\n",
       "    }\n",
       "\n",
       "    .dataframe tbody tr th {\n",
       "        vertical-align: top;\n",
       "    }\n",
       "\n",
       "    .dataframe thead th {\n",
       "        text-align: right;\n",
       "    }\n",
       "</style>\n",
       "<table border=\"1\" class=\"dataframe\">\n",
       "  <thead>\n",
       "    <tr style=\"text-align: right;\">\n",
       "      <th></th>\n",
       "      <th>season</th>\n",
       "      <th>team1</th>\n",
       "      <th>team2</th>\n",
       "      <th>elo1_pre</th>\n",
       "      <th>elo2_pre</th>\n",
       "      <th>elo_prob1</th>\n",
       "      <th>elo_prob2</th>\n",
       "      <th>rating1_pre</th>\n",
       "      <th>rating2_pre</th>\n",
       "      <th>rating_prob1</th>\n",
       "      <th>rating_prob2</th>\n",
       "      <th>score1</th>\n",
       "      <th>score2</th>\n",
       "      <th>combined_elo</th>\n",
       "    </tr>\n",
       "  </thead>\n",
       "  <tbody>\n",
       "    <tr>\n",
       "      <th>71936</th>\n",
       "      <td>1990</td>\n",
       "      <td>CIN</td>\n",
       "      <td>SDP</td>\n",
       "      <td>1507.314</td>\n",
       "      <td>1531.023</td>\n",
       "      <td>0.500419</td>\n",
       "      <td>0.499581</td>\n",
       "      <td>1507.746</td>\n",
       "      <td>1530.270</td>\n",
       "      <td>0.501271</td>\n",
       "      <td>0.498729</td>\n",
       "      <td>2.0</td>\n",
       "      <td>1.0</td>\n",
       "      <td>1.384639e+07</td>\n",
       "    </tr>\n",
       "    <tr>\n",
       "      <th>201058</th>\n",
       "      <td>1901</td>\n",
       "      <td>OAK</td>\n",
       "      <td>MIN</td>\n",
       "      <td>1450.000</td>\n",
       "      <td>1450.000</td>\n",
       "      <td>0.534484</td>\n",
       "      <td>0.465516</td>\n",
       "      <td>1450.000</td>\n",
       "      <td>1450.000</td>\n",
       "      <td>0.539645</td>\n",
       "      <td>0.460355</td>\n",
       "      <td>1.0</td>\n",
       "      <td>5.0</td>\n",
       "      <td>2.523000e+07</td>\n",
       "    </tr>\n",
       "    <tr>\n",
       "      <th>210584</th>\n",
       "      <td>1890</td>\n",
       "      <td>BR4</td>\n",
       "      <td>SR2</td>\n",
       "      <td>1450.000</td>\n",
       "      <td>1450.000</td>\n",
       "      <td>0.534484</td>\n",
       "      <td>0.465516</td>\n",
       "      <td>1450.000</td>\n",
       "      <td>1450.000</td>\n",
       "      <td>0.534484</td>\n",
       "      <td>0.465516</td>\n",
       "      <td>2.0</td>\n",
       "      <td>3.0</td>\n",
       "      <td>2.523000e+07</td>\n",
       "    </tr>\n",
       "    <tr>\n",
       "      <th>210818</th>\n",
       "      <td>1889</td>\n",
       "      <td>PHI</td>\n",
       "      <td>CHC</td>\n",
       "      <td>1507.314</td>\n",
       "      <td>1531.023</td>\n",
       "      <td>0.500419</td>\n",
       "      <td>0.499581</td>\n",
       "      <td>1507.263</td>\n",
       "      <td>1531.056</td>\n",
       "      <td>0.503142</td>\n",
       "      <td>0.496858</td>\n",
       "      <td>1.0</td>\n",
       "      <td>2.0</td>\n",
       "      <td>1.384639e+07</td>\n",
       "    </tr>\n",
       "  </tbody>\n",
       "</table>\n",
       "</div>"
      ],
      "text/plain": [
       "        season team1 team2  elo1_pre  elo2_pre  elo_prob1  elo_prob2  \\\n",
       "71936     1990   CIN   SDP  1507.314  1531.023   0.500419   0.499581   \n",
       "201058    1901   OAK   MIN  1450.000  1450.000   0.534484   0.465516   \n",
       "210584    1890   BR4   SR2  1450.000  1450.000   0.534484   0.465516   \n",
       "210818    1889   PHI   CHC  1507.314  1531.023   0.500419   0.499581   \n",
       "\n",
       "        rating1_pre  rating2_pre  rating_prob1  rating_prob2  score1  score2  \\\n",
       "71936      1507.746     1530.270      0.501271      0.498729     2.0     1.0   \n",
       "201058     1450.000     1450.000      0.539645      0.460355     1.0     5.0   \n",
       "210584     1450.000     1450.000      0.534484      0.465516     2.0     3.0   \n",
       "210818     1507.263     1531.056      0.503142      0.496858     1.0     2.0   \n",
       "\n",
       "        combined_elo  \n",
       "71936   1.384639e+07  \n",
       "201058  2.523000e+07  \n",
       "210584  2.523000e+07  \n",
       "210818  1.384639e+07  "
      ]
     },
     "execution_count": 79,
     "metadata": {},
     "output_type": "execute_result"
    }
   ],
   "source": [
    "# checking for duplicate rows by multiplying the elo ratings together and the scores of the game plus 1 to normalize for 0 run games\n",
    "# This should remove instances where the home team had the elo in two rows but the away team had different elo ratings\n",
    "check_dup = mlb_data[\"elo1_pre\"] * mlb_data[\"elo2_pre\"] * (mlb_data[\"score1\"] + 1) * (mlb_data[\"score2\"] + 1)\n",
    "check_dup.nunique()\n",
    "\n",
    "mlb_data[\"combined_elo\"] = check_dup\n",
    "\n",
    "duplicated = mlb_data[mlb_data.duplicated(subset=\"combined_elo\", keep=False)]\n",
    "\n",
    "duplicated"
   ]
  },
  {
   "cell_type": "markdown",
   "metadata": {},
   "source": [
    "Looks like there are no duplicate rows in the data set"
   ]
  },
  {
   "cell_type": "code",
   "execution_count": 80,
   "metadata": {},
   "outputs": [
    {
     "data": {
      "text/plain": [
       "<matplotlib.axes._subplots.AxesSubplot at 0x1ceb82304f0>"
      ]
     },
     "execution_count": 80,
     "metadata": {},
     "output_type": "execute_result"
    },
    {
     "data": {
      "image/png": "[encoded data removed]",
      "text/plain": [
       "<Figure size 432x288 with 1 Axes>"
      ]
     },
     "metadata": {
      "needs_background": "light"
     },
     "output_type": "display_data"
    }
   ],
   "source": [
    "column = ['elo1_pre', 'elo2_pre', 'rating1_pre', 'rating2_pre']\n",
    "\n",
    "mlb_data.boxplot(column)"
   ]
  },
  {
   "cell_type": "markdown",
   "metadata": {},
   "source": [
    "According to the boxplot there are outliers on both ends of the spectrum. Looking at the data, however, I do not believe that these values need to be removed. The goal of the rating system is to use 1500 as the \"average\" and with 150 years of data we would expect the majority of ratings to be within this range, which is why the mean is really close to 1500 in all 4 cases and the standard deviation is low. Teams that fall on the high side or low side of the spectrum most likely just had historic seasons (ex. if the average team wins 80 games a season, there are seasons where a team wins 40 games like the Tigers, or 116 games like the Mariners)."
   ]
  },
  {
   "cell_type": "code",
   "execution_count": 81,
   "metadata": {},
   "outputs": [],
   "source": [
    "mlb_data.to_csv('mlb_data_final.csv',index=False)"
   ]
  },
  {
   "cell_type": "markdown",
   "metadata": {},
   "source": [
    "<div class=\"alert alert-block alert-danger\"><b>STOP HERE for your EDA Phase 1 assignment. Submit your <i><u>cleaned</u></i> data file along with the completed notebook up to this point for grading.</b></div>"
   ]
  },
  {
   "cell_type": "markdown",
   "metadata": {},
   "source": [
    "# EDA Phase 2"
   ]
  },
  {
   "cell_type": "markdown",
   "metadata": {},
   "source": [
    "<div class=\"alert alert-block alert-info\">All of your work for the EDA Phase 2 assignment will begin below here. Refer to the detailed instructions and expectations for this assignment in Canvas.</div>"
   ]
  },
  {
   "cell_type": "code",
   "execution_count": 118,
   "metadata": {},
   "outputs": [],
   "source": [
    "mlb_data_final = pd.read_csv(r'mlb_data_final.csv')"
   ]
  },
  {
   "cell_type": "code",
   "execution_count": 119,
   "metadata": {},
   "outputs": [
    {
     "data": {
      "text/html": [
       "<div>\n",
       "<style scoped>\n",
       "    .dataframe tbody tr th:only-of-type {\n",
       "        vertical-align: middle;\n",
       "    }\n",
       "\n",
       "    .dataframe tbody tr th {\n",
       "        vertical-align: top;\n",
       "    }\n",
       "\n",
       "    .dataframe thead th {\n",
       "        text-align: right;\n",
       "    }\n",
       "</style>\n",
       "<table border=\"1\" class=\"dataframe\">\n",
       "  <thead>\n",
       "    <tr style=\"text-align: right;\">\n",
       "      <th></th>\n",
       "      <th>season</th>\n",
       "      <th>team1</th>\n",
       "      <th>team2</th>\n",
       "      <th>elo1_pre</th>\n",
       "      <th>elo2_pre</th>\n",
       "      <th>elo_prob1</th>\n",
       "      <th>elo_prob2</th>\n",
       "      <th>rating1_pre</th>\n",
       "      <th>rating2_pre</th>\n",
       "      <th>rating_prob1</th>\n",
       "      <th>rating_prob2</th>\n",
       "      <th>score1</th>\n",
       "      <th>score2</th>\n",
       "      <th>combined_elo</th>\n",
       "    </tr>\n",
       "  </thead>\n",
       "  <tbody>\n",
       "    <tr>\n",
       "      <th>0</th>\n",
       "      <td>2020</td>\n",
       "      <td>STL</td>\n",
       "      <td>MIL</td>\n",
       "      <td>1516.773757</td>\n",
       "      <td>1506.020198</td>\n",
       "      <td>0.549848</td>\n",
       "      <td>0.450152</td>\n",
       "      <td>1510.484379</td>\n",
       "      <td>1510.752482</td>\n",
       "      <td>0.506401</td>\n",
       "      <td>0.493599</td>\n",
       "      <td>5.0</td>\n",
       "      <td>2.0</td>\n",
       "      <td>4.111725e+07</td>\n",
       "    </tr>\n",
       "    <tr>\n",
       "      <th>1</th>\n",
       "      <td>2020</td>\n",
       "      <td>TBD</td>\n",
       "      <td>PHI</td>\n",
       "      <td>1559.364855</td>\n",
       "      <td>1499.372724</td>\n",
       "      <td>0.618573</td>\n",
       "      <td>0.381427</td>\n",
       "      <td>1555.643173</td>\n",
       "      <td>1500.011502</td>\n",
       "      <td>0.509891</td>\n",
       "      <td>0.490109</td>\n",
       "      <td>5.0</td>\n",
       "      <td>0.0</td>\n",
       "      <td>1.402841e+07</td>\n",
       "    </tr>\n",
       "    <tr>\n",
       "      <th>2</th>\n",
       "      <td>2020</td>\n",
       "      <td>OAK</td>\n",
       "      <td>SEA</td>\n",
       "      <td>1546.342522</td>\n",
       "      <td>1481.520293</td>\n",
       "      <td>0.625112</td>\n",
       "      <td>0.374888</td>\n",
       "      <td>1530.241049</td>\n",
       "      <td>1456.179500</td>\n",
       "      <td>0.571679</td>\n",
       "      <td>0.428321</td>\n",
       "      <td>6.0</td>\n",
       "      <td>2.0</td>\n",
       "      <td>4.810969e+07</td>\n",
       "    </tr>\n",
       "    <tr>\n",
       "      <th>3</th>\n",
       "      <td>2020</td>\n",
       "      <td>MIN</td>\n",
       "      <td>CIN</td>\n",
       "      <td>1540.516532</td>\n",
       "      <td>1498.348865</td>\n",
       "      <td>0.594088</td>\n",
       "      <td>0.405912</td>\n",
       "      <td>1551.662577</td>\n",
       "      <td>1517.744869</td>\n",
       "      <td>0.546466</td>\n",
       "      <td>0.453534</td>\n",
       "      <td>3.0</td>\n",
       "      <td>5.0</td>\n",
       "      <td>5.539755e+07</td>\n",
       "    </tr>\n",
       "    <tr>\n",
       "      <th>4</th>\n",
       "      <td>2020</td>\n",
       "      <td>LAD</td>\n",
       "      <td>ANA</td>\n",
       "      <td>1593.707374</td>\n",
       "      <td>1481.539764</td>\n",
       "      <td>0.686508</td>\n",
       "      <td>0.313492</td>\n",
       "      <td>1602.267866</td>\n",
       "      <td>1494.058674</td>\n",
       "      <td>0.652045</td>\n",
       "      <td>0.347955</td>\n",
       "      <td>5.0</td>\n",
       "      <td>0.0</td>\n",
       "      <td>1.416685e+07</td>\n",
       "    </tr>\n",
       "  </tbody>\n",
       "</table>\n",
       "</div>"
      ],
      "text/plain": [
       "   season team1 team2     elo1_pre     elo2_pre  elo_prob1  elo_prob2  \\\n",
       "0    2020   STL   MIL  1516.773757  1506.020198   0.549848   0.450152   \n",
       "1    2020   TBD   PHI  1559.364855  1499.372724   0.618573   0.381427   \n",
       "2    2020   OAK   SEA  1546.342522  1481.520293   0.625112   0.374888   \n",
       "3    2020   MIN   CIN  1540.516532  1498.348865   0.594088   0.405912   \n",
       "4    2020   LAD   ANA  1593.707374  1481.539764   0.686508   0.313492   \n",
       "\n",
       "   rating1_pre  rating2_pre  rating_prob1  rating_prob2  score1  score2  \\\n",
       "0  1510.484379  1510.752482      0.506401      0.493599     5.0     2.0   \n",
       "1  1555.643173  1500.011502      0.509891      0.490109     5.0     0.0   \n",
       "2  1530.241049  1456.179500      0.571679      0.428321     6.0     2.0   \n",
       "3  1551.662577  1517.744869      0.546466      0.453534     3.0     5.0   \n",
       "4  1602.267866  1494.058674      0.652045      0.347955     5.0     0.0   \n",
       "\n",
       "   combined_elo  \n",
       "0  4.111725e+07  \n",
       "1  1.402841e+07  \n",
       "2  4.810969e+07  \n",
       "3  5.539755e+07  \n",
       "4  1.416685e+07  "
      ]
     },
     "execution_count": 119,
     "metadata": {},
     "output_type": "execute_result"
    }
   ],
   "source": [
    "mlb_data_final.head()"
   ]
  },
  {
   "cell_type": "code",
   "execution_count": 120,
   "metadata": {},
   "outputs": [
    {
     "name": "stdout",
     "output_type": "stream",
     "text": [
      "<class 'pandas.core.frame.DataFrame'>\n",
      "RangeIndex: 219260 entries, 0 to 219259\n",
      "Data columns (total 14 columns):\n",
      " #   Column        Non-Null Count   Dtype  \n",
      "---  ------        --------------   -----  \n",
      " 0   season        219260 non-null  int64  \n",
      " 1   team1         219260 non-null  object \n",
      " 2   team2         219260 non-null  object \n",
      " 3   elo1_pre      219260 non-null  float64\n",
      " 4   elo2_pre      219260 non-null  float64\n",
      " 5   elo_prob1     219260 non-null  float64\n",
      " 6   elo_prob2     219260 non-null  float64\n",
      " 7   rating1_pre   219260 non-null  float64\n",
      " 8   rating2_pre   219260 non-null  float64\n",
      " 9   rating_prob1  219260 non-null  float64\n",
      " 10  rating_prob2  219260 non-null  float64\n",
      " 11  score1        219260 non-null  float64\n",
      " 12  score2        219260 non-null  float64\n",
      " 13  combined_elo  219260 non-null  float64\n",
      "dtypes: float64(11), int64(1), object(2)\n",
      "memory usage: 23.4+ MB\n"
     ]
    }
   ],
   "source": [
    "mlb_data_final.info()"
   ]
  },
  {
   "cell_type": "code",
   "execution_count": 121,
   "metadata": {},
   "outputs": [],
   "source": [
    "# dropping combined elo which was only used to find duplicates in the data and won't be used for analysis\n",
    "\n",
    "mlb_data_final = mlb_data_final.drop(columns='combined_elo', inplace=False)"
   ]
  },
  {
   "cell_type": "code",
   "execution_count": 176,
   "metadata": {},
   "outputs": [
    {
     "ename": "SyntaxError",
     "evalue": "invalid syntax (<ipython-input-176-ddd8402f77dd>, line 4)",
     "output_type": "error",
     "traceback": [
      "\u001b[1;36m  File \u001b[1;32m\"<ipython-input-176-ddd8402f77dd>\"\u001b[1;36m, line \u001b[1;32m4\u001b[0m\n\u001b[1;33m    mlb_data_final['decade'] = decade:.0f\u001b[0m\n\u001b[1;37m                                     ^\u001b[0m\n\u001b[1;31mSyntaxError\u001b[0m\u001b[1;31m:\u001b[0m invalid syntax\n"
     ]
    }
   ],
   "source": [
    "# Adding in a column for decade to see if our prediction performance varies during different decades.\n",
    "\n",
    "decade = np.floor(mlb_data_final['season'] / 10) * 10\n",
    "mlb_data_final['decade'] = decade"
   ]
  },
  {
   "cell_type": "code",
   "execution_count": 123,
   "metadata": {},
   "outputs": [
    {
     "data": {
      "text/html": [
       "<div>\n",
       "<style scoped>\n",
       "    .dataframe tbody tr th:only-of-type {\n",
       "        vertical-align: middle;\n",
       "    }\n",
       "\n",
       "    .dataframe tbody tr th {\n",
       "        vertical-align: top;\n",
       "    }\n",
       "\n",
       "    .dataframe thead th {\n",
       "        text-align: right;\n",
       "    }\n",
       "</style>\n",
       "<table border=\"1\" class=\"dataframe\">\n",
       "  <thead>\n",
       "    <tr style=\"text-align: right;\">\n",
       "      <th></th>\n",
       "      <th>season</th>\n",
       "      <th>team1</th>\n",
       "      <th>team2</th>\n",
       "      <th>elo1_pre</th>\n",
       "      <th>elo2_pre</th>\n",
       "      <th>elo_prob1</th>\n",
       "      <th>elo_prob2</th>\n",
       "      <th>rating1_pre</th>\n",
       "      <th>rating2_pre</th>\n",
       "      <th>rating_prob1</th>\n",
       "      <th>rating_prob2</th>\n",
       "      <th>score1</th>\n",
       "      <th>score2</th>\n",
       "      <th>decade</th>\n",
       "    </tr>\n",
       "  </thead>\n",
       "  <tbody>\n",
       "    <tr>\n",
       "      <th>0</th>\n",
       "      <td>2020</td>\n",
       "      <td>STL</td>\n",
       "      <td>MIL</td>\n",
       "      <td>1516.773757</td>\n",
       "      <td>1506.020198</td>\n",
       "      <td>0.549848</td>\n",
       "      <td>0.450152</td>\n",
       "      <td>1510.484379</td>\n",
       "      <td>1510.752482</td>\n",
       "      <td>0.506401</td>\n",
       "      <td>0.493599</td>\n",
       "      <td>5.0</td>\n",
       "      <td>2.0</td>\n",
       "      <td>2020.0</td>\n",
       "    </tr>\n",
       "    <tr>\n",
       "      <th>1</th>\n",
       "      <td>2020</td>\n",
       "      <td>TBD</td>\n",
       "      <td>PHI</td>\n",
       "      <td>1559.364855</td>\n",
       "      <td>1499.372724</td>\n",
       "      <td>0.618573</td>\n",
       "      <td>0.381427</td>\n",
       "      <td>1555.643173</td>\n",
       "      <td>1500.011502</td>\n",
       "      <td>0.509891</td>\n",
       "      <td>0.490109</td>\n",
       "      <td>5.0</td>\n",
       "      <td>0.0</td>\n",
       "      <td>2020.0</td>\n",
       "    </tr>\n",
       "    <tr>\n",
       "      <th>2</th>\n",
       "      <td>2020</td>\n",
       "      <td>OAK</td>\n",
       "      <td>SEA</td>\n",
       "      <td>1546.342522</td>\n",
       "      <td>1481.520293</td>\n",
       "      <td>0.625112</td>\n",
       "      <td>0.374888</td>\n",
       "      <td>1530.241049</td>\n",
       "      <td>1456.179500</td>\n",
       "      <td>0.571679</td>\n",
       "      <td>0.428321</td>\n",
       "      <td>6.0</td>\n",
       "      <td>2.0</td>\n",
       "      <td>2020.0</td>\n",
       "    </tr>\n",
       "    <tr>\n",
       "      <th>3</th>\n",
       "      <td>2020</td>\n",
       "      <td>MIN</td>\n",
       "      <td>CIN</td>\n",
       "      <td>1540.516532</td>\n",
       "      <td>1498.348865</td>\n",
       "      <td>0.594088</td>\n",
       "      <td>0.405912</td>\n",
       "      <td>1551.662577</td>\n",
       "      <td>1517.744869</td>\n",
       "      <td>0.546466</td>\n",
       "      <td>0.453534</td>\n",
       "      <td>3.0</td>\n",
       "      <td>5.0</td>\n",
       "      <td>2020.0</td>\n",
       "    </tr>\n",
       "    <tr>\n",
       "      <th>4</th>\n",
       "      <td>2020</td>\n",
       "      <td>LAD</td>\n",
       "      <td>ANA</td>\n",
       "      <td>1593.707374</td>\n",
       "      <td>1481.539764</td>\n",
       "      <td>0.686508</td>\n",
       "      <td>0.313492</td>\n",
       "      <td>1602.267866</td>\n",
       "      <td>1494.058674</td>\n",
       "      <td>0.652045</td>\n",
       "      <td>0.347955</td>\n",
       "      <td>5.0</td>\n",
       "      <td>0.0</td>\n",
       "      <td>2020.0</td>\n",
       "    </tr>\n",
       "  </tbody>\n",
       "</table>\n",
       "</div>"
      ],
      "text/plain": [
       "   season team1 team2     elo1_pre     elo2_pre  elo_prob1  elo_prob2  \\\n",
       "0    2020   STL   MIL  1516.773757  1506.020198   0.549848   0.450152   \n",
       "1    2020   TBD   PHI  1559.364855  1499.372724   0.618573   0.381427   \n",
       "2    2020   OAK   SEA  1546.342522  1481.520293   0.625112   0.374888   \n",
       "3    2020   MIN   CIN  1540.516532  1498.348865   0.594088   0.405912   \n",
       "4    2020   LAD   ANA  1593.707374  1481.539764   0.686508   0.313492   \n",
       "\n",
       "   rating1_pre  rating2_pre  rating_prob1  rating_prob2  score1  score2  \\\n",
       "0  1510.484379  1510.752482      0.506401      0.493599     5.0     2.0   \n",
       "1  1555.643173  1500.011502      0.509891      0.490109     5.0     0.0   \n",
       "2  1530.241049  1456.179500      0.571679      0.428321     6.0     2.0   \n",
       "3  1551.662577  1517.744869      0.546466      0.453534     3.0     5.0   \n",
       "4  1602.267866  1494.058674      0.652045      0.347955     5.0     0.0   \n",
       "\n",
       "   decade  \n",
       "0  2020.0  \n",
       "1  2020.0  \n",
       "2  2020.0  \n",
       "3  2020.0  \n",
       "4  2020.0  "
      ]
     },
     "execution_count": 123,
     "metadata": {},
     "output_type": "execute_result"
    }
   ],
   "source": [
    "mlb_data_final.head()"
   ]
  },
  {
   "cell_type": "code",
   "execution_count": 124,
   "metadata": {},
   "outputs": [],
   "source": [
    "# adding in a column for the winning team\n",
    " \n",
    "score1 = mlb_data_final['score1']\n",
    "score2 = mlb_data_final['score2']\n",
    "\n",
    "# score final is positive if the home team wins, negative if the away team wins, and 0 if tied\n",
    "\n",
    "score_final = score1 - score2\n",
    "winning_team = []\n",
    "    \n",
    "for i in score_final:\n",
    "    \n",
    "    if (i > 0):\n",
    "        result = 'Home'\n",
    "    elif (i < 0):\n",
    "        result = 'Away'\n",
    "    else:\n",
    "        result = 'Tie'\n",
    "    winning_team.append(result)\n",
    "    \n",
    "mlb_data_final['winning team'] = winning_team\n",
    "    "
   ]
  },
  {
   "cell_type": "markdown",
   "metadata": {},
   "source": [
    "Upon reviewing the data I initially was going to use the raw elo and ratings to determine which team was predicted to win, but after further reviewing the data there are times where a team has a higher rating but a lower probability to win. Since the goal of the analysis is to see how accurate the FiveThirtyEight probabilities were, I chose to use the probability columns for both elo and rating as opposed to raw rating."
   ]
  },
  {
   "cell_type": "code",
   "execution_count": 125,
   "metadata": {},
   "outputs": [],
   "source": [
    "# adding in a column for the elo prediction based on elo probability\n",
    " \n",
    "elo1 = mlb_data_final['elo_prob1']\n",
    "elo2 = mlb_data_final['elo_prob2']\n",
    "\n",
    "# elo final is positive if the home team wins, negative if the away team wins, and 0 if tied\n",
    "\n",
    "elo_final = elo1 - elo2\n",
    "elo_prediction = []\n",
    "    \n",
    "for i in elo_final:\n",
    "    \n",
    "    if (i > 0):\n",
    "        result = 'Home'\n",
    "    elif (i < 0):\n",
    "        result = 'Away'\n",
    "    else:\n",
    "        result = 'Tie'\n",
    "    elo_prediction.append(result)   \n",
    "    \n",
    "mlb_data_final['elo prediction'] = elo_prediction\n",
    "    "
   ]
  },
  {
   "cell_type": "code",
   "execution_count": 126,
   "metadata": {},
   "outputs": [],
   "source": [
    "#adding in a column for the rating prediction based on rating probability\n",
    " \n",
    "rating1 = mlb_data_final['rating_prob1']\n",
    "rating2 = mlb_data_final['rating_prob2']\n",
    "\n",
    "#rating final is positive if the home team wins, negative if the away team wins, and 0 if tied\n",
    "\n",
    "rating_final = rating1 - rating2\n",
    "rating_prediction = []\n",
    "    \n",
    "for i in rating_final:\n",
    "    \n",
    "    if (i > 0):\n",
    "        result = 'Home'\n",
    "    elif (i < 0):\n",
    "        result = 'Away'\n",
    "    else:\n",
    "        result = 'Tie'\n",
    "    rating_prediction.append(result)\n",
    "    \n",
    "mlb_data_final['rating prediction'] = rating_prediction\n",
    "    "
   ]
  },
  {
   "cell_type": "code",
   "execution_count": 127,
   "metadata": {},
   "outputs": [
    {
     "data": {
      "text/html": [
       "<div>\n",
       "<style scoped>\n",
       "    .dataframe tbody tr th:only-of-type {\n",
       "        vertical-align: middle;\n",
       "    }\n",
       "\n",
       "    .dataframe tbody tr th {\n",
       "        vertical-align: top;\n",
       "    }\n",
       "\n",
       "    .dataframe thead th {\n",
       "        text-align: right;\n",
       "    }\n",
       "</style>\n",
       "<table border=\"1\" class=\"dataframe\">\n",
       "  <thead>\n",
       "    <tr style=\"text-align: right;\">\n",
       "      <th></th>\n",
       "      <th>season</th>\n",
       "      <th>team1</th>\n",
       "      <th>team2</th>\n",
       "      <th>elo1_pre</th>\n",
       "      <th>elo2_pre</th>\n",
       "      <th>elo_prob1</th>\n",
       "      <th>elo_prob2</th>\n",
       "      <th>rating1_pre</th>\n",
       "      <th>rating2_pre</th>\n",
       "      <th>rating_prob1</th>\n",
       "      <th>rating_prob2</th>\n",
       "      <th>score1</th>\n",
       "      <th>score2</th>\n",
       "      <th>decade</th>\n",
       "      <th>winning team</th>\n",
       "      <th>elo prediction</th>\n",
       "      <th>rating prediction</th>\n",
       "    </tr>\n",
       "  </thead>\n",
       "  <tbody>\n",
       "    <tr>\n",
       "      <th>0</th>\n",
       "      <td>2020</td>\n",
       "      <td>STL</td>\n",
       "      <td>MIL</td>\n",
       "      <td>1516.773757</td>\n",
       "      <td>1506.020198</td>\n",
       "      <td>0.549848</td>\n",
       "      <td>0.450152</td>\n",
       "      <td>1510.484379</td>\n",
       "      <td>1510.752482</td>\n",
       "      <td>0.506401</td>\n",
       "      <td>0.493599</td>\n",
       "      <td>5.0</td>\n",
       "      <td>2.0</td>\n",
       "      <td>2020.0</td>\n",
       "      <td>Home</td>\n",
       "      <td>Home</td>\n",
       "      <td>Home</td>\n",
       "    </tr>\n",
       "    <tr>\n",
       "      <th>1</th>\n",
       "      <td>2020</td>\n",
       "      <td>TBD</td>\n",
       "      <td>PHI</td>\n",
       "      <td>1559.364855</td>\n",
       "      <td>1499.372724</td>\n",
       "      <td>0.618573</td>\n",
       "      <td>0.381427</td>\n",
       "      <td>1555.643173</td>\n",
       "      <td>1500.011502</td>\n",
       "      <td>0.509891</td>\n",
       "      <td>0.490109</td>\n",
       "      <td>5.0</td>\n",
       "      <td>0.0</td>\n",
       "      <td>2020.0</td>\n",
       "      <td>Home</td>\n",
       "      <td>Home</td>\n",
       "      <td>Home</td>\n",
       "    </tr>\n",
       "    <tr>\n",
       "      <th>2</th>\n",
       "      <td>2020</td>\n",
       "      <td>OAK</td>\n",
       "      <td>SEA</td>\n",
       "      <td>1546.342522</td>\n",
       "      <td>1481.520293</td>\n",
       "      <td>0.625112</td>\n",
       "      <td>0.374888</td>\n",
       "      <td>1530.241049</td>\n",
       "      <td>1456.179500</td>\n",
       "      <td>0.571679</td>\n",
       "      <td>0.428321</td>\n",
       "      <td>6.0</td>\n",
       "      <td>2.0</td>\n",
       "      <td>2020.0</td>\n",
       "      <td>Home</td>\n",
       "      <td>Home</td>\n",
       "      <td>Home</td>\n",
       "    </tr>\n",
       "    <tr>\n",
       "      <th>3</th>\n",
       "      <td>2020</td>\n",
       "      <td>MIN</td>\n",
       "      <td>CIN</td>\n",
       "      <td>1540.516532</td>\n",
       "      <td>1498.348865</td>\n",
       "      <td>0.594088</td>\n",
       "      <td>0.405912</td>\n",
       "      <td>1551.662577</td>\n",
       "      <td>1517.744869</td>\n",
       "      <td>0.546466</td>\n",
       "      <td>0.453534</td>\n",
       "      <td>3.0</td>\n",
       "      <td>5.0</td>\n",
       "      <td>2020.0</td>\n",
       "      <td>Away</td>\n",
       "      <td>Home</td>\n",
       "      <td>Home</td>\n",
       "    </tr>\n",
       "    <tr>\n",
       "      <th>4</th>\n",
       "      <td>2020</td>\n",
       "      <td>LAD</td>\n",
       "      <td>ANA</td>\n",
       "      <td>1593.707374</td>\n",
       "      <td>1481.539764</td>\n",
       "      <td>0.686508</td>\n",
       "      <td>0.313492</td>\n",
       "      <td>1602.267866</td>\n",
       "      <td>1494.058674</td>\n",
       "      <td>0.652045</td>\n",
       "      <td>0.347955</td>\n",
       "      <td>5.0</td>\n",
       "      <td>0.0</td>\n",
       "      <td>2020.0</td>\n",
       "      <td>Home</td>\n",
       "      <td>Home</td>\n",
       "      <td>Home</td>\n",
       "    </tr>\n",
       "    <tr>\n",
       "      <th>5</th>\n",
       "      <td>2020</td>\n",
       "      <td>CLE</td>\n",
       "      <td>PIT</td>\n",
       "      <td>1524.284153</td>\n",
       "      <td>1448.975848</td>\n",
       "      <td>0.639147</td>\n",
       "      <td>0.360853</td>\n",
       "      <td>1532.694921</td>\n",
       "      <td>1449.556461</td>\n",
       "      <td>0.557560</td>\n",
       "      <td>0.442440</td>\n",
       "      <td>8.0</td>\n",
       "      <td>6.0</td>\n",
       "      <td>2020.0</td>\n",
       "      <td>Home</td>\n",
       "      <td>Home</td>\n",
       "      <td>Home</td>\n",
       "    </tr>\n",
       "    <tr>\n",
       "      <th>6</th>\n",
       "      <td>2020</td>\n",
       "      <td>CHW</td>\n",
       "      <td>CHC</td>\n",
       "      <td>1507.188963</td>\n",
       "      <td>1520.481966</td>\n",
       "      <td>0.515404</td>\n",
       "      <td>0.484596</td>\n",
       "      <td>1516.163966</td>\n",
       "      <td>1523.620069</td>\n",
       "      <td>0.519053</td>\n",
       "      <td>0.480947</td>\n",
       "      <td>8.0</td>\n",
       "      <td>10.0</td>\n",
       "      <td>2020.0</td>\n",
       "      <td>Away</td>\n",
       "      <td>Home</td>\n",
       "      <td>Home</td>\n",
       "    </tr>\n",
       "    <tr>\n",
       "      <th>7</th>\n",
       "      <td>2020</td>\n",
       "      <td>ATL</td>\n",
       "      <td>BOS</td>\n",
       "      <td>1543.997526</td>\n",
       "      <td>1492.698052</td>\n",
       "      <td>0.606699</td>\n",
       "      <td>0.393301</td>\n",
       "      <td>1540.879538</td>\n",
       "      <td>1488.445342</td>\n",
       "      <td>0.579033</td>\n",
       "      <td>0.420967</td>\n",
       "      <td>1.0</td>\n",
       "      <td>9.0</td>\n",
       "      <td>2020.0</td>\n",
       "      <td>Away</td>\n",
       "      <td>Home</td>\n",
       "      <td>Home</td>\n",
       "    </tr>\n",
       "    <tr>\n",
       "      <th>8</th>\n",
       "      <td>2020</td>\n",
       "      <td>ARI</td>\n",
       "      <td>COL</td>\n",
       "      <td>1493.325947</td>\n",
       "      <td>1468.639104</td>\n",
       "      <td>0.569611</td>\n",
       "      <td>0.430389</td>\n",
       "      <td>1497.130952</td>\n",
       "      <td>1475.960453</td>\n",
       "      <td>0.524518</td>\n",
       "      <td>0.475482</td>\n",
       "      <td>11.0</td>\n",
       "      <td>3.0</td>\n",
       "      <td>2020.0</td>\n",
       "      <td>Home</td>\n",
       "      <td>Home</td>\n",
       "      <td>Home</td>\n",
       "    </tr>\n",
       "    <tr>\n",
       "      <th>9</th>\n",
       "      <td>2020</td>\n",
       "      <td>TOR</td>\n",
       "      <td>BAL</td>\n",
       "      <td>1503.406368</td>\n",
       "      <td>1464.088215</td>\n",
       "      <td>0.590127</td>\n",
       "      <td>0.409873</td>\n",
       "      <td>1492.478945</td>\n",
       "      <td>1434.391940</td>\n",
       "      <td>0.550945</td>\n",
       "      <td>0.449055</td>\n",
       "      <td>5.0</td>\n",
       "      <td>7.0</td>\n",
       "      <td>2020.0</td>\n",
       "      <td>Away</td>\n",
       "      <td>Home</td>\n",
       "      <td>Home</td>\n",
       "    </tr>\n",
       "    <tr>\n",
       "      <th>10</th>\n",
       "      <td>2020</td>\n",
       "      <td>WSN</td>\n",
       "      <td>NYM</td>\n",
       "      <td>1525.566440</td>\n",
       "      <td>1508.563206</td>\n",
       "      <td>0.558736</td>\n",
       "      <td>0.441264</td>\n",
       "      <td>1524.156958</td>\n",
       "      <td>1516.336257</td>\n",
       "      <td>0.510999</td>\n",
       "      <td>0.489001</td>\n",
       "      <td>15.0</td>\n",
       "      <td>5.0</td>\n",
       "      <td>2020.0</td>\n",
       "      <td>Home</td>\n",
       "      <td>Home</td>\n",
       "      <td>Home</td>\n",
       "    </tr>\n",
       "    <tr>\n",
       "      <th>11</th>\n",
       "      <td>2020</td>\n",
       "      <td>TEX</td>\n",
       "      <td>HOU</td>\n",
       "      <td>1456.420165</td>\n",
       "      <td>1539.295725</td>\n",
       "      <td>0.416073</td>\n",
       "      <td>0.583927</td>\n",
       "      <td>1457.716568</td>\n",
       "      <td>1550.626713</td>\n",
       "      <td>0.409995</td>\n",
       "      <td>0.590005</td>\n",
       "      <td>8.0</td>\n",
       "      <td>4.0</td>\n",
       "      <td>2020.0</td>\n",
       "      <td>Home</td>\n",
       "      <td>Away</td>\n",
       "      <td>Away</td>\n",
       "    </tr>\n",
       "    <tr>\n",
       "      <th>12</th>\n",
       "      <td>2020</td>\n",
       "      <td>SFG</td>\n",
       "      <td>SDP</td>\n",
       "      <td>1500.750512</td>\n",
       "      <td>1522.229803</td>\n",
       "      <td>0.503628</td>\n",
       "      <td>0.496372</td>\n",
       "      <td>1475.919616</td>\n",
       "      <td>1530.645719</td>\n",
       "      <td>0.471492</td>\n",
       "      <td>0.528508</td>\n",
       "      <td>4.0</td>\n",
       "      <td>5.0</td>\n",
       "      <td>2020.0</td>\n",
       "      <td>Away</td>\n",
       "      <td>Home</td>\n",
       "      <td>Away</td>\n",
       "    </tr>\n",
       "    <tr>\n",
       "      <th>13</th>\n",
       "      <td>2020</td>\n",
       "      <td>NYY</td>\n",
       "      <td>FLA</td>\n",
       "      <td>1553.830492</td>\n",
       "      <td>1468.993300</td>\n",
       "      <td>0.651699</td>\n",
       "      <td>0.348301</td>\n",
       "      <td>1560.055097</td>\n",
       "      <td>1465.268217</td>\n",
       "      <td>0.604991</td>\n",
       "      <td>0.395009</td>\n",
       "      <td>0.0</td>\n",
       "      <td>5.0</td>\n",
       "      <td>2020.0</td>\n",
       "      <td>Away</td>\n",
       "      <td>Home</td>\n",
       "      <td>Home</td>\n",
       "    </tr>\n",
       "    <tr>\n",
       "      <th>14</th>\n",
       "      <td>2020</td>\n",
       "      <td>KCR</td>\n",
       "      <td>DET</td>\n",
       "      <td>1459.210981</td>\n",
       "      <td>1424.529711</td>\n",
       "      <td>0.583655</td>\n",
       "      <td>0.416345</td>\n",
       "      <td>1453.565873</td>\n",
       "      <td>1435.340324</td>\n",
       "      <td>0.580730</td>\n",
       "      <td>0.419270</td>\n",
       "      <td>3.0</td>\n",
       "      <td>1.0</td>\n",
       "      <td>2020.0</td>\n",
       "      <td>Home</td>\n",
       "      <td>Home</td>\n",
       "      <td>Home</td>\n",
       "    </tr>\n",
       "  </tbody>\n",
       "</table>\n",
       "</div>"
      ],
      "text/plain": [
       "    season team1 team2     elo1_pre     elo2_pre  elo_prob1  elo_prob2  \\\n",
       "0     2020   STL   MIL  1516.773757  1506.020198   0.549848   0.450152   \n",
       "1     2020   TBD   PHI  1559.364855  1499.372724   0.618573   0.381427   \n",
       "2     2020   OAK   SEA  1546.342522  1481.520293   0.625112   0.374888   \n",
       "3     2020   MIN   CIN  1540.516532  1498.348865   0.594088   0.405912   \n",
       "4     2020   LAD   ANA  1593.707374  1481.539764   0.686508   0.313492   \n",
       "5     2020   CLE   PIT  1524.284153  1448.975848   0.639147   0.360853   \n",
       "6     2020   CHW   CHC  1507.188963  1520.481966   0.515404   0.484596   \n",
       "7     2020   ATL   BOS  1543.997526  1492.698052   0.606699   0.393301   \n",
       "8     2020   ARI   COL  1493.325947  1468.639104   0.569611   0.430389   \n",
       "9     2020   TOR   BAL  1503.406368  1464.088215   0.590127   0.409873   \n",
       "10    2020   WSN   NYM  1525.566440  1508.563206   0.558736   0.441264   \n",
       "11    2020   TEX   HOU  1456.420165  1539.295725   0.416073   0.583927   \n",
       "12    2020   SFG   SDP  1500.750512  1522.229803   0.503628   0.496372   \n",
       "13    2020   NYY   FLA  1553.830492  1468.993300   0.651699   0.348301   \n",
       "14    2020   KCR   DET  1459.210981  1424.529711   0.583655   0.416345   \n",
       "\n",
       "    rating1_pre  rating2_pre  rating_prob1  rating_prob2  score1  score2  \\\n",
       "0   1510.484379  1510.752482      0.506401      0.493599     5.0     2.0   \n",
       "1   1555.643173  1500.011502      0.509891      0.490109     5.0     0.0   \n",
       "2   1530.241049  1456.179500      0.571679      0.428321     6.0     2.0   \n",
       "3   1551.662577  1517.744869      0.546466      0.453534     3.0     5.0   \n",
       "4   1602.267866  1494.058674      0.652045      0.347955     5.0     0.0   \n",
       "5   1532.694921  1449.556461      0.557560      0.442440     8.0     6.0   \n",
       "6   1516.163966  1523.620069      0.519053      0.480947     8.0    10.0   \n",
       "7   1540.879538  1488.445342      0.579033      0.420967     1.0     9.0   \n",
       "8   1497.130952  1475.960453      0.524518      0.475482    11.0     3.0   \n",
       "9   1492.478945  1434.391940      0.550945      0.449055     5.0     7.0   \n",
       "10  1524.156958  1516.336257      0.510999      0.489001    15.0     5.0   \n",
       "11  1457.716568  1550.626713      0.409995      0.590005     8.0     4.0   \n",
       "12  1475.919616  1530.645719      0.471492      0.528508     4.0     5.0   \n",
       "13  1560.055097  1465.268217      0.604991      0.395009     0.0     5.0   \n",
       "14  1453.565873  1435.340324      0.580730      0.419270     3.0     1.0   \n",
       "\n",
       "    decade winning team elo prediction rating prediction  \n",
       "0   2020.0         Home           Home              Home  \n",
       "1   2020.0         Home           Home              Home  \n",
       "2   2020.0         Home           Home              Home  \n",
       "3   2020.0         Away           Home              Home  \n",
       "4   2020.0         Home           Home              Home  \n",
       "5   2020.0         Home           Home              Home  \n",
       "6   2020.0         Away           Home              Home  \n",
       "7   2020.0         Away           Home              Home  \n",
       "8   2020.0         Home           Home              Home  \n",
       "9   2020.0         Away           Home              Home  \n",
       "10  2020.0         Home           Home              Home  \n",
       "11  2020.0         Home           Away              Away  \n",
       "12  2020.0         Away           Home              Away  \n",
       "13  2020.0         Away           Home              Home  \n",
       "14  2020.0         Home           Home              Home  "
      ]
     },
     "execution_count": 127,
     "metadata": {},
     "output_type": "execute_result"
    }
   ],
   "source": [
    "mlb_data_final.head(15)\n"
   ]
  },
  {
   "cell_type": "code",
   "execution_count": 128,
   "metadata": {},
   "outputs": [],
   "source": [
    "# adding in a column for if the elo prediction is correct\n",
    " \n",
    "winner = mlb_data_final['winning team']\n",
    "elo_winner = mlb_data_final['elo prediction']\n",
    "\n",
    "elo_performance = []\n",
    "\n",
    "# returns a 1 if the prediction is correct, 0 if it is incorrect\n",
    "    \n",
    "for (a, b) in zip(winner, elo_winner):\n",
    "    \n",
    "    if (a == b):\n",
    "        result = 1\n",
    "    else:\n",
    "        result = 0\n",
    "    elo_performance.append(result)\n",
    "    \n",
    "mlb_data_final['elo performance'] = elo_performance"
   ]
  },
  {
   "cell_type": "code",
   "execution_count": 129,
   "metadata": {},
   "outputs": [],
   "source": [
    "# adding in a column for if the rating prediction is correct\n",
    " \n",
    "winner = mlb_data_final['winning team']\n",
    "rating_winner = mlb_data_final['rating prediction']\n",
    "\n",
    "rating_performance = []\n",
    "\n",
    "# returns a 1 if the prediction is correct, 0 if it is incorrect\n",
    "    \n",
    "for (a, b) in zip(winner, rating_winner):\n",
    "    \n",
    "    if (a == b):\n",
    "        result = 1\n",
    "    else:\n",
    "        result = 0\n",
    "    rating_performance.append(result)\n",
    "    \n",
    "mlb_data_final['rating performance'] = rating_performance"
   ]
  },
  {
   "cell_type": "code",
   "execution_count": 135,
   "metadata": {},
   "outputs": [],
   "source": [
    "# adding in a column to see if the predictions are the same\n",
    " \n",
    "elo_prediction1 = mlb_data_final['elo prediction']\n",
    "rating_prediction1 = mlb_data_final['rating prediction']\n",
    "\n",
    "same_prediction = []\n",
    "\n",
    "# returns a 1 if the values are the same, 0 if the values are different\n",
    "    \n",
    "for (a, b) in zip(elo_prediction1, rating_prediction1):\n",
    "    \n",
    "    if (a == b):\n",
    "        result = 1\n",
    "    else:\n",
    "        result = 0\n",
    "    same_prediction.append(result)\n",
    "    \n",
    "mlb_data_final['same prediction'] = same_prediction"
   ]
  },
  {
   "cell_type": "code",
   "execution_count": 136,
   "metadata": {},
   "outputs": [
    {
     "data": {
      "text/html": [
       "<div>\n",
       "<style scoped>\n",
       "    .dataframe tbody tr th:only-of-type {\n",
       "        vertical-align: middle;\n",
       "    }\n",
       "\n",
       "    .dataframe tbody tr th {\n",
       "        vertical-align: top;\n",
       "    }\n",
       "\n",
       "    .dataframe thead th {\n",
       "        text-align: right;\n",
       "    }\n",
       "</style>\n",
       "<table border=\"1\" class=\"dataframe\">\n",
       "  <thead>\n",
       "    <tr style=\"text-align: right;\">\n",
       "      <th></th>\n",
       "      <th>season</th>\n",
       "      <th>team1</th>\n",
       "      <th>team2</th>\n",
       "      <th>elo1_pre</th>\n",
       "      <th>elo2_pre</th>\n",
       "      <th>elo_prob1</th>\n",
       "      <th>elo_prob2</th>\n",
       "      <th>rating1_pre</th>\n",
       "      <th>rating2_pre</th>\n",
       "      <th>rating_prob1</th>\n",
       "      <th>rating_prob2</th>\n",
       "      <th>score1</th>\n",
       "      <th>score2</th>\n",
       "      <th>decade</th>\n",
       "      <th>winning team</th>\n",
       "      <th>elo prediction</th>\n",
       "      <th>rating prediction</th>\n",
       "      <th>elo performance</th>\n",
       "      <th>rating performance</th>\n",
       "      <th>same prediction</th>\n",
       "    </tr>\n",
       "  </thead>\n",
       "  <tbody>\n",
       "    <tr>\n",
       "      <th>0</th>\n",
       "      <td>2020</td>\n",
       "      <td>STL</td>\n",
       "      <td>MIL</td>\n",
       "      <td>1516.773757</td>\n",
       "      <td>1506.020198</td>\n",
       "      <td>0.549848</td>\n",
       "      <td>0.450152</td>\n",
       "      <td>1510.484379</td>\n",
       "      <td>1510.752482</td>\n",
       "      <td>0.506401</td>\n",
       "      <td>0.493599</td>\n",
       "      <td>5.0</td>\n",
       "      <td>2.0</td>\n",
       "      <td>2020.0</td>\n",
       "      <td>Home</td>\n",
       "      <td>Home</td>\n",
       "      <td>Home</td>\n",
       "      <td>1</td>\n",
       "      <td>1</td>\n",
       "      <td>1</td>\n",
       "    </tr>\n",
       "    <tr>\n",
       "      <th>1</th>\n",
       "      <td>2020</td>\n",
       "      <td>TBD</td>\n",
       "      <td>PHI</td>\n",
       "      <td>1559.364855</td>\n",
       "      <td>1499.372724</td>\n",
       "      <td>0.618573</td>\n",
       "      <td>0.381427</td>\n",
       "      <td>1555.643173</td>\n",
       "      <td>1500.011502</td>\n",
       "      <td>0.509891</td>\n",
       "      <td>0.490109</td>\n",
       "      <td>5.0</td>\n",
       "      <td>0.0</td>\n",
       "      <td>2020.0</td>\n",
       "      <td>Home</td>\n",
       "      <td>Home</td>\n",
       "      <td>Home</td>\n",
       "      <td>1</td>\n",
       "      <td>1</td>\n",
       "      <td>1</td>\n",
       "    </tr>\n",
       "    <tr>\n",
       "      <th>2</th>\n",
       "      <td>2020</td>\n",
       "      <td>OAK</td>\n",
       "      <td>SEA</td>\n",
       "      <td>1546.342522</td>\n",
       "      <td>1481.520293</td>\n",
       "      <td>0.625112</td>\n",
       "      <td>0.374888</td>\n",
       "      <td>1530.241049</td>\n",
       "      <td>1456.179500</td>\n",
       "      <td>0.571679</td>\n",
       "      <td>0.428321</td>\n",
       "      <td>6.0</td>\n",
       "      <td>2.0</td>\n",
       "      <td>2020.0</td>\n",
       "      <td>Home</td>\n",
       "      <td>Home</td>\n",
       "      <td>Home</td>\n",
       "      <td>1</td>\n",
       "      <td>1</td>\n",
       "      <td>1</td>\n",
       "    </tr>\n",
       "    <tr>\n",
       "      <th>3</th>\n",
       "      <td>2020</td>\n",
       "      <td>MIN</td>\n",
       "      <td>CIN</td>\n",
       "      <td>1540.516532</td>\n",
       "      <td>1498.348865</td>\n",
       "      <td>0.594088</td>\n",
       "      <td>0.405912</td>\n",
       "      <td>1551.662577</td>\n",
       "      <td>1517.744869</td>\n",
       "      <td>0.546466</td>\n",
       "      <td>0.453534</td>\n",
       "      <td>3.0</td>\n",
       "      <td>5.0</td>\n",
       "      <td>2020.0</td>\n",
       "      <td>Away</td>\n",
       "      <td>Home</td>\n",
       "      <td>Home</td>\n",
       "      <td>0</td>\n",
       "      <td>0</td>\n",
       "      <td>1</td>\n",
       "    </tr>\n",
       "    <tr>\n",
       "      <th>4</th>\n",
       "      <td>2020</td>\n",
       "      <td>LAD</td>\n",
       "      <td>ANA</td>\n",
       "      <td>1593.707374</td>\n",
       "      <td>1481.539764</td>\n",
       "      <td>0.686508</td>\n",
       "      <td>0.313492</td>\n",
       "      <td>1602.267866</td>\n",
       "      <td>1494.058674</td>\n",
       "      <td>0.652045</td>\n",
       "      <td>0.347955</td>\n",
       "      <td>5.0</td>\n",
       "      <td>0.0</td>\n",
       "      <td>2020.0</td>\n",
       "      <td>Home</td>\n",
       "      <td>Home</td>\n",
       "      <td>Home</td>\n",
       "      <td>1</td>\n",
       "      <td>1</td>\n",
       "      <td>1</td>\n",
       "    </tr>\n",
       "  </tbody>\n",
       "</table>\n",
       "</div>"
      ],
      "text/plain": [
       "   season team1 team2     elo1_pre     elo2_pre  elo_prob1  elo_prob2  \\\n",
       "0    2020   STL   MIL  1516.773757  1506.020198   0.549848   0.450152   \n",
       "1    2020   TBD   PHI  1559.364855  1499.372724   0.618573   0.381427   \n",
       "2    2020   OAK   SEA  1546.342522  1481.520293   0.625112   0.374888   \n",
       "3    2020   MIN   CIN  1540.516532  1498.348865   0.594088   0.405912   \n",
       "4    2020   LAD   ANA  1593.707374  1481.539764   0.686508   0.313492   \n",
       "\n",
       "   rating1_pre  rating2_pre  rating_prob1  rating_prob2  score1  score2  \\\n",
       "0  1510.484379  1510.752482      0.506401      0.493599     5.0     2.0   \n",
       "1  1555.643173  1500.011502      0.509891      0.490109     5.0     0.0   \n",
       "2  1530.241049  1456.179500      0.571679      0.428321     6.0     2.0   \n",
       "3  1551.662577  1517.744869      0.546466      0.453534     3.0     5.0   \n",
       "4  1602.267866  1494.058674      0.652045      0.347955     5.0     0.0   \n",
       "\n",
       "   decade winning team elo prediction rating prediction  elo performance  \\\n",
       "0  2020.0         Home           Home              Home                1   \n",
       "1  2020.0         Home           Home              Home                1   \n",
       "2  2020.0         Home           Home              Home                1   \n",
       "3  2020.0         Away           Home              Home                0   \n",
       "4  2020.0         Home           Home              Home                1   \n",
       "\n",
       "   rating performance  same prediction  \n",
       "0                   1                1  \n",
       "1                   1                1  \n",
       "2                   1                1  \n",
       "3                   0                1  \n",
       "4                   1                1  "
      ]
     },
     "execution_count": 136,
     "metadata": {},
     "output_type": "execute_result"
    },
    {
     "name": "stdout",
     "output_type": "stream",
     "text": [
      "<class 'pandas.core.frame.DataFrame'>\n",
      "RangeIndex: 219260 entries, 0 to 219259\n",
      "Data columns (total 20 columns):\n",
      " #   Column              Non-Null Count   Dtype  \n",
      "---  ------              --------------   -----  \n",
      " 0   season              219260 non-null  int64  \n",
      " 1   team1               219260 non-null  object \n",
      " 2   team2               219260 non-null  object \n",
      " 3   elo1_pre            219260 non-null  float64\n",
      " 4   elo2_pre            219260 non-null  float64\n",
      " 5   elo_prob1           219260 non-null  float64\n",
      " 6   elo_prob2           219260 non-null  float64\n",
      " 7   rating1_pre         219260 non-null  float64\n",
      " 8   rating2_pre         219260 non-null  float64\n",
      " 9   rating_prob1        219260 non-null  float64\n",
      " 10  rating_prob2        219260 non-null  float64\n",
      " 11  score1              219260 non-null  float64\n",
      " 12  score2              219260 non-null  float64\n",
      " 13  decade              219260 non-null  float64\n",
      " 14  winning team        219260 non-null  object \n",
      " 15  elo prediction      219260 non-null  object \n",
      " 16  rating prediction   219260 non-null  object \n",
      " 17  elo performance     219260 non-null  int64  \n",
      " 18  rating performance  219260 non-null  int64  \n",
      " 19  same prediction     219260 non-null  int64  \n",
      "dtypes: float64(11), int64(4), object(5)\n",
      "memory usage: 33.5+ MB\n"
     ]
    }
   ],
   "source": [
    "mlb_data_final.head()\n",
    "mlb_data_final.info()"
   ]
  },
  {
   "cell_type": "markdown",
   "metadata": {},
   "source": [
    "<br>\n",
    "<br>\n",
    "<br>\n",
    "<br>\n",
    "<br>\n",
    "<h2>Hypothesis: Due to the fact that the FiveThirtyEight rating system includes factors such as starting pitcher for the game, I believe it will be more accurate than a basic elo rating in predicting the correct winner of the game</h2>\n",
    "<br>\n",
    "<br>\n",
    "<br>\n",
    "<br>\n",
    "<br>"
   ]
  },
  {
   "cell_type": "code",
   "execution_count": 139,
   "metadata": {},
   "outputs": [],
   "source": [
    "# defining variables to calculate overall % correct\n",
    "\n",
    "elo_count = mlb_data_final['elo performance'].count()\n",
    "elo_correct = sum(mlb_data_final['elo performance'])\n",
    "\n",
    "rating_count = mlb_data_final['rating performance'].count()\n",
    "rating_correct = sum(mlb_data_final['rating performance'])\n",
    "\n",
    "same_prediction_count = mlb_data_final['same prediction'].count()\n",
    "same_prediction_correct = sum(mlb_data_final['same prediction'])"
   ]
  },
  {
   "cell_type": "code",
   "execution_count": 157,
   "metadata": {},
   "outputs": [
    {
     "name": "stdout",
     "output_type": "stream",
     "text": [
      "The overall Elo Percentage correct is: 57.49%\n",
      "The overall Rating Percentage correct is: 57.55%\n",
      "The overall Rating Percentage is 5 basis points better than the overall Elo Percentage\n"
     ]
    }
   ],
   "source": [
    "# comparing initial accuracy of the prediction methods\n",
    "\n",
    "elo_percent_correct = elo_correct / elo_count\n",
    "rating_percent_correct = rating_correct / rating_count\n",
    "\n",
    "print(f'The overall Elo Percentage correct is: {elo_percent_correct * 100:.2f}%')\n",
    "print(f'The overall Rating Percentage correct is: {rating_percent_correct * 100:.2f}%')\n",
    "\n",
    "if rating_percent_correct > elo_percent_correct:\n",
    "    print(f'The overall Rating Percentage is {(rating_percent_correct - elo_percent_correct)*10000:.0f} basis points better than the overall Elo Percentage')\n",
    "else:\n",
    "    print(f'The overall Elo Percentage is {(elo_percent_correct - rating_percent_correct)*10000:.0f} basis points better than the overall Rating Percentage')"
   ]
  },
  {
   "cell_type": "markdown",
   "metadata": {},
   "source": [
    "The inital high level analysis shows that our hypothesis is correct, but the margin is very low. Next we will take a look at if this differs by decade"
   ]
  },
  {
   "cell_type": "code",
   "execution_count": 191,
   "metadata": {},
   "outputs": [
    {
     "data": {
      "text/plain": [
       "decade\n",
       "1870.0    66.108374\n",
       "1880.0    61.937342\n",
       "1890.0    61.293210\n",
       "1900.0    59.742550\n",
       "1910.0    57.900836\n",
       "1920.0    58.183884\n",
       "1930.0    59.337178\n",
       "1940.0    58.653846\n",
       "1950.0    58.509779\n",
       "1960.0    56.794687\n",
       "1970.0    56.548521\n",
       "1980.0    54.821262\n",
       "1990.0    55.557099\n",
       "2000.0    56.640593\n",
       "2010.0    56.298677\n",
       "2020.0    55.902004\n",
       "Name: elo performance, dtype: float64"
      ]
     },
     "execution_count": 191,
     "metadata": {},
     "output_type": "execute_result"
    },
    {
     "data": {
      "text/plain": [
       "decade\n",
       "1870.0    65.960591\n",
       "1880.0    61.925339\n",
       "1890.0    61.315583\n",
       "1900.0    59.733733\n",
       "1910.0    57.751842\n",
       "1920.0    58.273148\n",
       "1930.0    59.296564\n",
       "1940.0    58.605365\n",
       "1950.0    58.485534\n",
       "1960.0    56.894931\n",
       "1970.0    56.619206\n",
       "1980.0    54.663913\n",
       "1990.0    55.483005\n",
       "2000.0    56.644710\n",
       "2010.0    56.916801\n",
       "2020.0    57.126949\n",
       "Name: rating performance, dtype: float64"
      ]
     },
     "execution_count": 191,
     "metadata": {},
     "output_type": "execute_result"
    },
    {
     "data": {
      "text/plain": [
       "decade\n",
       "1870.0    -14.778325\n",
       "1880.0     -1.200336\n",
       "1890.0      2.237387\n",
       "1900.0     -0.881679\n",
       "1910.0    -14.899429\n",
       "1920.0      8.926398\n",
       "1930.0     -4.061408\n",
       "1940.0     -4.848093\n",
       "1950.0     -2.424438\n",
       "1960.0     10.024435\n",
       "1970.0      7.068565\n",
       "1980.0    -15.734867\n",
       "1990.0     -7.409466\n",
       "2000.0      0.411692\n",
       "2010.0     61.812338\n",
       "2020.0    122.494432\n",
       "dtype: float64"
      ]
     },
     "execution_count": 191,
     "metadata": {},
     "output_type": "execute_result"
    }
   ],
   "source": [
    "mlb_decades_sum = mlb_data_final.groupby(by='decade').sum()\n",
    "mlb_decades_count = mlb_data_final.groupby(by='decade').count()\n",
    "\n",
    "mlb_decades_elo_correct = mlb_decades_sum['elo performance'] / mlb_decades_count['elo performance']\n",
    "mlb_decades_rating_correct = mlb_decades_sum['rating performance'] / mlb_decades_count['rating performance']\n",
    "mlb_decades_difference = mlb_decades_rating_correct - mlb_decades_elo_correct\n",
    "\n",
    "mlb_decades_elo_correct * 100\n",
    "mlb_decades_rating_correct * 100\n",
    "mlb_decades_difference * 10000"
   ]
  },
  {
   "cell_type": "code",
   "execution_count": 196,
   "metadata": {},
   "outputs": [
    {
     "data": {
      "text/plain": [
       "[<matplotlib.lines.Line2D at 0x10151d68460>]"
      ]
     },
     "execution_count": 196,
     "metadata": {},
     "output_type": "execute_result"
    },
    {
     "data": {
      "text/plain": [
       "[<matplotlib.lines.Line2D at 0x10151d68850>]"
      ]
     },
     "execution_count": 196,
     "metadata": {},
     "output_type": "execute_result"
    },
    {
     "data": {
      "text/plain": [
       "<matplotlib.legend.Legend at 0x10151d68790>"
      ]
     },
     "execution_count": 196,
     "metadata": {},
     "output_type": "execute_result"
    },
    {
     "data": {
      "image/png": "[encoded data removed]",
      "text/plain": [
       "<Figure size 432x288 with 1 Axes>"
      ]
     },
     "metadata": {
      "needs_background": "light"
     },
     "output_type": "display_data"
    }
   ],
   "source": [
    "y1 = mlb_decades_elo_correct\n",
    "y2 = mlb_decades_rating_correct\n",
    "\n",
    "\n",
    "plt.plot(y1, marker='o', markerfacecolor='blue', markersize=8, color='skyblue', linewidth=4, label='Elo % Correct')\n",
    "plt.plot(y2, marker='+', markerfacecolor='olive', markersize=8, color='olive', linewidth=2, label='Rating % Correct')\n",
    "plt.legend()"
   ]
  },
  {
   "cell_type": "code",
   "execution_count": 199,
   "metadata": {},
   "outputs": [
    {
     "data": {
      "text/plain": [
       "[<matplotlib.lines.Line2D at 0x1015515adf0>]"
      ]
     },
     "execution_count": 199,
     "metadata": {},
     "output_type": "execute_result"
    },
    {
     "data": {
      "text/plain": [
       "[<matplotlib.lines.Line2D at 0x1015516a2e0>]"
      ]
     },
     "execution_count": 199,
     "metadata": {},
     "output_type": "execute_result"
    },
    {
     "data": {
      "text/plain": [
       "<matplotlib.legend.Legend at 0x1015515abb0>"
      ]
     },
     "execution_count": 199,
     "metadata": {},
     "output_type": "execute_result"
    },
    {
     "data": {
      "image/png": "[encoded data removed]",
      "text/plain": [
       "<Figure size 432x288 with 1 Axes>"
      ]
     },
     "metadata": {
      "needs_background": "light"
     },
     "output_type": "display_data"
    }
   ],
   "source": [
    "y3 = mlb_decades_difference * 10000\n",
    "y4 = mlb_decades_difference * 0\n",
    "\n",
    "plt.plot(y3, color='orange', linewidth=4, label='Rating performance compared to Elo in basis points')\n",
    "plt.plot(y4, color='black', linewidth=1)\n",
    "plt.legend()"
   ]
  },
  {
   "cell_type": "markdown",
   "metadata": {},
   "source": [
    "We see that the difference between elo and rating historically has been next to nothing, but since the decade 2000 the rating has outperformed the elo. Next we will focus on only the decades 2000, 2010, and 2020."
   ]
  },
  {
   "cell_type": "code",
   "execution_count": 194,
   "metadata": {},
   "outputs": [
    {
     "name": "stdout",
     "output_type": "stream",
     "text": [
      "<class 'pandas.core.frame.DataFrame'>\n",
      "Int64Index: 49455 entries, 0 to 49454\n",
      "Data columns (total 20 columns):\n",
      " #   Column              Non-Null Count  Dtype  \n",
      "---  ------              --------------  -----  \n",
      " 0   season              49455 non-null  int64  \n",
      " 1   team1               49455 non-null  object \n",
      " 2   team2               49455 non-null  object \n",
      " 3   elo1_pre            49455 non-null  float64\n",
      " 4   elo2_pre            49455 non-null  float64\n",
      " 5   elo_prob1           49455 non-null  float64\n",
      " 6   elo_prob2           49455 non-null  float64\n",
      " 7   rating1_pre         49455 non-null  float64\n",
      " 8   rating2_pre         49455 non-null  float64\n",
      " 9   rating_prob1        49455 non-null  float64\n",
      " 10  rating_prob2        49455 non-null  float64\n",
      " 11  score1              49455 non-null  float64\n",
      " 12  score2              49455 non-null  float64\n",
      " 13  decade              49455 non-null  float64\n",
      " 14  winning team        49455 non-null  object \n",
      " 15  elo prediction      49455 non-null  object \n",
      " 16  rating prediction   49455 non-null  object \n",
      " 17  elo performance     49455 non-null  int64  \n",
      " 18  rating performance  49455 non-null  int64  \n",
      " 19  same prediction     49455 non-null  int64  \n",
      "dtypes: float64(11), int64(4), object(5)\n",
      "memory usage: 7.9+ MB\n"
     ]
    }
   ],
   "source": [
    "mlb_data_focus = mlb_data_final[mlb_data_final['decade'] >= 2000]\n",
    "mlb_data_focus.info()"
   ]
  },
  {
   "cell_type": "markdown",
   "metadata": {},
   "source": [
    "We will now look at performance by season starting with 2000"
   ]
  },
  {
   "cell_type": "code",
   "execution_count": 195,
   "metadata": {},
   "outputs": [
    {
     "data": {
      "text/plain": [
       "season\n",
       "2000    56.878089\n",
       "2001    55.249074\n",
       "2002    58.202803\n",
       "2003    57.818930\n",
       "2004    57.825371\n",
       "2005    56.643357\n",
       "2006    55.907781\n",
       "2007    55.573838\n",
       "2008    55.518946\n",
       "2009    56.790123\n",
       "2010    56.613103\n",
       "2011    56.154796\n",
       "2012    56.589786\n",
       "2013    56.026327\n",
       "2014    55.024712\n",
       "2015    54.672705\n",
       "2016    54.676555\n",
       "2017    56.229373\n",
       "2018    57.608247\n",
       "2019    59.404713\n",
       "2020    55.902004\n",
       "Name: elo performance, dtype: float64"
      ]
     },
     "execution_count": 195,
     "metadata": {},
     "output_type": "execute_result"
    },
    {
     "data": {
      "text/plain": [
       "season\n",
       "2000    56.425041\n",
       "2001    55.290243\n",
       "2002    58.120363\n",
       "2003    57.818930\n",
       "2004    57.125206\n",
       "2005    56.314274\n",
       "2006    55.825443\n",
       "2007    56.273139\n",
       "2008    56.301483\n",
       "2009    56.954733\n",
       "2010    55.459415\n",
       "2011    55.619597\n",
       "2012    56.466227\n",
       "2013    58.288770\n",
       "2014    55.477759\n",
       "2015    55.290243\n",
       "2016    56.654306\n",
       "2017    57.054455\n",
       "2018    59.010309\n",
       "2019    59.859446\n",
       "2020    57.126949\n",
       "Name: rating performance, dtype: float64"
      ]
     },
     "execution_count": 195,
     "metadata": {},
     "output_type": "execute_result"
    },
    {
     "data": {
      "text/plain": [
       "season\n",
       "2000    -45.304778\n",
       "2001      4.116921\n",
       "2002     -8.244023\n",
       "2003      0.000000\n",
       "2004    -70.016474\n",
       "2005    -32.908268\n",
       "2006     -8.233841\n",
       "2007     69.930070\n",
       "2008     78.253707\n",
       "2009     16.460905\n",
       "2010   -115.368768\n",
       "2011    -53.519967\n",
       "2012    -12.355848\n",
       "2013    226.244344\n",
       "2014     45.304778\n",
       "2015     61.753808\n",
       "2016    197.775031\n",
       "2017     82.508251\n",
       "2018    140.206186\n",
       "2019     45.473336\n",
       "2020    122.494432\n",
       "dtype: float64"
      ]
     },
     "execution_count": 195,
     "metadata": {},
     "output_type": "execute_result"
    }
   ],
   "source": [
    "mlb_seasons_sum = mlb_data_focus.groupby(by='season').sum()\n",
    "mlb_seasons_count = mlb_data_focus.groupby(by='season').count()\n",
    "\n",
    "mlb_seasons_elo_correct = mlb_seasons_sum['elo performance'] / mlb_seasons_count['elo performance']\n",
    "mlb_seasons_rating_correct = mlb_seasons_sum['rating performance'] / mlb_seasons_count['rating performance']\n",
    "mlb_seasons_difference = mlb_seasons_rating_correct - mlb_seasons_elo_correct\n",
    "\n",
    "mlb_seasons_elo_correct * 100\n",
    "mlb_seasons_rating_correct * 100\n",
    "mlb_seasons_difference * 10000"
   ]
  },
  {
   "cell_type": "code",
   "execution_count": 197,
   "metadata": {},
   "outputs": [
    {
     "data": {
      "text/plain": [
       "[<matplotlib.lines.Line2D at 0x1014fdd98b0>]"
      ]
     },
     "execution_count": 197,
     "metadata": {},
     "output_type": "execute_result"
    },
    {
     "data": {
      "text/plain": [
       "[<matplotlib.lines.Line2D at 0x1014e3facd0>]"
      ]
     },
     "execution_count": 197,
     "metadata": {},
     "output_type": "execute_result"
    },
    {
     "data": {
      "text/plain": [
       "<matplotlib.legend.Legend at 0x1014e3fa760>"
      ]
     },
     "execution_count": 197,
     "metadata": {},
     "output_type": "execute_result"
    },
    {
     "data": {
      "image/png": "[encoded data removed]",
      "text/plain": [
       "<Figure size 432x288 with 1 Axes>"
      ]
     },
     "metadata": {
      "needs_background": "light"
     },
     "output_type": "display_data"
    }
   ],
   "source": [
    "y1 = mlb_seasons_elo_correct\n",
    "y2 = mlb_seasons_rating_correct\n",
    "\n",
    "\n",
    "plt.plot(y1, marker='o', markerfacecolor='blue', markersize=8, color='skyblue', linewidth=4, label='Elo % Correct')\n",
    "plt.plot(y2, marker='+', markerfacecolor='olive', markersize=8, color='olive', linewidth=2, label='Rating % Correct')\n",
    "plt.legend()"
   ]
  },
  {
   "cell_type": "code",
   "execution_count": 200,
   "metadata": {},
   "outputs": [
    {
     "data": {
      "text/plain": [
       "[<matplotlib.lines.Line2D at 0x101551c2a30>]"
      ]
     },
     "execution_count": 200,
     "metadata": {},
     "output_type": "execute_result"
    },
    {
     "data": {
      "text/plain": [
       "[<matplotlib.lines.Line2D at 0x101551c2d90>]"
      ]
     },
     "execution_count": 200,
     "metadata": {},
     "output_type": "execute_result"
    },
    {
     "data": {
      "text/plain": [
       "<matplotlib.legend.Legend at 0x101551c2b80>"
      ]
     },
     "execution_count": 200,
     "metadata": {},
     "output_type": "execute_result"
    },
    {
     "data": {
      "image/png": "[encoded data removed]",
      "text/plain": [
       "<Figure size 432x288 with 1 Axes>"
      ]
     },
     "metadata": {
      "needs_background": "light"
     },
     "output_type": "display_data"
    }
   ],
   "source": [
    "y3 = mlb_seasons_difference * 10000\n",
    "y4 = mlb_seasons_difference * 0\n",
    "\n",
    "plt.plot(y3, color='orange', linewidth=4, label='Rating performance compared to Elo in basis points')\n",
    "plt.plot(y4, color='black', linewidth=1)\n",
    "plt.legend()"
   ]
  },
  {
   "cell_type": "markdown",
   "metadata": {},
   "source": [
    "Just focusing on seasons since 2000, we see that both methods of predicting the outcome are between 55 and 60% correct by season. Starting with the 2012 season, the rating indicator has outperformed the elo indicator by between 50 and 200 basis points per season."
   ]
  },
  {
   "cell_type": "markdown",
   "metadata": {},
   "source": [
    "The next part I'm going to look at is performance in games where the elo rating and FiveThirtyEight rating were different."
   ]
  },
  {
   "cell_type": "code",
   "execution_count": 223,
   "metadata": {},
   "outputs": [
    {
     "name": "stdout",
     "output_type": "stream",
     "text": [
      "<class 'pandas.core.frame.DataFrame'>\n",
      "Int64Index: 7479 entries, 12 to 219203\n",
      "Data columns (total 20 columns):\n",
      " #   Column              Non-Null Count  Dtype  \n",
      "---  ------              --------------  -----  \n",
      " 0   season              7479 non-null   int64  \n",
      " 1   team1               7479 non-null   object \n",
      " 2   team2               7479 non-null   object \n",
      " 3   elo1_pre            7479 non-null   float64\n",
      " 4   elo2_pre            7479 non-null   float64\n",
      " 5   elo_prob1           7479 non-null   float64\n",
      " 6   elo_prob2           7479 non-null   float64\n",
      " 7   rating1_pre         7479 non-null   float64\n",
      " 8   rating2_pre         7479 non-null   float64\n",
      " 9   rating_prob1        7479 non-null   float64\n",
      " 10  rating_prob2        7479 non-null   float64\n",
      " 11  score1              7479 non-null   float64\n",
      " 12  score2              7479 non-null   float64\n",
      " 13  decade              7479 non-null   float64\n",
      " 14  winning team        7479 non-null   object \n",
      " 15  elo prediction      7479 non-null   object \n",
      " 16  rating prediction   7479 non-null   object \n",
      " 17  elo performance     7479 non-null   int64  \n",
      " 18  rating performance  7479 non-null   int64  \n",
      " 19  same prediction     7479 non-null   int64  \n",
      "dtypes: float64(11), int64(4), object(5)\n",
      "memory usage: 1.2+ MB\n"
     ]
    },
    {
     "data": {
      "text/plain": [
       "Home    3770\n",
       "Away    3702\n",
       "Tie        7\n",
       "Name: winning team, dtype: int64"
      ]
     },
     "execution_count": 223,
     "metadata": {},
     "output_type": "execute_result"
    }
   ],
   "source": [
    "different_predictions = mlb_data_final[mlb_data_final['same prediction'] == 0]\n",
    "different_predictions.info()\n",
    "different_predictions['winning team'].value_counts()"
   ]
  },
  {
   "cell_type": "markdown",
   "metadata": {},
   "source": [
    "There were 7479 games in which the elo prediction and rating prediction were different"
   ]
  },
  {
   "cell_type": "code",
   "execution_count": 206,
   "metadata": {},
   "outputs": [
    {
     "name": "stdout",
     "output_type": "stream",
     "text": [
      "In games with different predictions, Elo was correct 49.15% of the time.\n",
      "In games with different predictions, Rating was correct 50.76% of the time.\n",
      "The Rating prediction was 160 basis points better\n"
     ]
    }
   ],
   "source": [
    "# defining variables to calculate % correct for these games\n",
    "\n",
    "elo_count = different_predictions['elo performance'].count()\n",
    "elo_correct = sum(different_predictions['elo performance'])\n",
    "\n",
    "rating_count = different_predictions['rating performance'].count()\n",
    "rating_correct = sum(different_predictions['rating performance'])\n",
    "\n",
    "elo_percent_correct = elo_correct / elo_count\n",
    "rating_percent_correct = rating_correct / rating_count\n",
    "\n",
    "print(f'In games with different predictions, Elo was correct {elo_percent_correct * 100:.2f}% of the time.')\n",
    "print(f'In games with different predictions, Rating was correct {rating_percent_correct * 100:.2f}% of the time.')\n",
    "if elo_percent_correct > rating_percent_correct:\n",
    "    print(f'The Elo prediction was {(elo_percent_correct - rating_percent_correct) * 10000:.0f} basis points better')\n",
    "else:\n",
    "    print(f'The Rating prediction was {(rating_percent_correct - elo_percent_correct) * 10000:.0f} basis points better')"
   ]
  },
  {
   "cell_type": "markdown",
   "metadata": {},
   "source": [
    "Let's take a look at how these games break down by decade"
   ]
  },
  {
   "cell_type": "code",
   "execution_count": 228,
   "metadata": {},
   "outputs": [
    {
     "data": {
      "text/plain": [
       "decade\n",
       "1870.0    55.000000\n",
       "1880.0    52.380952\n",
       "1890.0    47.500000\n",
       "1900.0    50.909091\n",
       "1910.0    54.966887\n",
       "1920.0    46.969697\n",
       "1930.0    51.366120\n",
       "1940.0    51.308901\n",
       "1950.0    50.625000\n",
       "1960.0    46.992481\n",
       "1970.0    47.904192\n",
       "1980.0    53.524229\n",
       "1990.0    51.379310\n",
       "2000.0    49.968414\n",
       "2010.0    47.580645\n",
       "2020.0    46.153846\n",
       "Name: elo performance, dtype: float64"
      ]
     },
     "execution_count": 228,
     "metadata": {},
     "output_type": "execute_result"
    },
    {
     "data": {
      "text/plain": [
       "decade\n",
       "1870.0    40.000000\n",
       "1880.0    47.619048\n",
       "1890.0    52.500000\n",
       "1900.0    49.090909\n",
       "1910.0    43.046358\n",
       "1920.0    52.525253\n",
       "1930.0    48.633880\n",
       "1940.0    48.167539\n",
       "1950.0    48.750000\n",
       "1960.0    53.007519\n",
       "1970.0    52.095808\n",
       "1980.0    46.475771\n",
       "1990.0    48.620690\n",
       "2000.0    50.031586\n",
       "2010.0    52.419355\n",
       "2020.0    53.846154\n",
       "Name: rating performance, dtype: float64"
      ]
     },
     "execution_count": 228,
     "metadata": {},
     "output_type": "execute_result"
    },
    {
     "data": {
      "text/plain": [
       "decade\n",
       "1870.0   -1500.000000\n",
       "1880.0    -476.190476\n",
       "1890.0     500.000000\n",
       "1900.0    -181.818182\n",
       "1910.0   -1192.052980\n",
       "1920.0     555.555556\n",
       "1930.0    -273.224044\n",
       "1940.0    -314.136126\n",
       "1950.0    -187.500000\n",
       "1960.0     601.503759\n",
       "1970.0     419.161677\n",
       "1980.0    -704.845815\n",
       "1990.0    -275.862069\n",
       "2000.0       6.317119\n",
       "2010.0     483.870968\n",
       "2020.0     769.230769\n",
       "dtype: float64"
      ]
     },
     "execution_count": 228,
     "metadata": {},
     "output_type": "execute_result"
    },
    {
     "data": {
      "text/html": [
       "<div>\n",
       "<style scoped>\n",
       "    .dataframe tbody tr th:only-of-type {\n",
       "        vertical-align: middle;\n",
       "    }\n",
       "\n",
       "    .dataframe tbody tr th {\n",
       "        vertical-align: top;\n",
       "    }\n",
       "\n",
       "    .dataframe thead th {\n",
       "        text-align: right;\n",
       "    }\n",
       "</style>\n",
       "<table border=\"1\" class=\"dataframe\">\n",
       "  <thead>\n",
       "    <tr style=\"text-align: right;\">\n",
       "      <th></th>\n",
       "      <th>season</th>\n",
       "      <th>team1</th>\n",
       "      <th>team2</th>\n",
       "      <th>elo1_pre</th>\n",
       "      <th>elo2_pre</th>\n",
       "      <th>elo_prob1</th>\n",
       "      <th>elo_prob2</th>\n",
       "      <th>rating1_pre</th>\n",
       "      <th>rating2_pre</th>\n",
       "      <th>rating_prob1</th>\n",
       "      <th>rating_prob2</th>\n",
       "      <th>score1</th>\n",
       "      <th>score2</th>\n",
       "      <th>decade</th>\n",
       "      <th>winning team</th>\n",
       "      <th>elo prediction</th>\n",
       "      <th>rating prediction</th>\n",
       "      <th>elo performance</th>\n",
       "      <th>rating performance</th>\n",
       "      <th>same prediction</th>\n",
       "    </tr>\n",
       "  </thead>\n",
       "  <tbody>\n",
       "    <tr>\n",
       "      <th>218189</th>\n",
       "      <td>1875</td>\n",
       "      <td>NY2</td>\n",
       "      <td>PH2</td>\n",
       "      <td>1501.144</td>\n",
       "      <td>1523.670</td>\n",
       "      <td>0.502121</td>\n",
       "      <td>0.497879</td>\n",
       "      <td>1501.571</td>\n",
       "      <td>1523.717</td>\n",
       "      <td>0.496048</td>\n",
       "      <td>0.503952</td>\n",
       "      <td>3.0</td>\n",
       "      <td>14.0</td>\n",
       "      <td>1870.0</td>\n",
       "      <td>Away</td>\n",
       "      <td>Home</td>\n",
       "      <td>Away</td>\n",
       "      <td>0</td>\n",
       "      <td>1</td>\n",
       "      <td>0</td>\n",
       "    </tr>\n",
       "    <tr>\n",
       "      <th>218228</th>\n",
       "      <td>1875</td>\n",
       "      <td>CHC</td>\n",
       "      <td>PH2</td>\n",
       "      <td>1494.151</td>\n",
       "      <td>1518.690</td>\n",
       "      <td>0.499224</td>\n",
       "      <td>0.500776</td>\n",
       "      <td>1494.588</td>\n",
       "      <td>1518.700</td>\n",
       "      <td>0.509767</td>\n",
       "      <td>0.490233</td>\n",
       "      <td>0.0</td>\n",
       "      <td>5.0</td>\n",
       "      <td>1870.0</td>\n",
       "      <td>Away</td>\n",
       "      <td>Away</td>\n",
       "      <td>Home</td>\n",
       "      <td>1</td>\n",
       "      <td>0</td>\n",
       "      <td>0</td>\n",
       "    </tr>\n",
       "    <tr>\n",
       "      <th>218238</th>\n",
       "      <td>1875</td>\n",
       "      <td>CHC</td>\n",
       "      <td>HR1</td>\n",
       "      <td>1491.160</td>\n",
       "      <td>1515.861</td>\n",
       "      <td>0.498991</td>\n",
       "      <td>0.501009</td>\n",
       "      <td>1491.760</td>\n",
       "      <td>1516.002</td>\n",
       "      <td>0.509580</td>\n",
       "      <td>0.490420</td>\n",
       "      <td>1.0</td>\n",
       "      <td>1.0</td>\n",
       "      <td>1870.0</td>\n",
       "      <td>Tie</td>\n",
       "      <td>Away</td>\n",
       "      <td>Home</td>\n",
       "      <td>0</td>\n",
       "      <td>0</td>\n",
       "      <td>0</td>\n",
       "    </tr>\n",
       "    <tr>\n",
       "      <th>218239</th>\n",
       "      <td>1875</td>\n",
       "      <td>SL2</td>\n",
       "      <td>HR1</td>\n",
       "      <td>1490.333</td>\n",
       "      <td>1514.497</td>\n",
       "      <td>0.499764</td>\n",
       "      <td>0.500236</td>\n",
       "      <td>1490.814</td>\n",
       "      <td>1514.636</td>\n",
       "      <td>0.500256</td>\n",
       "      <td>0.499744</td>\n",
       "      <td>0.0</td>\n",
       "      <td>3.0</td>\n",
       "      <td>1870.0</td>\n",
       "      <td>Away</td>\n",
       "      <td>Away</td>\n",
       "      <td>Home</td>\n",
       "      <td>1</td>\n",
       "      <td>0</td>\n",
       "      <td>0</td>\n",
       "    </tr>\n",
       "    <tr>\n",
       "      <th>218326</th>\n",
       "      <td>1875</td>\n",
       "      <td>HR1</td>\n",
       "      <td>PH2</td>\n",
       "      <td>1493.205</td>\n",
       "      <td>1517.006</td>\n",
       "      <td>0.500286</td>\n",
       "      <td>0.499714</td>\n",
       "      <td>1492.790</td>\n",
       "      <td>1517.268</td>\n",
       "      <td>0.496002</td>\n",
       "      <td>0.503998</td>\n",
       "      <td>14.0</td>\n",
       "      <td>5.0</td>\n",
       "      <td>1870.0</td>\n",
       "      <td>Home</td>\n",
       "      <td>Home</td>\n",
       "      <td>Away</td>\n",
       "      <td>1</td>\n",
       "      <td>0</td>\n",
       "      <td>0</td>\n",
       "    </tr>\n",
       "    <tr>\n",
       "      <th>218368</th>\n",
       "      <td>1875</td>\n",
       "      <td>SL2</td>\n",
       "      <td>HR1</td>\n",
       "      <td>1470.588</td>\n",
       "      <td>1495.014</td>\n",
       "      <td>0.499387</td>\n",
       "      <td>0.500613</td>\n",
       "      <td>1470.579</td>\n",
       "      <td>1494.608</td>\n",
       "      <td>0.503268</td>\n",
       "      <td>0.496732</td>\n",
       "      <td>7.0</td>\n",
       "      <td>1.0</td>\n",
       "      <td>1870.0</td>\n",
       "      <td>Home</td>\n",
       "      <td>Away</td>\n",
       "      <td>Home</td>\n",
       "      <td>0</td>\n",
       "      <td>1</td>\n",
       "      <td>0</td>\n",
       "    </tr>\n",
       "    <tr>\n",
       "      <th>218659</th>\n",
       "      <td>1874</td>\n",
       "      <td>BR2</td>\n",
       "      <td>CHC</td>\n",
       "      <td>1440.162</td>\n",
       "      <td>1467.505</td>\n",
       "      <td>0.495189</td>\n",
       "      <td>0.504811</td>\n",
       "      <td>1440.342</td>\n",
       "      <td>1467.650</td>\n",
       "      <td>0.501859</td>\n",
       "      <td>0.498141</td>\n",
       "      <td>3.0</td>\n",
       "      <td>5.0</td>\n",
       "      <td>1870.0</td>\n",
       "      <td>Away</td>\n",
       "      <td>Away</td>\n",
       "      <td>Home</td>\n",
       "      <td>1</td>\n",
       "      <td>0</td>\n",
       "      <td>0</td>\n",
       "    </tr>\n",
       "    <tr>\n",
       "      <th>218675</th>\n",
       "      <td>1874</td>\n",
       "      <td>BL1</td>\n",
       "      <td>PH2</td>\n",
       "      <td>1473.032</td>\n",
       "      <td>1503.968</td>\n",
       "      <td>0.490020</td>\n",
       "      <td>0.509980</td>\n",
       "      <td>1475.532</td>\n",
       "      <td>1503.337</td>\n",
       "      <td>0.501144</td>\n",
       "      <td>0.498856</td>\n",
       "      <td>5.0</td>\n",
       "      <td>9.0</td>\n",
       "      <td>1870.0</td>\n",
       "      <td>Away</td>\n",
       "      <td>Away</td>\n",
       "      <td>Home</td>\n",
       "      <td>1</td>\n",
       "      <td>0</td>\n",
       "      <td>0</td>\n",
       "    </tr>\n",
       "    <tr>\n",
       "      <th>218694</th>\n",
       "      <td>1874</td>\n",
       "      <td>BL1</td>\n",
       "      <td>NY2</td>\n",
       "      <td>1478.560</td>\n",
       "      <td>1508.604</td>\n",
       "      <td>0.491303</td>\n",
       "      <td>0.508697</td>\n",
       "      <td>1481.206</td>\n",
       "      <td>1509.115</td>\n",
       "      <td>0.500994</td>\n",
       "      <td>0.499006</td>\n",
       "      <td>1.0</td>\n",
       "      <td>8.0</td>\n",
       "      <td>1870.0</td>\n",
       "      <td>Away</td>\n",
       "      <td>Away</td>\n",
       "      <td>Home</td>\n",
       "      <td>1</td>\n",
       "      <td>0</td>\n",
       "      <td>0</td>\n",
       "    </tr>\n",
       "    <tr>\n",
       "      <th>218761</th>\n",
       "      <td>1873</td>\n",
       "      <td>PH1</td>\n",
       "      <td>BL1</td>\n",
       "      <td>1515.147</td>\n",
       "      <td>1536.887</td>\n",
       "      <td>0.503252</td>\n",
       "      <td>0.496748</td>\n",
       "      <td>1514.960</td>\n",
       "      <td>1540.480</td>\n",
       "      <td>0.497813</td>\n",
       "      <td>0.502187</td>\n",
       "      <td>13.0</td>\n",
       "      <td>6.0</td>\n",
       "      <td>1870.0</td>\n",
       "      <td>Home</td>\n",
       "      <td>Home</td>\n",
       "      <td>Away</td>\n",
       "      <td>1</td>\n",
       "      <td>0</td>\n",
       "      <td>0</td>\n",
       "    </tr>\n",
       "    <tr>\n",
       "      <th>218834</th>\n",
       "      <td>1873</td>\n",
       "      <td>PH2</td>\n",
       "      <td>BL1</td>\n",
       "      <td>1507.121</td>\n",
       "      <td>1529.027</td>\n",
       "      <td>0.503013</td>\n",
       "      <td>0.496987</td>\n",
       "      <td>1506.838</td>\n",
       "      <td>1533.404</td>\n",
       "      <td>0.496307</td>\n",
       "      <td>0.503693</td>\n",
       "      <td>4.0</td>\n",
       "      <td>5.0</td>\n",
       "      <td>1870.0</td>\n",
       "      <td>Away</td>\n",
       "      <td>Home</td>\n",
       "      <td>Away</td>\n",
       "      <td>0</td>\n",
       "      <td>1</td>\n",
       "      <td>0</td>\n",
       "    </tr>\n",
       "    <tr>\n",
       "      <th>218923</th>\n",
       "      <td>1873</td>\n",
       "      <td>ELI</td>\n",
       "      <td>PH2</td>\n",
       "      <td>1442.655</td>\n",
       "      <td>1467.607</td>\n",
       "      <td>0.498630</td>\n",
       "      <td>0.501370</td>\n",
       "      <td>1442.567</td>\n",
       "      <td>1467.497</td>\n",
       "      <td>0.508591</td>\n",
       "      <td>0.491409</td>\n",
       "      <td>3.0</td>\n",
       "      <td>6.0</td>\n",
       "      <td>1870.0</td>\n",
       "      <td>Away</td>\n",
       "      <td>Away</td>\n",
       "      <td>Home</td>\n",
       "      <td>1</td>\n",
       "      <td>0</td>\n",
       "      <td>0</td>\n",
       "    </tr>\n",
       "    <tr>\n",
       "      <th>218977</th>\n",
       "      <td>1872</td>\n",
       "      <td>NY2</td>\n",
       "      <td>PH1</td>\n",
       "      <td>1502.412</td>\n",
       "      <td>1527.073</td>\n",
       "      <td>0.499049</td>\n",
       "      <td>0.500951</td>\n",
       "      <td>1503.774</td>\n",
       "      <td>1526.813</td>\n",
       "      <td>0.501383</td>\n",
       "      <td>0.498617</td>\n",
       "      <td>10.0</td>\n",
       "      <td>3.0</td>\n",
       "      <td>1870.0</td>\n",
       "      <td>Home</td>\n",
       "      <td>Away</td>\n",
       "      <td>Home</td>\n",
       "      <td>0</td>\n",
       "      <td>1</td>\n",
       "      <td>0</td>\n",
       "    </tr>\n",
       "    <tr>\n",
       "      <th>219079</th>\n",
       "      <td>1872</td>\n",
       "      <td>NY2</td>\n",
       "      <td>PH1</td>\n",
       "      <td>1480.482</td>\n",
       "      <td>1507.630</td>\n",
       "      <td>0.495470</td>\n",
       "      <td>0.504530</td>\n",
       "      <td>1481.686</td>\n",
       "      <td>1507.186</td>\n",
       "      <td>0.501151</td>\n",
       "      <td>0.498849</td>\n",
       "      <td>3.0</td>\n",
       "      <td>2.0</td>\n",
       "      <td>1870.0</td>\n",
       "      <td>Home</td>\n",
       "      <td>Away</td>\n",
       "      <td>Home</td>\n",
       "      <td>0</td>\n",
       "      <td>1</td>\n",
       "      <td>0</td>\n",
       "    </tr>\n",
       "    <tr>\n",
       "      <th>219084</th>\n",
       "      <td>1872</td>\n",
       "      <td>CL1</td>\n",
       "      <td>BL1</td>\n",
       "      <td>1447.360</td>\n",
       "      <td>1472.032</td>\n",
       "      <td>0.499033</td>\n",
       "      <td>0.500967</td>\n",
       "      <td>1448.357</td>\n",
       "      <td>1472.013</td>\n",
       "      <td>0.500495</td>\n",
       "      <td>0.499505</td>\n",
       "      <td>2.0</td>\n",
       "      <td>5.0</td>\n",
       "      <td>1870.0</td>\n",
       "      <td>Away</td>\n",
       "      <td>Away</td>\n",
       "      <td>Home</td>\n",
       "      <td>1</td>\n",
       "      <td>0</td>\n",
       "      <td>0</td>\n",
       "    </tr>\n",
       "    <tr>\n",
       "      <th>219105</th>\n",
       "      <td>1872</td>\n",
       "      <td>BL1</td>\n",
       "      <td>TRO</td>\n",
       "      <td>1464.636</td>\n",
       "      <td>1490.443</td>\n",
       "      <td>0.497400</td>\n",
       "      <td>0.502600</td>\n",
       "      <td>1464.833</td>\n",
       "      <td>1490.987</td>\n",
       "      <td>0.503520</td>\n",
       "      <td>0.496480</td>\n",
       "      <td>8.0</td>\n",
       "      <td>1.0</td>\n",
       "      <td>1870.0</td>\n",
       "      <td>Home</td>\n",
       "      <td>Away</td>\n",
       "      <td>Home</td>\n",
       "      <td>0</td>\n",
       "      <td>1</td>\n",
       "      <td>0</td>\n",
       "    </tr>\n",
       "    <tr>\n",
       "      <th>219128</th>\n",
       "      <td>1872</td>\n",
       "      <td>WS4</td>\n",
       "      <td>NY2</td>\n",
       "      <td>1443.659</td>\n",
       "      <td>1470.113</td>\n",
       "      <td>0.496468</td>\n",
       "      <td>0.503532</td>\n",
       "      <td>1443.659</td>\n",
       "      <td>1471.288</td>\n",
       "      <td>0.504707</td>\n",
       "      <td>0.495293</td>\n",
       "      <td>7.0</td>\n",
       "      <td>11.0</td>\n",
       "      <td>1870.0</td>\n",
       "      <td>Away</td>\n",
       "      <td>Away</td>\n",
       "      <td>Home</td>\n",
       "      <td>1</td>\n",
       "      <td>0</td>\n",
       "      <td>0</td>\n",
       "    </tr>\n",
       "    <tr>\n",
       "      <th>219166</th>\n",
       "      <td>1871</td>\n",
       "      <td>NY2</td>\n",
       "      <td>ATL</td>\n",
       "      <td>1444.530</td>\n",
       "      <td>1467.015</td>\n",
       "      <td>0.502180</td>\n",
       "      <td>0.497820</td>\n",
       "      <td>1445.458</td>\n",
       "      <td>1466.886</td>\n",
       "      <td>0.493772</td>\n",
       "      <td>0.506228</td>\n",
       "      <td>15.0</td>\n",
       "      <td>11.0</td>\n",
       "      <td>1870.0</td>\n",
       "      <td>Home</td>\n",
       "      <td>Home</td>\n",
       "      <td>Away</td>\n",
       "      <td>1</td>\n",
       "      <td>0</td>\n",
       "      <td>0</td>\n",
       "    </tr>\n",
       "    <tr>\n",
       "      <th>219180</th>\n",
       "      <td>1871</td>\n",
       "      <td>RC1</td>\n",
       "      <td>NY2</td>\n",
       "      <td>1428.578</td>\n",
       "      <td>1452.771</td>\n",
       "      <td>0.499722</td>\n",
       "      <td>0.500278</td>\n",
       "      <td>1428.511</td>\n",
       "      <td>1453.116</td>\n",
       "      <td>0.502439</td>\n",
       "      <td>0.497561</td>\n",
       "      <td>18.0</td>\n",
       "      <td>5.0</td>\n",
       "      <td>1870.0</td>\n",
       "      <td>Home</td>\n",
       "      <td>Away</td>\n",
       "      <td>Home</td>\n",
       "      <td>0</td>\n",
       "      <td>1</td>\n",
       "      <td>0</td>\n",
       "    </tr>\n",
       "    <tr>\n",
       "      <th>219203</th>\n",
       "      <td>1871</td>\n",
       "      <td>TRO</td>\n",
       "      <td>NY2</td>\n",
       "      <td>1438.481</td>\n",
       "      <td>1463.116</td>\n",
       "      <td>0.499086</td>\n",
       "      <td>0.500914</td>\n",
       "      <td>1439.060</td>\n",
       "      <td>1462.848</td>\n",
       "      <td>0.500305</td>\n",
       "      <td>0.499695</td>\n",
       "      <td>37.0</td>\n",
       "      <td>16.0</td>\n",
       "      <td>1870.0</td>\n",
       "      <td>Home</td>\n",
       "      <td>Away</td>\n",
       "      <td>Home</td>\n",
       "      <td>0</td>\n",
       "      <td>1</td>\n",
       "      <td>0</td>\n",
       "    </tr>\n",
       "  </tbody>\n",
       "</table>\n",
       "</div>"
      ],
      "text/plain": [
       "        season team1 team2  elo1_pre  elo2_pre  elo_prob1  elo_prob2  \\\n",
       "218189    1875   NY2   PH2  1501.144  1523.670   0.502121   0.497879   \n",
       "218228    1875   CHC   PH2  1494.151  1518.690   0.499224   0.500776   \n",
       "218238    1875   CHC   HR1  1491.160  1515.861   0.498991   0.501009   \n",
       "218239    1875   SL2   HR1  1490.333  1514.497   0.499764   0.500236   \n",
       "218326    1875   HR1   PH2  1493.205  1517.006   0.500286   0.499714   \n",
       "218368    1875   SL2   HR1  1470.588  1495.014   0.499387   0.500613   \n",
       "218659    1874   BR2   CHC  1440.162  1467.505   0.495189   0.504811   \n",
       "218675    1874   BL1   PH2  1473.032  1503.968   0.490020   0.509980   \n",
       "218694    1874   BL1   NY2  1478.560  1508.604   0.491303   0.508697   \n",
       "218761    1873   PH1   BL1  1515.147  1536.887   0.503252   0.496748   \n",
       "218834    1873   PH2   BL1  1507.121  1529.027   0.503013   0.496987   \n",
       "218923    1873   ELI   PH2  1442.655  1467.607   0.498630   0.501370   \n",
       "218977    1872   NY2   PH1  1502.412  1527.073   0.499049   0.500951   \n",
       "219079    1872   NY2   PH1  1480.482  1507.630   0.495470   0.504530   \n",
       "219084    1872   CL1   BL1  1447.360  1472.032   0.499033   0.500967   \n",
       "219105    1872   BL1   TRO  1464.636  1490.443   0.497400   0.502600   \n",
       "219128    1872   WS4   NY2  1443.659  1470.113   0.496468   0.503532   \n",
       "219166    1871   NY2   ATL  1444.530  1467.015   0.502180   0.497820   \n",
       "219180    1871   RC1   NY2  1428.578  1452.771   0.499722   0.500278   \n",
       "219203    1871   TRO   NY2  1438.481  1463.116   0.499086   0.500914   \n",
       "\n",
       "        rating1_pre  rating2_pre  rating_prob1  rating_prob2  score1  score2  \\\n",
       "218189     1501.571     1523.717      0.496048      0.503952     3.0    14.0   \n",
       "218228     1494.588     1518.700      0.509767      0.490233     0.0     5.0   \n",
       "218238     1491.760     1516.002      0.509580      0.490420     1.0     1.0   \n",
       "218239     1490.814     1514.636      0.500256      0.499744     0.0     3.0   \n",
       "218326     1492.790     1517.268      0.496002      0.503998    14.0     5.0   \n",
       "218368     1470.579     1494.608      0.503268      0.496732     7.0     1.0   \n",
       "218659     1440.342     1467.650      0.501859      0.498141     3.0     5.0   \n",
       "218675     1475.532     1503.337      0.501144      0.498856     5.0     9.0   \n",
       "218694     1481.206     1509.115      0.500994      0.499006     1.0     8.0   \n",
       "218761     1514.960     1540.480      0.497813      0.502187    13.0     6.0   \n",
       "218834     1506.838     1533.404      0.496307      0.503693     4.0     5.0   \n",
       "218923     1442.567     1467.497      0.508591      0.491409     3.0     6.0   \n",
       "218977     1503.774     1526.813      0.501383      0.498617    10.0     3.0   \n",
       "219079     1481.686     1507.186      0.501151      0.498849     3.0     2.0   \n",
       "219084     1448.357     1472.013      0.500495      0.499505     2.0     5.0   \n",
       "219105     1464.833     1490.987      0.503520      0.496480     8.0     1.0   \n",
       "219128     1443.659     1471.288      0.504707      0.495293     7.0    11.0   \n",
       "219166     1445.458     1466.886      0.493772      0.506228    15.0    11.0   \n",
       "219180     1428.511     1453.116      0.502439      0.497561    18.0     5.0   \n",
       "219203     1439.060     1462.848      0.500305      0.499695    37.0    16.0   \n",
       "\n",
       "        decade winning team elo prediction rating prediction  elo performance  \\\n",
       "218189  1870.0         Away           Home              Away                0   \n",
       "218228  1870.0         Away           Away              Home                1   \n",
       "218238  1870.0          Tie           Away              Home                0   \n",
       "218239  1870.0         Away           Away              Home                1   \n",
       "218326  1870.0         Home           Home              Away                1   \n",
       "218368  1870.0         Home           Away              Home                0   \n",
       "218659  1870.0         Away           Away              Home                1   \n",
       "218675  1870.0         Away           Away              Home                1   \n",
       "218694  1870.0         Away           Away              Home                1   \n",
       "218761  1870.0         Home           Home              Away                1   \n",
       "218834  1870.0         Away           Home              Away                0   \n",
       "218923  1870.0         Away           Away              Home                1   \n",
       "218977  1870.0         Home           Away              Home                0   \n",
       "219079  1870.0         Home           Away              Home                0   \n",
       "219084  1870.0         Away           Away              Home                1   \n",
       "219105  1870.0         Home           Away              Home                0   \n",
       "219128  1870.0         Away           Away              Home                1   \n",
       "219166  1870.0         Home           Home              Away                1   \n",
       "219180  1870.0         Home           Away              Home                0   \n",
       "219203  1870.0         Home           Away              Home                0   \n",
       "\n",
       "        rating performance  same prediction  \n",
       "218189                   1                0  \n",
       "218228                   0                0  \n",
       "218238                   0                0  \n",
       "218239                   0                0  \n",
       "218326                   0                0  \n",
       "218368                   1                0  \n",
       "218659                   0                0  \n",
       "218675                   0                0  \n",
       "218694                   0                0  \n",
       "218761                   0                0  \n",
       "218834                   1                0  \n",
       "218923                   0                0  \n",
       "218977                   1                0  \n",
       "219079                   1                0  \n",
       "219084                   0                0  \n",
       "219105                   1                0  \n",
       "219128                   0                0  \n",
       "219166                   0                0  \n",
       "219180                   1                0  \n",
       "219203                   1                0  "
      ]
     },
     "execution_count": 228,
     "metadata": {},
     "output_type": "execute_result"
    }
   ],
   "source": [
    "mlb_different_sum = different_predictions.groupby(by='decade').sum()\n",
    "mlb_different_count = different_predictions.groupby(by='decade').count()\n",
    "\n",
    "mlb_different_elo_correct = mlb_different_sum['elo performance'] / mlb_different_count['elo performance']\n",
    "mlb_different_rating_correct = mlb_different_sum['rating performance'] / mlb_different_count['rating performance']\n",
    "mlb_different_difference = mlb_different_rating_correct - mlb_different_elo_correct\n",
    "\n",
    "mlb_different_elo_correct * 100\n",
    "mlb_different_rating_correct * 100\n",
    "mlb_different_difference * 10000\n",
    "\n",
    "different_predictions[different_predictions['decade'] == 1870]"
   ]
  },
  {
   "cell_type": "markdown",
   "metadata": {},
   "source": [
    "Note: The Elo % correct and Rating % correct don't always add up to 100, you can see in the case of a tie above that neither prediction is correct"
   ]
  },
  {
   "cell_type": "code",
   "execution_count": 232,
   "metadata": {},
   "outputs": [
    {
     "data": {
      "text/plain": [
       "<BarContainer object of 16 artists>"
      ]
     },
     "execution_count": 232,
     "metadata": {},
     "output_type": "execute_result"
    },
    {
     "data": {
      "image/png": "[encoded data removed]",
      "text/plain": [
       "<Figure size 432x288 with 1 Axes>"
      ]
     },
     "metadata": {
      "needs_background": "light"
     },
     "output_type": "display_data"
    }
   ],
   "source": [
    "x = ['1870','1880','1890','1900','1910','1920','1930','1940','1950','1960','1970','1980','1990','2000','2010','2020']\n",
    "\n",
    "plt.bar(x, mlb_different_count['winning team'])"
   ]
  },
  {
   "cell_type": "code",
   "execution_count": 237,
   "metadata": {},
   "outputs": [
    {
     "data": {
      "text/plain": [
       "[<matplotlib.lines.Line2D at 0x10155d170d0>]"
      ]
     },
     "execution_count": 237,
     "metadata": {},
     "output_type": "execute_result"
    },
    {
     "data": {
      "text/plain": [
       "[<matplotlib.lines.Line2D at 0x10155d17430>]"
      ]
     },
     "execution_count": 237,
     "metadata": {},
     "output_type": "execute_result"
    },
    {
     "data": {
      "text/plain": [
       "<matplotlib.legend.Legend at 0x10155d0c070>"
      ]
     },
     "execution_count": 237,
     "metadata": {},
     "output_type": "execute_result"
    },
    {
     "data": {
      "image/png": "[encoded data removed]",
      "text/plain": [
       "<Figure size 432x288 with 1 Axes>"
      ]
     },
     "metadata": {
      "needs_background": "light"
     },
     "output_type": "display_data"
    }
   ],
   "source": [
    "plt.plot(mlb_different_elo_correct, label='Elo Correct')\n",
    "plt.plot(mlb_different_rating_correct, label='Rating Correct')\n",
    "plt.legend()"
   ]
  },
  {
   "cell_type": "markdown",
   "metadata": {},
   "source": [
    "There isn't any noticeable trend by decade for which is better, but we do see that Ratings all time is 160 basis points better and the majority of predictions that were different between the two methods have occurred recently. Let's take a look at the performance by season since 2000 for games where predictions were different."
   ]
  },
  {
   "cell_type": "code",
   "execution_count": 239,
   "metadata": {},
   "outputs": [
    {
     "name": "stdout",
     "output_type": "stream",
     "text": [
      "<class 'pandas.core.frame.DataFrame'>\n",
      "Int64Index: 4826 entries, 12 to 49451\n",
      "Data columns (total 20 columns):\n",
      " #   Column              Non-Null Count  Dtype  \n",
      "---  ------              --------------  -----  \n",
      " 0   season              4826 non-null   int64  \n",
      " 1   team1               4826 non-null   object \n",
      " 2   team2               4826 non-null   object \n",
      " 3   elo1_pre            4826 non-null   float64\n",
      " 4   elo2_pre            4826 non-null   float64\n",
      " 5   elo_prob1           4826 non-null   float64\n",
      " 6   elo_prob2           4826 non-null   float64\n",
      " 7   rating1_pre         4826 non-null   float64\n",
      " 8   rating2_pre         4826 non-null   float64\n",
      " 9   rating_prob1        4826 non-null   float64\n",
      " 10  rating_prob2        4826 non-null   float64\n",
      " 11  score1              4826 non-null   float64\n",
      " 12  score2              4826 non-null   float64\n",
      " 13  decade              4826 non-null   float64\n",
      " 14  winning team        4826 non-null   object \n",
      " 15  elo prediction      4826 non-null   object \n",
      " 16  rating prediction   4826 non-null   object \n",
      " 17  elo performance     4826 non-null   int64  \n",
      " 18  rating performance  4826 non-null   int64  \n",
      " 19  same prediction     4826 non-null   int64  \n",
      "dtypes: float64(11), int64(4), object(5)\n",
      "memory usage: 791.8+ KB\n"
     ]
    }
   ],
   "source": [
    "mlb_data_different_focus = different_predictions[different_predictions['decade'] >= 2000]\n",
    "mlb_data_different_focus.info()"
   ]
  },
  {
   "cell_type": "code",
   "execution_count": 240,
   "metadata": {},
   "outputs": [
    {
     "data": {
      "text/plain": [
       "season\n",
       "2000    57.746479\n",
       "2001    49.438202\n",
       "2002    50.980392\n",
       "2003    50.000000\n",
       "2004    56.692913\n",
       "2005    52.564103\n",
       "2006    50.526316\n",
       "2007    46.502058\n",
       "2008    45.991561\n",
       "2009    49.305556\n",
       "2010    55.600000\n",
       "2011    52.296820\n",
       "2012    50.488599\n",
       "2013    41.538462\n",
       "2014    48.122867\n",
       "2015    48.051948\n",
       "2016    43.684211\n",
       "2017    46.932515\n",
       "2018    43.511450\n",
       "2019    48.096886\n",
       "2020    46.153846\n",
       "Name: elo performance, dtype: float64"
      ]
     },
     "execution_count": 240,
     "metadata": {},
     "output_type": "execute_result"
    },
    {
     "data": {
      "text/plain": [
       "season\n",
       "2000    42.253521\n",
       "2001    50.561798\n",
       "2002    49.019608\n",
       "2003    50.000000\n",
       "2004    43.307087\n",
       "2005    47.435897\n",
       "2006    49.473684\n",
       "2007    53.497942\n",
       "2008    54.008439\n",
       "2009    50.694444\n",
       "2010    44.400000\n",
       "2011    47.703180\n",
       "2012    49.511401\n",
       "2013    58.461538\n",
       "2014    51.877133\n",
       "2015    51.948052\n",
       "2016    56.315789\n",
       "2017    53.067485\n",
       "2018    56.488550\n",
       "2019    51.903114\n",
       "2020    53.846154\n",
       "Name: rating performance, dtype: float64"
      ]
     },
     "execution_count": 240,
     "metadata": {},
     "output_type": "execute_result"
    },
    {
     "data": {
      "text/plain": [
       "season\n",
       "2000   -1549.295775\n",
       "2001     112.359551\n",
       "2002    -196.078431\n",
       "2003       0.000000\n",
       "2004   -1338.582677\n",
       "2005    -512.820513\n",
       "2006    -105.263158\n",
       "2007     699.588477\n",
       "2008     801.687764\n",
       "2009     138.888889\n",
       "2010   -1120.000000\n",
       "2011    -459.363958\n",
       "2012     -97.719870\n",
       "2013    1692.307692\n",
       "2014     375.426621\n",
       "2015     389.610390\n",
       "2016    1263.157895\n",
       "2017     613.496933\n",
       "2018    1297.709924\n",
       "2019     380.622837\n",
       "2020     769.230769\n",
       "dtype: float64"
      ]
     },
     "execution_count": 240,
     "metadata": {},
     "output_type": "execute_result"
    }
   ],
   "source": [
    "mlb_different_seasons_sum = mlb_data_different_focus.groupby(by='season').sum()\n",
    "mlb_different_seasons_count = mlb_data_different_focus.groupby(by='season').count()\n",
    "\n",
    "mlb_different_seasons_elo_correct = mlb_different_seasons_sum['elo performance'] / mlb_different_seasons_count['elo performance']\n",
    "mlb_different_seasons_rating_correct = mlb_different_seasons_sum['rating performance'] / mlb_different_seasons_count['rating performance']\n",
    "mlb_different_seasons_difference = mlb_different_seasons_rating_correct - mlb_different_seasons_elo_correct\n",
    "\n",
    "mlb_different_seasons_elo_correct * 100\n",
    "mlb_different_seasons_rating_correct * 100\n",
    "mlb_different_seasons_difference * 10000"
   ]
  },
  {
   "cell_type": "code",
   "execution_count": 242,
   "metadata": {},
   "outputs": [
    {
     "data": {
      "text/plain": [
       "[<matplotlib.lines.Line2D at 0x10155dec3a0>]"
      ]
     },
     "execution_count": 242,
     "metadata": {},
     "output_type": "execute_result"
    },
    {
     "data": {
      "text/plain": [
       "[<matplotlib.lines.Line2D at 0x10155dec7c0>]"
      ]
     },
     "execution_count": 242,
     "metadata": {},
     "output_type": "execute_result"
    },
    {
     "data": {
      "text/plain": [
       "<matplotlib.legend.Legend at 0x10155dec6d0>"
      ]
     },
     "execution_count": 242,
     "metadata": {},
     "output_type": "execute_result"
    },
    {
     "data": {
      "image/png": "[encoded data removed]",
      "text/plain": [
       "<Figure size 432x288 with 1 Axes>"
      ]
     },
     "metadata": {
      "needs_background": "light"
     },
     "output_type": "display_data"
    }
   ],
   "source": [
    "plt.plot(mlb_different_seasons_elo_correct, label='Elo Correct')\n",
    "plt.plot(mlb_different_seasons_rating_correct, label='Rating Correct')\n",
    "plt.legend()"
   ]
  },
  {
   "cell_type": "code",
   "execution_count": 244,
   "metadata": {},
   "outputs": [
    {
     "data": {
      "text/plain": [
       "[<matplotlib.lines.Line2D at 0x10155eb7640>]"
      ]
     },
     "execution_count": 244,
     "metadata": {},
     "output_type": "execute_result"
    },
    {
     "data": {
      "text/plain": [
       "[<matplotlib.lines.Line2D at 0x10155eb79a0>]"
      ]
     },
     "execution_count": 244,
     "metadata": {},
     "output_type": "execute_result"
    },
    {
     "data": {
      "text/plain": [
       "<matplotlib.legend.Legend at 0x10155e09100>"
      ]
     },
     "execution_count": 244,
     "metadata": {},
     "output_type": "execute_result"
    },
    {
     "data": {
      "image/png": "[encoded data removed]",
      "text/plain": [
       "<Figure size 432x288 with 1 Axes>"
      ]
     },
     "metadata": {
      "needs_background": "light"
     },
     "output_type": "display_data"
    }
   ],
   "source": [
    "plt.plot(mlb_different_seasons_difference, color='orange', linewidth=4, label='Rating performance compared to Elo in basis points')\n",
    "plt.plot(mlb_different_seasons_difference*0, color='black', linewidth=1)\n",
    "plt.legend()"
   ]
  },
  {
   "cell_type": "markdown",
   "metadata": {},
   "source": [
    "Breaking it down by season since 2000, we see that the FiveThirtyEight Rating Prediction has been significantly more accurate since 2012 which most likely is the reason that since 2012 it is a better overall predictor of baseball game outcomes."
   ]
  }
 ],
 "metadata": {
  "kernelspec": {
   "display_name": "Python 3",
   "language": "python",
   "name": "python3"
  },
  "language_info": {
   "codemirror_mode": {
    "name": "ipython",
    "version": 3
   },
   "file_extension": ".py",
   "mimetype": "text/x-python",
   "name": "python",
   "nbconvert_exporter": "python",
   "pygments_lexer": "ipython3",
   "version": "3.8.3"
  }
 },
 "nbformat": 4,
 "nbformat_minor": 1
}
